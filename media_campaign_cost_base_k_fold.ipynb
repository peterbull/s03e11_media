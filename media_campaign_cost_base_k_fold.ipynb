{
 "cells": [
  {
   "cell_type": "code",
   "execution_count": 1,
   "metadata": {},
   "outputs": [],
   "source": [
    "#| default_exp app_v1"
   ]
  },
  {
   "attachments": {},
   "cell_type": "markdown",
   "metadata": {},
   "source": [
    "#### Competition"
   ]
  },
  {
   "attachments": {},
   "cell_type": "markdown",
   "metadata": {},
   "source": [
    "[LINK](https://www.kaggle.com/competitions/playground-series-s3e11/overview)"
   ]
  },
  {
   "attachments": {},
   "cell_type": "markdown",
   "metadata": {},
   "source": [
    "#### Imports"
   ]
  },
  {
   "cell_type": "code",
   "execution_count": 2,
   "metadata": {},
   "outputs": [],
   "source": [
    "#| export\n",
    "from fastai.tabular.all import *\n",
    "from sklearn.model_selection import KFold"
   ]
  },
  {
   "attachments": {},
   "cell_type": "markdown",
   "metadata": {},
   "source": [
    "#### Downloading Datasets"
   ]
  },
  {
   "cell_type": "code",
   "execution_count": 3,
   "metadata": {},
   "outputs": [],
   "source": [
    "#| export\n",
    "try: import fastkaggle\n",
    "except ModuleNotFoundError:\n",
    "    !pip install -Uq fastkaggle\n",
    "\n",
    "from fastkaggle import *"
   ]
  },
  {
   "cell_type": "code",
   "execution_count": 4,
   "metadata": {},
   "outputs": [],
   "source": [
    "#| export\n",
    "comp = 'playground-series-s3e11'\n",
    "path = setup_comp(comp, install='fastai')"
   ]
  },
  {
   "cell_type": "code",
   "execution_count": 5,
   "metadata": {},
   "outputs": [],
   "source": [
    "# copy .gitignore template from my home directory and append project data folder to it\n",
    "if not os.path.exists('.gitignore'):\n",
    "    !cp ~/.gitignore .\n",
    "if comp not in open('.gitignore').read():\n",
    "    with open('.gitignore', 'a') as f: f.write(f'{comp}')"
   ]
  },
  {
   "attachments": {},
   "cell_type": "markdown",
   "metadata": {},
   "source": [
    "#### Create Dataframes"
   ]
  },
  {
   "cell_type": "code",
   "execution_count": 6,
   "metadata": {},
   "outputs": [],
   "source": [
    "#| export\n",
    "df_train = pd.read_csv(path/'train.csv', low_memory=False)\n",
    "df_test = pd.read_csv(path/'test.csv', low_memory=False)"
   ]
  },
  {
   "cell_type": "code",
   "execution_count": 7,
   "metadata": {},
   "outputs": [],
   "source": [
    "#| export\n",
    "df_comb = pd.concat([df_train, df_test], ignore_index=True)"
   ]
  },
  {
   "cell_type": "code",
   "execution_count": 8,
   "metadata": {},
   "outputs": [
    {
     "data": {
      "text/html": [
       "<div>\n",
       "<style scoped>\n",
       "    .dataframe tbody tr th:only-of-type {\n",
       "        vertical-align: middle;\n",
       "    }\n",
       "\n",
       "    .dataframe tbody tr th {\n",
       "        vertical-align: top;\n",
       "    }\n",
       "\n",
       "    .dataframe thead th {\n",
       "        text-align: right;\n",
       "    }\n",
       "</style>\n",
       "<table border=\"1\" class=\"dataframe\">\n",
       "  <thead>\n",
       "    <tr style=\"text-align: right;\">\n",
       "      <th></th>\n",
       "      <th>id</th>\n",
       "      <th>store_sales(in millions)</th>\n",
       "      <th>unit_sales(in millions)</th>\n",
       "      <th>total_children</th>\n",
       "      <th>num_children_at_home</th>\n",
       "      <th>avg_cars_at home(approx).1</th>\n",
       "      <th>gross_weight</th>\n",
       "      <th>recyclable_package</th>\n",
       "      <th>low_fat</th>\n",
       "      <th>units_per_case</th>\n",
       "      <th>store_sqft</th>\n",
       "      <th>coffee_bar</th>\n",
       "      <th>video_store</th>\n",
       "      <th>salad_bar</th>\n",
       "      <th>prepared_food</th>\n",
       "      <th>florist</th>\n",
       "      <th>cost</th>\n",
       "    </tr>\n",
       "  </thead>\n",
       "  <tbody>\n",
       "    <tr>\n",
       "      <th>0</th>\n",
       "      <td>0</td>\n",
       "      <td>8.61</td>\n",
       "      <td>3.0</td>\n",
       "      <td>2.0</td>\n",
       "      <td>2.0</td>\n",
       "      <td>2.0</td>\n",
       "      <td>10.30</td>\n",
       "      <td>1.0</td>\n",
       "      <td>0.0</td>\n",
       "      <td>32.0</td>\n",
       "      <td>36509.0</td>\n",
       "      <td>0.0</td>\n",
       "      <td>0.0</td>\n",
       "      <td>0.0</td>\n",
       "      <td>0.0</td>\n",
       "      <td>0.0</td>\n",
       "      <td>62.09</td>\n",
       "    </tr>\n",
       "    <tr>\n",
       "      <th>1</th>\n",
       "      <td>1</td>\n",
       "      <td>5.00</td>\n",
       "      <td>2.0</td>\n",
       "      <td>4.0</td>\n",
       "      <td>0.0</td>\n",
       "      <td>3.0</td>\n",
       "      <td>6.66</td>\n",
       "      <td>1.0</td>\n",
       "      <td>0.0</td>\n",
       "      <td>1.0</td>\n",
       "      <td>28206.0</td>\n",
       "      <td>1.0</td>\n",
       "      <td>0.0</td>\n",
       "      <td>0.0</td>\n",
       "      <td>0.0</td>\n",
       "      <td>0.0</td>\n",
       "      <td>121.80</td>\n",
       "    </tr>\n",
       "    <tr>\n",
       "      <th>2</th>\n",
       "      <td>2</td>\n",
       "      <td>14.08</td>\n",
       "      <td>4.0</td>\n",
       "      <td>0.0</td>\n",
       "      <td>0.0</td>\n",
       "      <td>3.0</td>\n",
       "      <td>21.30</td>\n",
       "      <td>1.0</td>\n",
       "      <td>0.0</td>\n",
       "      <td>26.0</td>\n",
       "      <td>21215.0</td>\n",
       "      <td>1.0</td>\n",
       "      <td>0.0</td>\n",
       "      <td>0.0</td>\n",
       "      <td>0.0</td>\n",
       "      <td>0.0</td>\n",
       "      <td>83.51</td>\n",
       "    </tr>\n",
       "    <tr>\n",
       "      <th>3</th>\n",
       "      <td>3</td>\n",
       "      <td>4.02</td>\n",
       "      <td>3.0</td>\n",
       "      <td>5.0</td>\n",
       "      <td>0.0</td>\n",
       "      <td>0.0</td>\n",
       "      <td>14.80</td>\n",
       "      <td>0.0</td>\n",
       "      <td>1.0</td>\n",
       "      <td>36.0</td>\n",
       "      <td>21215.0</td>\n",
       "      <td>1.0</td>\n",
       "      <td>0.0</td>\n",
       "      <td>0.0</td>\n",
       "      <td>0.0</td>\n",
       "      <td>0.0</td>\n",
       "      <td>66.78</td>\n",
       "    </tr>\n",
       "    <tr>\n",
       "      <th>4</th>\n",
       "      <td>4</td>\n",
       "      <td>2.13</td>\n",
       "      <td>3.0</td>\n",
       "      <td>5.0</td>\n",
       "      <td>0.0</td>\n",
       "      <td>3.0</td>\n",
       "      <td>17.00</td>\n",
       "      <td>1.0</td>\n",
       "      <td>1.0</td>\n",
       "      <td>20.0</td>\n",
       "      <td>27694.0</td>\n",
       "      <td>1.0</td>\n",
       "      <td>1.0</td>\n",
       "      <td>1.0</td>\n",
       "      <td>1.0</td>\n",
       "      <td>1.0</td>\n",
       "      <td>111.51</td>\n",
       "    </tr>\n",
       "    <tr>\n",
       "      <th>...</th>\n",
       "      <td>...</td>\n",
       "      <td>...</td>\n",
       "      <td>...</td>\n",
       "      <td>...</td>\n",
       "      <td>...</td>\n",
       "      <td>...</td>\n",
       "      <td>...</td>\n",
       "      <td>...</td>\n",
       "      <td>...</td>\n",
       "      <td>...</td>\n",
       "      <td>...</td>\n",
       "      <td>...</td>\n",
       "      <td>...</td>\n",
       "      <td>...</td>\n",
       "      <td>...</td>\n",
       "      <td>...</td>\n",
       "      <td>...</td>\n",
       "    </tr>\n",
       "    <tr>\n",
       "      <th>360331</th>\n",
       "      <td>360331</td>\n",
       "      <td>7.60</td>\n",
       "      <td>4.0</td>\n",
       "      <td>5.0</td>\n",
       "      <td>5.0</td>\n",
       "      <td>3.0</td>\n",
       "      <td>13.50</td>\n",
       "      <td>1.0</td>\n",
       "      <td>0.0</td>\n",
       "      <td>33.0</td>\n",
       "      <td>30268.0</td>\n",
       "      <td>0.0</td>\n",
       "      <td>0.0</td>\n",
       "      <td>0.0</td>\n",
       "      <td>0.0</td>\n",
       "      <td>0.0</td>\n",
       "      <td>133.42</td>\n",
       "    </tr>\n",
       "    <tr>\n",
       "      <th>360332</th>\n",
       "      <td>360332</td>\n",
       "      <td>14.44</td>\n",
       "      <td>4.0</td>\n",
       "      <td>4.0</td>\n",
       "      <td>0.0</td>\n",
       "      <td>4.0</td>\n",
       "      <td>18.80</td>\n",
       "      <td>1.0</td>\n",
       "      <td>1.0</td>\n",
       "      <td>18.0</td>\n",
       "      <td>20319.0</td>\n",
       "      <td>0.0</td>\n",
       "      <td>0.0</td>\n",
       "      <td>0.0</td>\n",
       "      <td>0.0</td>\n",
       "      <td>0.0</td>\n",
       "      <td>81.85</td>\n",
       "    </tr>\n",
       "    <tr>\n",
       "      <th>360333</th>\n",
       "      <td>360333</td>\n",
       "      <td>10.74</td>\n",
       "      <td>3.0</td>\n",
       "      <td>0.0</td>\n",
       "      <td>0.0</td>\n",
       "      <td>2.0</td>\n",
       "      <td>11.30</td>\n",
       "      <td>1.0</td>\n",
       "      <td>0.0</td>\n",
       "      <td>35.0</td>\n",
       "      <td>30584.0</td>\n",
       "      <td>1.0</td>\n",
       "      <td>1.0</td>\n",
       "      <td>1.0</td>\n",
       "      <td>1.0</td>\n",
       "      <td>1.0</td>\n",
       "      <td>87.07</td>\n",
       "    </tr>\n",
       "    <tr>\n",
       "      <th>360334</th>\n",
       "      <td>360334</td>\n",
       "      <td>11.04</td>\n",
       "      <td>3.0</td>\n",
       "      <td>1.0</td>\n",
       "      <td>0.0</td>\n",
       "      <td>3.0</td>\n",
       "      <td>10.20</td>\n",
       "      <td>0.0</td>\n",
       "      <td>1.0</td>\n",
       "      <td>14.0</td>\n",
       "      <td>30584.0</td>\n",
       "      <td>1.0</td>\n",
       "      <td>1.0</td>\n",
       "      <td>1.0</td>\n",
       "      <td>1.0</td>\n",
       "      <td>1.0</td>\n",
       "      <td>146.72</td>\n",
       "    </tr>\n",
       "    <tr>\n",
       "      <th>360335</th>\n",
       "      <td>360335</td>\n",
       "      <td>5.30</td>\n",
       "      <td>2.0</td>\n",
       "      <td>2.0</td>\n",
       "      <td>0.0</td>\n",
       "      <td>2.0</td>\n",
       "      <td>10.80</td>\n",
       "      <td>0.0</td>\n",
       "      <td>0.0</td>\n",
       "      <td>21.0</td>\n",
       "      <td>33858.0</td>\n",
       "      <td>1.0</td>\n",
       "      <td>0.0</td>\n",
       "      <td>1.0</td>\n",
       "      <td>1.0</td>\n",
       "      <td>1.0</td>\n",
       "      <td>122.47</td>\n",
       "    </tr>\n",
       "  </tbody>\n",
       "</table>\n",
       "<p>360336 rows × 17 columns</p>\n",
       "</div>"
      ],
      "text/plain": [
       "            id  store_sales(in millions)  unit_sales(in millions)  \\\n",
       "0            0                      8.61                      3.0   \n",
       "1            1                      5.00                      2.0   \n",
       "2            2                     14.08                      4.0   \n",
       "3            3                      4.02                      3.0   \n",
       "4            4                      2.13                      3.0   \n",
       "...        ...                       ...                      ...   \n",
       "360331  360331                      7.60                      4.0   \n",
       "360332  360332                     14.44                      4.0   \n",
       "360333  360333                     10.74                      3.0   \n",
       "360334  360334                     11.04                      3.0   \n",
       "360335  360335                      5.30                      2.0   \n",
       "\n",
       "        total_children  num_children_at_home  avg_cars_at home(approx).1  \\\n",
       "0                  2.0                   2.0                         2.0   \n",
       "1                  4.0                   0.0                         3.0   \n",
       "2                  0.0                   0.0                         3.0   \n",
       "3                  5.0                   0.0                         0.0   \n",
       "4                  5.0                   0.0                         3.0   \n",
       "...                ...                   ...                         ...   \n",
       "360331             5.0                   5.0                         3.0   \n",
       "360332             4.0                   0.0                         4.0   \n",
       "360333             0.0                   0.0                         2.0   \n",
       "360334             1.0                   0.0                         3.0   \n",
       "360335             2.0                   0.0                         2.0   \n",
       "\n",
       "        gross_weight  recyclable_package  low_fat  units_per_case  store_sqft  \\\n",
       "0              10.30                 1.0      0.0            32.0     36509.0   \n",
       "1               6.66                 1.0      0.0             1.0     28206.0   \n",
       "2              21.30                 1.0      0.0            26.0     21215.0   \n",
       "3              14.80                 0.0      1.0            36.0     21215.0   \n",
       "4              17.00                 1.0      1.0            20.0     27694.0   \n",
       "...              ...                 ...      ...             ...         ...   \n",
       "360331         13.50                 1.0      0.0            33.0     30268.0   \n",
       "360332         18.80                 1.0      1.0            18.0     20319.0   \n",
       "360333         11.30                 1.0      0.0            35.0     30584.0   \n",
       "360334         10.20                 0.0      1.0            14.0     30584.0   \n",
       "360335         10.80                 0.0      0.0            21.0     33858.0   \n",
       "\n",
       "        coffee_bar  video_store  salad_bar  prepared_food  florist    cost  \n",
       "0              0.0          0.0        0.0            0.0      0.0   62.09  \n",
       "1              1.0          0.0        0.0            0.0      0.0  121.80  \n",
       "2              1.0          0.0        0.0            0.0      0.0   83.51  \n",
       "3              1.0          0.0        0.0            0.0      0.0   66.78  \n",
       "4              1.0          1.0        1.0            1.0      1.0  111.51  \n",
       "...            ...          ...        ...            ...      ...     ...  \n",
       "360331         0.0          0.0        0.0            0.0      0.0  133.42  \n",
       "360332         0.0          0.0        0.0            0.0      0.0   81.85  \n",
       "360333         1.0          1.0        1.0            1.0      1.0   87.07  \n",
       "360334         1.0          1.0        1.0            1.0      1.0  146.72  \n",
       "360335         1.0          0.0        1.0            1.0      1.0  122.47  \n",
       "\n",
       "[360336 rows x 17 columns]"
      ]
     },
     "execution_count": 8,
     "metadata": {},
     "output_type": "execute_result"
    }
   ],
   "source": [
    "df_train"
   ]
  },
  {
   "cell_type": "code",
   "execution_count": 9,
   "metadata": {},
   "outputs": [],
   "source": [
    "df_train['store_sales_per_children'] = df_train['store_sales(in millions)'] / df_train['total_children']"
   ]
  },
  {
   "cell_type": "code",
   "execution_count": 10,
   "metadata": {},
   "outputs": [
    {
     "data": {
      "text/plain": [
       "[0.0, 1.0]"
      ]
     },
     "execution_count": 10,
     "metadata": {},
     "output_type": "execute_result"
    }
   ],
   "source": [
    "list(df_train['coffee_bar'].unique())"
   ]
  },
  {
   "cell_type": "code",
   "execution_count": 11,
   "metadata": {},
   "outputs": [],
   "source": [
    "for column in df_train.columns:\n",
    "    if (list(df_train[column].unique()) == [0.0, 1.0]):\n",
    "        df_train.loc[:, column] = df_train[column].astype('bool')"
   ]
  },
  {
   "cell_type": "code",
   "execution_count": 12,
   "metadata": {},
   "outputs": [
    {
     "data": {
      "text/plain": [
       "id                              int64\n",
       "store_sales(in millions)      float64\n",
       "unit_sales(in millions)       float64\n",
       "total_children                float64\n",
       "num_children_at_home          float64\n",
       "avg_cars_at home(approx).1    float64\n",
       "gross_weight                  float64\n",
       "recyclable_package            float64\n",
       "low_fat                          bool\n",
       "units_per_case                float64\n",
       "store_sqft                    float64\n",
       "coffee_bar                       bool\n",
       "video_store                      bool\n",
       "salad_bar                        bool\n",
       "prepared_food                    bool\n",
       "florist                          bool\n",
       "cost                          float64\n",
       "store_sales_per_children      float64\n",
       "dtype: object"
      ]
     },
     "execution_count": 12,
     "metadata": {},
     "output_type": "execute_result"
    }
   ],
   "source": [
    "df_train.dtypes"
   ]
  },
  {
   "cell_type": "code",
   "execution_count": 13,
   "metadata": {},
   "outputs": [],
   "source": [
    "#| export\n",
    "train_idxs = np.arange(len(df_train))"
   ]
  },
  {
   "cell_type": "code",
   "execution_count": 14,
   "metadata": {},
   "outputs": [],
   "source": [
    "#| export\n",
    "test_idxs = np.arange(len(df_train), len(df_comb))"
   ]
  },
  {
   "cell_type": "code",
   "execution_count": 15,
   "metadata": {},
   "outputs": [],
   "source": [
    "#| export\n",
    "dep_var = 'cost'"
   ]
  },
  {
   "cell_type": "code",
   "execution_count": 16,
   "metadata": {},
   "outputs": [],
   "source": [
    "#| export\n",
    "procs = [Categorify, FillMissing, Normalize]"
   ]
  },
  {
   "cell_type": "code",
   "execution_count": 17,
   "metadata": {},
   "outputs": [],
   "source": [
    "#| export\n",
    "cont, cat = cont_cat_split(df_comb, max_card=1, dep_var=dep_var)"
   ]
  },
  {
   "cell_type": "code",
   "execution_count": 18,
   "metadata": {},
   "outputs": [],
   "source": [
    "#| export\n",
    "splits = RandomSplitter(valid_pct=0.2)(range_of(df_train))"
   ]
  },
  {
   "cell_type": "code",
   "execution_count": 19,
   "metadata": {},
   "outputs": [],
   "source": [
    "#| export\n",
    "df_train = df_comb.iloc[train_idxs]\n",
    "df_test = df_comb.iloc[test_idxs]"
   ]
  },
  {
   "cell_type": "code",
   "execution_count": 20,
   "metadata": {},
   "outputs": [
    {
     "data": {
      "text/plain": [
       "True"
      ]
     },
     "execution_count": 20,
     "metadata": {},
     "output_type": "execute_result"
    }
   ],
   "source": [
    "len(df_train) + len(df_test) == len(df_comb)"
   ]
  },
  {
   "attachments": {},
   "cell_type": "markdown",
   "metadata": {},
   "source": [
    "#### K-Folds Cross-Validation"
   ]
  },
  {
   "cell_type": "code",
   "execution_count": 21,
   "metadata": {},
   "outputs": [],
   "source": [
    "n_folds = 5\n",
    "kf = KFold(n_splits=n_folds, shuffle=True, random_state=42)\n",
    "rmse_scores = []\n",
    "test_preds_all = np.zeros((len(df_test), n_folds))"
   ]
  },
  {
   "cell_type": "code",
   "execution_count": 22,
   "metadata": {},
   "outputs": [],
   "source": [
    "# for fold, (train_index, valid_index) in enumerate(kf.split(df_train)):\n",
    "#     train_fold, valid_fold = df_train.loc[train_index], df_train.loc[valid_index]\n",
    "#     to_fold = TabularPandas(train_fold, procs, cat, cont, y_names=dep_var, splits=None)\n",
    "#     valid_fold_to = TabularPandas(valid_fold, procs, cat, cont, y_names=dep_var, splits=None)\n",
    "    \n",
    "#     dls_fold = to_fold.dataloaders(bs=1024)\n",
    "#     dls_fold.valid = valid_fold_to.dataloaders(bs=1024).train\n",
    "    \n",
    "#     learn_fold = tabular_learner(dls_fold, layers=[200, 100], metrics=rmse)\n",
    "#     learn_fold.fit_one_cycle(10, 1e-2)\n",
    "    \n",
    "#     preds, targs = learn_fold.get_preds()\n",
    "#     rmse_score = rmse(preds, targs).item()\n",
    "#     rmse_scores.append(rmse_score)\n",
    "\n",
    "#     test_dl = learn_fold.dls.test_dl(df_test)\n",
    "#     test_preds, _ = learn_fold.get_preds(dl=test_dl)\n",
    "#     test_preds_all[:, fold] = test_preds.squeeze()\n",
    "\n",
    "    \n",
    "\n",
    "# mean_rmse_score = np.mean(rmse_scores)\n",
    "# print(f'Mean RMSE score for {n_folds}-fold cross-validation: {mean_rmse_score}')"
   ]
  },
  {
   "cell_type": "code",
   "execution_count": 23,
   "metadata": {},
   "outputs": [],
   "source": [
    "def kfold_cross_val(layers, learning_rate):\n",
    "    rmse_scores = []\n",
    "    for train_index, valid_index in kf.split(df_train):\n",
    "        train_fold, valid_fold = df_train.loc[train_index], df_train.loc[valid_index]\n",
    "        to_fold = TabularPandas(train_fold, procs, cat, cont, y_names=dep_var, splits=None)\n",
    "        valid_fold_to = TabularPandas(valid_fold, procs, cat, cont, y_names=dep_var, splits=None)\n",
    "\n",
    "        dls_fold = to_fold.dataloaders(bs=1024)\n",
    "        dls_fold.valid = valid_fold_to.dataloaders(bs=1024).train\n",
    "\n",
    "        learn_fold = tabular_learner(dls_fold, layers=layers, metrics=rmse)\n",
    "        learn_fold.fit_one_cycle(5, lr_max=learning_rate)\n",
    "\n",
    "        preds, targs = learn_fold.get_preds()\n",
    "        rmse_score = rmse(preds, targs).item()\n",
    "        rmse_scores.append(rmse_score)\n",
    "\n",
    "    return np.mean(rmse_scores)"
   ]
  },
  {
   "cell_type": "code",
   "execution_count": 24,
   "metadata": {},
   "outputs": [],
   "source": [
    "# layer_sizes = [[200, 100], [300, 150]]\n",
    "# learning_rates = [1e-2, 1e-3]\n",
    "\n",
    "# best_rmse = float('inf')\n",
    "# best_layers = None\n",
    "# best_lr = None\n",
    "\n",
    "# for layers in layer_sizes:\n",
    "#     for lr in learning_rates:\n",
    "#         mean_rmse = kfold_cross_val(layers, lr)\n",
    "#         print(f'Layers: {layers}, Learning rate: {lr}, Mean RMSE: {mean_rmse}')\n",
    "#         if mean_rmse < best_rmse:\n",
    "#             best_rmse = mean_rmse\n",
    "#             best_layers = layers\n",
    "#             best_lr = lr\n",
    "\n",
    "# print(f'Best layers: {best_layers}, Best learning rate: {best_lr}, Best RMSE: {best_rmse}')"
   ]
  },
  {
   "cell_type": "code",
   "execution_count": 25,
   "metadata": {},
   "outputs": [],
   "source": [
    "splits = RandomSplitter(valid_pct=0.2)(range_of(df_train))"
   ]
  },
  {
   "cell_type": "code",
   "execution_count": 26,
   "metadata": {},
   "outputs": [],
   "source": [
    "to_final = TabularPandas(df_train, procs, cat, cont, y_names=dep_var, splits=splits)\n",
    "dls_final = to_final.dataloaders(bs=1024)"
   ]
  },
  {
   "cell_type": "code",
   "execution_count": 27,
   "metadata": {},
   "outputs": [
    {
     "data": {
      "text/plain": [
       "(#0) []"
      ]
     },
     "execution_count": 27,
     "metadata": {},
     "output_type": "execute_result"
    }
   ],
   "source": [
    "to_final.cat_names"
   ]
  },
  {
   "cell_type": "code",
   "execution_count": 28,
   "metadata": {},
   "outputs": [
    {
     "data": {
      "text/plain": [
       "              id  store_sales(in millions)  unit_sales(in millions)  \\\n",
       "161832 -0.175908                  0.769376                -0.056522   \n",
       "74316  -1.017233                  0.488066                -0.056522   \n",
       "7330   -1.661196                  0.237004                -1.332241   \n",
       "215927  0.344129                 -1.072753                -0.056522   \n",
       "43634  -1.312191                  2.363468                 2.494917   \n",
       "...          ...                       ...                      ...   \n",
       "40330  -1.343954                  0.959941                -0.056522   \n",
       "212198  0.308280                 -0.256046                -0.056522   \n",
       "139327 -0.392257                  2.293897                 1.219198   \n",
       "118234 -0.595032                 -1.009231                 1.219198   \n",
       "86109  -0.903863                  1.259401                 2.494917   \n",
       "\n",
       "        total_children  num_children_at_home  avg_cars_at home(approx).1  \\\n",
       "161832        1.036692             -0.567229                   -1.108087   \n",
       "74316         1.036692              2.727891                   -0.186735   \n",
       "7330         -1.650803             -0.567229                   -1.108087   \n",
       "215927        0.364818              0.256551                    1.655968   \n",
       "43634         0.364818             -0.567229                   -0.186735   \n",
       "...                ...                   ...                         ...   \n",
       "40330         0.364818             -0.567229                   -0.186735   \n",
       "212198       -0.307056             -0.567229                   -0.186735   \n",
       "139327       -0.307056              0.256551                    0.734617   \n",
       "118234       -0.307056             -0.567229                   -0.186735   \n",
       "86109         1.036692              2.727891                    0.734617   \n",
       "\n",
       "        gross_weight  recyclable_package   low_fat  units_per_case  \\\n",
       "161832      1.641790            0.872225 -0.699363        0.394144   \n",
       "74316      -1.437697            0.872225  1.429873       -0.879505   \n",
       "7330       -0.503666            0.872225 -0.699363       -0.585586   \n",
       "215927      0.969981            0.872225  1.429873        1.079955   \n",
       "43634       0.839953            0.872225  1.429873        1.471847   \n",
       "...              ...                 ...       ...             ...   \n",
       "40330       0.211486           -1.146493  1.429873       -0.585586   \n",
       "212198     -0.952261           -1.146493 -0.699363        1.373874   \n",
       "139327      0.319843            0.872225  1.429873       -0.683559   \n",
       "118234     -1.188478            0.872225  1.429873       -0.977478   \n",
       "86109      -0.503666           -1.146493 -0.699363       -0.585586   \n",
       "\n",
       "        store_sqft  coffee_bar  video_store  salad_bar  prepared_food  \\\n",
       "161832   -1.167678    0.877378    -0.620202  -1.009820      -1.009869   \n",
       "74316     1.931059   -1.139760    -0.620202   0.990275       0.990227   \n",
       "7330     -0.741121    0.877378    -0.620202   0.990275       0.990227   \n",
       "215927    1.051790    0.877378    -0.620202  -1.009820      -1.009869   \n",
       "43634    -0.768117   -1.139760    -0.620202  -1.009820      -1.009869   \n",
       "...            ...         ...          ...        ...            ...   \n",
       "40330     1.108631   -1.139760    -0.620202   0.990275       0.990227   \n",
       "212198    1.931059   -1.139760    -0.620202   0.990275       0.990227   \n",
       "139327    0.438951    0.877378     1.612378   0.990275       0.990227   \n",
       "118234   -0.849605    0.877378     1.612378   0.990275       0.990227   \n",
       "86109    -0.753026    0.877378     1.612378   0.990275       0.990227   \n",
       "\n",
       "         florist        cost  \n",
       "161832 -1.006763   69.629997  \n",
       "74316  -1.006763   66.180000  \n",
       "7330    0.993282  147.820007  \n",
       "215927  0.993282   75.440002  \n",
       "43634   0.993282  146.410004  \n",
       "...          ...         ...  \n",
       "40330  -1.006763   62.119999  \n",
       "212198 -1.006763  129.500000  \n",
       "139327  0.993282  131.619995  \n",
       "118234  0.993282   77.239998  \n",
       "86109   0.993282   85.879997  \n",
       "\n",
       "[360336 rows x 17 columns]"
      ]
     },
     "execution_count": 28,
     "metadata": {},
     "output_type": "execute_result"
    }
   ],
   "source": [
    "to_final"
   ]
  },
  {
   "cell_type": "code",
   "execution_count": 29,
   "metadata": {},
   "outputs": [
    {
     "data": {
      "text/plain": [
       "149.75"
      ]
     },
     "execution_count": 29,
     "metadata": {},
     "output_type": "execute_result"
    }
   ],
   "source": [
    "to_final.train.y.max()"
   ]
  },
  {
   "cell_type": "code",
   "execution_count": 30,
   "metadata": {},
   "outputs": [
    {
     "data": {
      "text/plain": [
       "50.79"
      ]
     },
     "execution_count": 30,
     "metadata": {},
     "output_type": "execute_result"
    }
   ],
   "source": [
    "to_final.train.y.min()"
   ]
  },
  {
   "cell_type": "code",
   "execution_count": 31,
   "metadata": {},
   "outputs": [],
   "source": [
    "epochs=17"
   ]
  },
  {
   "cell_type": "code",
   "execution_count": 32,
   "metadata": {},
   "outputs": [
    {
     "data": {
      "text/html": [
       "\n",
       "<style>\n",
       "    /* Turns off some styling */\n",
       "    progress {\n",
       "        /* gets rid of default border in Firefox and Opera. */\n",
       "        border: none;\n",
       "        /* Needs to be in here for Safari polyfill so background images work as expected. */\n",
       "        background-size: auto;\n",
       "    }\n",
       "    progress:not([value]), progress:not([value])::-webkit-progress-bar {\n",
       "        background: repeating-linear-gradient(45deg, #7e7e7e, #7e7e7e 10px, #5c5c5c 10px, #5c5c5c 20px);\n",
       "    }\n",
       "    .progress-bar-interrupted, .progress-bar-interrupted::-webkit-progress-bar {\n",
       "        background: #F44336;\n",
       "    }\n",
       "</style>\n"
      ],
      "text/plain": [
       "<IPython.core.display.HTML object>"
      ]
     },
     "metadata": {},
     "output_type": "display_data"
    },
    {
     "data": {
      "text/html": [
       "<table border=\"1\" class=\"dataframe\">\n",
       "  <thead>\n",
       "    <tr style=\"text-align: left;\">\n",
       "      <th>epoch</th>\n",
       "      <th>train_loss</th>\n",
       "      <th>valid_loss</th>\n",
       "      <th>_rmse</th>\n",
       "      <th>time</th>\n",
       "    </tr>\n",
       "  </thead>\n",
       "  <tbody>\n",
       "    <tr>\n",
       "      <td>0</td>\n",
       "      <td>904.007141</td>\n",
       "      <td>888.531494</td>\n",
       "      <td>29.808247</td>\n",
       "      <td>00:03</td>\n",
       "    </tr>\n",
       "    <tr>\n",
       "      <td>1</td>\n",
       "      <td>864.565918</td>\n",
       "      <td>860.694214</td>\n",
       "      <td>29.337591</td>\n",
       "      <td>00:02</td>\n",
       "    </tr>\n",
       "    <tr>\n",
       "      <td>2</td>\n",
       "      <td>850.851807</td>\n",
       "      <td>846.404968</td>\n",
       "      <td>29.093037</td>\n",
       "      <td>00:02</td>\n",
       "    </tr>\n",
       "    <tr>\n",
       "      <td>3</td>\n",
       "      <td>841.301941</td>\n",
       "      <td>840.293701</td>\n",
       "      <td>28.987820</td>\n",
       "      <td>00:03</td>\n",
       "    </tr>\n",
       "    <tr>\n",
       "      <td>4</td>\n",
       "      <td>836.917542</td>\n",
       "      <td>837.097168</td>\n",
       "      <td>28.932632</td>\n",
       "      <td>00:05</td>\n",
       "    </tr>\n",
       "    <tr>\n",
       "      <td>5</td>\n",
       "      <td>832.389771</td>\n",
       "      <td>829.908508</td>\n",
       "      <td>28.808130</td>\n",
       "      <td>00:02</td>\n",
       "    </tr>\n",
       "    <tr>\n",
       "      <td>6</td>\n",
       "      <td>830.736694</td>\n",
       "      <td>828.787537</td>\n",
       "      <td>28.788673</td>\n",
       "      <td>00:02</td>\n",
       "    </tr>\n",
       "    <tr>\n",
       "      <td>7</td>\n",
       "      <td>827.740662</td>\n",
       "      <td>821.924866</td>\n",
       "      <td>28.669233</td>\n",
       "      <td>00:02</td>\n",
       "    </tr>\n",
       "    <tr>\n",
       "      <td>8</td>\n",
       "      <td>822.458679</td>\n",
       "      <td>819.691162</td>\n",
       "      <td>28.630251</td>\n",
       "      <td>00:02</td>\n",
       "    </tr>\n",
       "    <tr>\n",
       "      <td>9</td>\n",
       "      <td>816.674622</td>\n",
       "      <td>816.230774</td>\n",
       "      <td>28.569754</td>\n",
       "      <td>00:02</td>\n",
       "    </tr>\n",
       "    <tr>\n",
       "      <td>10</td>\n",
       "      <td>813.156860</td>\n",
       "      <td>810.894226</td>\n",
       "      <td>28.476206</td>\n",
       "      <td>00:02</td>\n",
       "    </tr>\n",
       "    <tr>\n",
       "      <td>11</td>\n",
       "      <td>808.444702</td>\n",
       "      <td>811.748596</td>\n",
       "      <td>28.491205</td>\n",
       "      <td>00:02</td>\n",
       "    </tr>\n",
       "    <tr>\n",
       "      <td>12</td>\n",
       "      <td>803.719360</td>\n",
       "      <td>803.989746</td>\n",
       "      <td>28.354713</td>\n",
       "      <td>00:02</td>\n",
       "    </tr>\n",
       "    <tr>\n",
       "      <td>13</td>\n",
       "      <td>801.784912</td>\n",
       "      <td>801.762573</td>\n",
       "      <td>28.315411</td>\n",
       "      <td>00:02</td>\n",
       "    </tr>\n",
       "    <tr>\n",
       "      <td>14</td>\n",
       "      <td>793.965027</td>\n",
       "      <td>800.048401</td>\n",
       "      <td>28.285128</td>\n",
       "      <td>00:02</td>\n",
       "    </tr>\n",
       "    <tr>\n",
       "      <td>15</td>\n",
       "      <td>797.799683</td>\n",
       "      <td>799.272156</td>\n",
       "      <td>28.271400</td>\n",
       "      <td>00:02</td>\n",
       "    </tr>\n",
       "    <tr>\n",
       "      <td>16</td>\n",
       "      <td>795.089783</td>\n",
       "      <td>798.713501</td>\n",
       "      <td>28.261518</td>\n",
       "      <td>00:02</td>\n",
       "    </tr>\n",
       "  </tbody>\n",
       "</table>"
      ],
      "text/plain": [
       "<IPython.core.display.HTML object>"
      ]
     },
     "metadata": {},
     "output_type": "display_data"
    }
   ],
   "source": [
    "learn_final = tabular_learner(dls_final, layers=[200, 100], y_range=(0, 150), metrics=rmse)\n",
    "learn_final.fit_one_cycle(epochs, 1e-2)"
   ]
  },
  {
   "cell_type": "code",
   "execution_count": 33,
   "metadata": {},
   "outputs": [
    {
     "data": {
      "text/html": [
       "\n",
       "<style>\n",
       "    /* Turns off some styling */\n",
       "    progress {\n",
       "        /* gets rid of default border in Firefox and Opera. */\n",
       "        border: none;\n",
       "        /* Needs to be in here for Safari polyfill so background images work as expected. */\n",
       "        background-size: auto;\n",
       "    }\n",
       "    progress:not([value]), progress:not([value])::-webkit-progress-bar {\n",
       "        background: repeating-linear-gradient(45deg, #7e7e7e, #7e7e7e 10px, #5c5c5c 10px, #5c5c5c 20px);\n",
       "    }\n",
       "    .progress-bar-interrupted, .progress-bar-interrupted::-webkit-progress-bar {\n",
       "        background: #F44336;\n",
       "    }\n",
       "</style>\n"
      ],
      "text/plain": [
       "<IPython.core.display.HTML object>"
      ]
     },
     "metadata": {},
     "output_type": "display_data"
    },
    {
     "data": {
      "text/html": [],
      "text/plain": [
       "<IPython.core.display.HTML object>"
      ]
     },
     "metadata": {},
     "output_type": "display_data"
    }
   ],
   "source": [
    "test_dl = learn_final.dls.test_dl(df_test)\n",
    "preds_final, _ = learn_final.get_preds(dl=test_dl)"
   ]
  },
  {
   "cell_type": "code",
   "execution_count": null,
   "metadata": {},
   "outputs": [],
   "source": [
    "# test_preds_avg = np.mean(test_preds_all, axis=1)"
   ]
  },
  {
   "cell_type": "code",
   "execution_count": null,
   "metadata": {},
   "outputs": [],
   "source": []
  },
  {
   "cell_type": "code",
   "execution_count": 34,
   "metadata": {},
   "outputs": [],
   "source": [
    "preds_final = preds_final.squeeze()\n"
   ]
  },
  {
   "cell_type": "code",
   "execution_count": 35,
   "metadata": {},
   "outputs": [
    {
     "data": {
      "text/plain": [
       "tensor([ 97.0685, 100.3434, 100.7119,  ..., 100.8236, 107.4522, 107.0247])"
      ]
     },
     "execution_count": 35,
     "metadata": {},
     "output_type": "execute_result"
    }
   ],
   "source": [
    "preds_final"
   ]
  },
  {
   "cell_type": "code",
   "execution_count": 36,
   "metadata": {},
   "outputs": [],
   "source": [
    "#| export\n",
    "sample_df = pd.read_csv(path/'sample_submission.csv')\n",
    "sample_df['cost'] = preds_final\n",
    "sample_df.to_csv('submission.csv', index=False)"
   ]
  },
  {
   "cell_type": "code",
   "execution_count": 37,
   "metadata": {},
   "outputs": [
    {
     "name": "stdout",
     "output_type": "stream",
     "text": [
      "id,cost\n",
      "360336,97.06852\n",
      "360337,100.343445\n",
      "360338,100.71191\n",
      "360339,99.094284\n",
      "360340,85.61225\n",
      "360341,103.97306\n",
      "360342,110.84988\n",
      "360343,94.05224\n",
      "360344,90.5632\n"
     ]
    }
   ],
   "source": [
    "!head submission.csv"
   ]
  },
  {
   "cell_type": "code",
   "execution_count": 38,
   "metadata": {},
   "outputs": [
    {
     "data": {
      "text/plain": [
       "id      600559.000000\n",
       "cost       142.999832\n",
       "dtype: float64"
      ]
     },
     "execution_count": 38,
     "metadata": {},
     "output_type": "execute_result"
    }
   ],
   "source": [
    "sample_df.max()"
   ]
  },
  {
   "cell_type": "code",
   "execution_count": 39,
   "metadata": {},
   "outputs": [],
   "source": [
    "submit = True"
   ]
  },
  {
   "cell_type": "code",
   "execution_count": 40,
   "metadata": {},
   "outputs": [
    {
     "name": "stdout",
     "output_type": "stream",
     "text": [
      "Warning: Looks like you're using an outdated API Version, please consider updating (server 1.5.13 / client 1.5.12)\n"
     ]
    },
    {
     "name": "stderr",
     "output_type": "stream",
     "text": [
      "100%|██████████| 3.81M/3.81M [00:01<00:00, 2.02MB/s]\n"
     ]
    }
   ],
   "source": [
    "if not iskaggle and submit:\n",
    "    from kaggle import api\n",
    "    api.competition_submit_cli(file_name='submission.csv', message=\"baseline model\", competition=comp)"
   ]
  },
  {
   "cell_type": "code",
   "execution_count": null,
   "metadata": {},
   "outputs": [],
   "source": [
    "import nbdev\n",
    "nbdev.export.nb_export('media_campaign_cost.ipynb', 'app_v1')\n",
    "print(\"export successful\")"
   ]
  }
 ],
 "metadata": {
  "kernelspec": {
   "display_name": "base",
   "language": "python",
   "name": "python3"
  },
  "language_info": {
   "codemirror_mode": {
    "name": "ipython",
    "version": 3
   },
   "file_extension": ".py",
   "mimetype": "text/x-python",
   "name": "python",
   "nbconvert_exporter": "python",
   "pygments_lexer": "ipython3",
   "version": "3.10.6"
  },
  "orig_nbformat": 4,
  "vscode": {
   "interpreter": {
    "hash": "f4702a165a03ade35e40e0221d250a3a44a346cfc16a49ce6d051d1595069b46"
   }
  }
 },
 "nbformat": 4,
 "nbformat_minor": 2
}
