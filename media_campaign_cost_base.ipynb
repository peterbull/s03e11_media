{
 "cells": [
  {
   "cell_type": "code",
   "execution_count": 1,
   "metadata": {},
   "outputs": [],
   "source": [
    "#| default_exp app_v1"
   ]
  },
  {
   "attachments": {},
   "cell_type": "markdown",
   "metadata": {},
   "source": [
    "#### Competition"
   ]
  },
  {
   "attachments": {},
   "cell_type": "markdown",
   "metadata": {},
   "source": [
    "[LINK](https://www.kaggle.com/competitions/playground-series-s3e11/overview)"
   ]
  },
  {
   "attachments": {},
   "cell_type": "markdown",
   "metadata": {},
   "source": [
    "#### Imports"
   ]
  },
  {
   "cell_type": "code",
   "execution_count": 2,
   "metadata": {},
   "outputs": [],
   "source": [
    "#| export\n",
    "from fastai.tabular.all import *"
   ]
  },
  {
   "attachments": {},
   "cell_type": "markdown",
   "metadata": {},
   "source": [
    "#### Downloading Datasets"
   ]
  },
  {
   "cell_type": "code",
   "execution_count": 3,
   "metadata": {},
   "outputs": [],
   "source": [
    "#| export\n",
    "try: import fastkaggle\n",
    "except ModuleNotFoundError:\n",
    "    !pip install -Uq fastkaggle\n",
    "\n",
    "from fastkaggle import *"
   ]
  },
  {
   "cell_type": "code",
   "execution_count": 4,
   "metadata": {},
   "outputs": [],
   "source": [
    "#| export\n",
    "comp = 'playground-series-s3e11'\n",
    "path = setup_comp(comp, install='fastai')"
   ]
  },
  {
   "cell_type": "code",
   "execution_count": 5,
   "metadata": {},
   "outputs": [],
   "source": [
    "# copy .gitignore template from my home directory and append project data folder to it\n",
    "if not os.path.exists('.gitignore'):\n",
    "    !cp ~/.gitignore .\n",
    "if comp not in open('.gitignore').read():\n",
    "    with open('.gitignore', 'a') as f: f.write(f'{comp}')"
   ]
  },
  {
   "attachments": {},
   "cell_type": "markdown",
   "metadata": {},
   "source": [
    "#### Create Dataframes"
   ]
  },
  {
   "cell_type": "code",
   "execution_count": 6,
   "metadata": {},
   "outputs": [],
   "source": [
    "#| export\n",
    "df_train = pd.read_csv(path/'train.csv', low_memory=False)\n",
    "df_test = pd.read_csv(path/'test.csv', low_memory=False)"
   ]
  },
  {
   "cell_type": "code",
   "execution_count": 8,
   "metadata": {},
   "outputs": [
    {
     "data": {
      "text/plain": [
       "['id',\n",
       " 'store_sales(in millions)',\n",
       " 'unit_sales(in millions)',\n",
       " 'total_children',\n",
       " 'num_children_at_home',\n",
       " 'avg_cars_at home(approx).1',\n",
       " 'gross_weight',\n",
       " 'recyclable_package',\n",
       " 'low_fat',\n",
       " 'units_per_case',\n",
       " 'store_sqft',\n",
       " 'coffee_bar',\n",
       " 'video_store',\n",
       " 'salad_bar',\n",
       " 'prepared_food',\n",
       " 'florist',\n",
       " 'cost']"
      ]
     },
     "execution_count": 8,
     "metadata": {},
     "output_type": "execute_result"
    }
   ],
   "source": [
    "list(df_train.columns)"
   ]
  },
  {
   "cell_type": "code",
   "execution_count": 8,
   "metadata": {},
   "outputs": [],
   "source": [
    "#| export\n",
    "df_comb = pd.concat([df_train, df_test], ignore_index=True)"
   ]
  },
  {
   "cell_type": "code",
   "execution_count": 9,
   "metadata": {},
   "outputs": [
    {
     "data": {
      "text/plain": [
       "True"
      ]
     },
     "execution_count": 9,
     "metadata": {},
     "output_type": "execute_result"
    }
   ],
   "source": [
    "len(df_train) + len(df_test) == len(df_comb)"
   ]
  },
  {
   "cell_type": "code",
   "execution_count": 10,
   "metadata": {},
   "outputs": [],
   "source": [
    "#| export\n",
    "train_idxs = np.arange(len(df_train))"
   ]
  },
  {
   "cell_type": "code",
   "execution_count": 11,
   "metadata": {},
   "outputs": [],
   "source": [
    "#| export\n",
    "test_idxs = np.arange(len(df_train), len(df_comb))"
   ]
  },
  {
   "cell_type": "code",
   "execution_count": 12,
   "metadata": {},
   "outputs": [],
   "source": [
    "#| export\n",
    "dep_var = 'cost'"
   ]
  },
  {
   "cell_type": "code",
   "execution_count": 13,
   "metadata": {},
   "outputs": [],
   "source": [
    "#| export\n",
    "procs = [Categorify, FillMissing, Normalize]"
   ]
  },
  {
   "cell_type": "code",
   "execution_count": 14,
   "metadata": {},
   "outputs": [],
   "source": [
    "#| export\n",
    "cont, cat = cont_cat_split(df_comb, max_card=1, dep_var=dep_var)"
   ]
  },
  {
   "cell_type": "code",
   "execution_count": 18,
   "metadata": {},
   "outputs": [],
   "source": [
    "#| export\n",
    "splits = RandomSplitter(valid_pct=0.2)(range_of(df_train))"
   ]
  },
  {
   "cell_type": "code",
   "execution_count": 15,
   "metadata": {},
   "outputs": [],
   "source": [
    "#| export\n",
    "df_train = df_comb.iloc[train_idxs]\n",
    "df_test = df_comb.iloc[test_idxs]"
   ]
  },
  {
   "cell_type": "code",
   "execution_count": 16,
   "metadata": {},
   "outputs": [
    {
     "data": {
      "text/plain": [
       "True"
      ]
     },
     "execution_count": 16,
     "metadata": {},
     "output_type": "execute_result"
    }
   ],
   "source": [
    "len(df_train) + len(df_test) == len(df_comb)"
   ]
  },
  {
   "cell_type": "code",
   "execution_count": 19,
   "metadata": {},
   "outputs": [],
   "source": [
    "#| export\n",
    "to = TabularPandas(df_train, procs, cat, cont, y_names=dep_var, splits=splits)"
   ]
  },
  {
   "cell_type": "code",
   "execution_count": 20,
   "metadata": {},
   "outputs": [
    {
     "data": {
      "text/html": [
       "<div>\n",
       "<style scoped>\n",
       "    .dataframe tbody tr th:only-of-type {\n",
       "        vertical-align: middle;\n",
       "    }\n",
       "\n",
       "    .dataframe tbody tr th {\n",
       "        vertical-align: top;\n",
       "    }\n",
       "\n",
       "    .dataframe thead th {\n",
       "        text-align: right;\n",
       "    }\n",
       "</style>\n",
       "<table border=\"1\" class=\"dataframe\">\n",
       "  <thead>\n",
       "    <tr style=\"text-align: right;\">\n",
       "      <th></th>\n",
       "      <th>id</th>\n",
       "      <th>store_sales(in millions)</th>\n",
       "      <th>unit_sales(in millions)</th>\n",
       "      <th>total_children</th>\n",
       "      <th>num_children_at_home</th>\n",
       "      <th>avg_cars_at home(approx).1</th>\n",
       "      <th>gross_weight</th>\n",
       "      <th>recyclable_package</th>\n",
       "      <th>low_fat</th>\n",
       "      <th>units_per_case</th>\n",
       "      <th>store_sqft</th>\n",
       "      <th>coffee_bar</th>\n",
       "      <th>video_store</th>\n",
       "      <th>salad_bar</th>\n",
       "      <th>prepared_food</th>\n",
       "      <th>florist</th>\n",
       "    </tr>\n",
       "  </thead>\n",
       "  <tbody>\n",
       "    <tr>\n",
       "      <th>7100</th>\n",
       "      <td>-1.664502</td>\n",
       "      <td>0.424008</td>\n",
       "      <td>-1.330779</td>\n",
       "      <td>1.708532</td>\n",
       "      <td>-0.567639</td>\n",
       "      <td>-0.187767</td>\n",
       "      <td>1.706371</td>\n",
       "      <td>0.872274</td>\n",
       "      <td>-0.698752</td>\n",
       "      <td>-0.389928</td>\n",
       "      <td>-1.168067</td>\n",
       "      <td>0.877464</td>\n",
       "      <td>-0.620148</td>\n",
       "      <td>-1.010584</td>\n",
       "      <td>-1.010640</td>\n",
       "      <td>-1.006658</td>\n",
       "    </tr>\n",
       "    <tr>\n",
       "      <th>10505</th>\n",
       "      <td>-1.631776</td>\n",
       "      <td>-1.180566</td>\n",
       "      <td>-0.056532</td>\n",
       "      <td>-0.306484</td>\n",
       "      <td>-0.567639</td>\n",
       "      <td>-0.187767</td>\n",
       "      <td>-0.351752</td>\n",
       "      <td>-1.146428</td>\n",
       "      <td>-0.698752</td>\n",
       "      <td>-0.194073</td>\n",
       "      <td>-0.082972</td>\n",
       "      <td>0.877464</td>\n",
       "      <td>1.612517</td>\n",
       "      <td>0.989526</td>\n",
       "      <td>0.989471</td>\n",
       "      <td>0.993386</td>\n",
       "    </tr>\n",
       "    <tr>\n",
       "      <th>342672</th>\n",
       "      <td>1.560756</td>\n",
       "      <td>0.043262</td>\n",
       "      <td>-0.056532</td>\n",
       "      <td>-0.306484</td>\n",
       "      <td>-0.567639</td>\n",
       "      <td>-0.187767</td>\n",
       "      <td>-1.136006</td>\n",
       "      <td>0.872274</td>\n",
       "      <td>-0.698752</td>\n",
       "      <td>0.099709</td>\n",
       "      <td>-0.850360</td>\n",
       "      <td>0.877464</td>\n",
       "      <td>1.612517</td>\n",
       "      <td>0.989526</td>\n",
       "      <td>0.989471</td>\n",
       "      <td>0.993386</td>\n",
       "    </tr>\n",
       "    <tr>\n",
       "      <th>93177</th>\n",
       "      <td>-0.837196</td>\n",
       "      <td>-1.576421</td>\n",
       "      <td>-1.330779</td>\n",
       "      <td>-1.649827</td>\n",
       "      <td>-0.567639</td>\n",
       "      <td>-0.187767</td>\n",
       "      <td>0.623148</td>\n",
       "      <td>-1.146428</td>\n",
       "      <td>-0.698752</td>\n",
       "      <td>1.372765</td>\n",
       "      <td>0.436715</td>\n",
       "      <td>0.877464</td>\n",
       "      <td>1.612517</td>\n",
       "      <td>0.989526</td>\n",
       "      <td>0.989471</td>\n",
       "      <td>0.993386</td>\n",
       "    </tr>\n",
       "    <tr>\n",
       "      <th>170469</th>\n",
       "      <td>-0.094326</td>\n",
       "      <td>-1.473680</td>\n",
       "      <td>-1.330779</td>\n",
       "      <td>-0.306484</td>\n",
       "      <td>1.080581</td>\n",
       "      <td>-0.187767</td>\n",
       "      <td>-0.200101</td>\n",
       "      <td>0.872274</td>\n",
       "      <td>-0.698752</td>\n",
       "      <td>-1.271275</td>\n",
       "      <td>1.393354</td>\n",
       "      <td>-1.139647</td>\n",
       "      <td>-0.620148</td>\n",
       "      <td>-1.010584</td>\n",
       "      <td>-1.010640</td>\n",
       "      <td>-1.006658</td>\n",
       "    </tr>\n",
       "  </tbody>\n",
       "</table>\n",
       "</div>"
      ],
      "text/plain": [
       "              id  store_sales(in millions)  unit_sales(in millions)  \\\n",
       "7100   -1.664502                  0.424008                -1.330779   \n",
       "10505  -1.631776                 -1.180566                -0.056532   \n",
       "342672  1.560756                  0.043262                -0.056532   \n",
       "93177  -0.837196                 -1.576421                -1.330779   \n",
       "170469 -0.094326                 -1.473680                -1.330779   \n",
       "\n",
       "        total_children  num_children_at_home  avg_cars_at home(approx).1  \\\n",
       "7100          1.708532             -0.567639                   -0.187767   \n",
       "10505        -0.306484             -0.567639                   -0.187767   \n",
       "342672       -0.306484             -0.567639                   -0.187767   \n",
       "93177        -1.649827             -0.567639                   -0.187767   \n",
       "170469       -0.306484              1.080581                   -0.187767   \n",
       "\n",
       "        gross_weight  recyclable_package   low_fat  units_per_case  \\\n",
       "7100        1.706371            0.872274 -0.698752       -0.389928   \n",
       "10505      -0.351752           -1.146428 -0.698752       -0.194073   \n",
       "342672     -1.136006            0.872274 -0.698752        0.099709   \n",
       "93177       0.623148           -1.146428 -0.698752        1.372765   \n",
       "170469     -0.200101            0.872274 -0.698752       -1.271275   \n",
       "\n",
       "        store_sqft  coffee_bar  video_store  salad_bar  prepared_food  \\\n",
       "7100     -1.168067    0.877464    -0.620148  -1.010584      -1.010640   \n",
       "10505    -0.082972    0.877464     1.612517   0.989526       0.989471   \n",
       "342672   -0.850360    0.877464     1.612517   0.989526       0.989471   \n",
       "93177     0.436715    0.877464     1.612517   0.989526       0.989471   \n",
       "170469    1.393354   -1.139647    -0.620148  -1.010584      -1.010640   \n",
       "\n",
       "         florist  \n",
       "7100   -1.006658  \n",
       "10505   0.993386  \n",
       "342672  0.993386  \n",
       "93177   0.993386  \n",
       "170469 -1.006658  "
      ]
     },
     "execution_count": 20,
     "metadata": {},
     "output_type": "execute_result"
    }
   ],
   "source": [
    "to.train.xs.head()"
   ]
  },
  {
   "cell_type": "code",
   "execution_count": 23,
   "metadata": {},
   "outputs": [
    {
     "data": {
      "text/plain": [
       "(288269, 16)"
      ]
     },
     "execution_count": 23,
     "metadata": {},
     "output_type": "execute_result"
    }
   ],
   "source": [
    "to.train.xs.shape"
   ]
  },
  {
   "cell_type": "code",
   "execution_count": 24,
   "metadata": {},
   "outputs": [],
   "source": [
    "#| export\n",
    "dls = to.dataloaders(bs=1024)"
   ]
  },
  {
   "cell_type": "code",
   "execution_count": 25,
   "metadata": {},
   "outputs": [],
   "source": [
    "#| export\n",
    "learn = tabular_learner(dls, layers=[200,100], metrics=rmse)"
   ]
  },
  {
   "cell_type": "code",
   "execution_count": 27,
   "metadata": {},
   "outputs": [
    {
     "data": {
      "text/html": [
       "\n",
       "<style>\n",
       "    /* Turns off some styling */\n",
       "    progress {\n",
       "        /* gets rid of default border in Firefox and Opera. */\n",
       "        border: none;\n",
       "        /* Needs to be in here for Safari polyfill so background images work as expected. */\n",
       "        background-size: auto;\n",
       "    }\n",
       "    progress:not([value]), progress:not([value])::-webkit-progress-bar {\n",
       "        background: repeating-linear-gradient(45deg, #7e7e7e, #7e7e7e 10px, #5c5c5c 10px, #5c5c5c 20px);\n",
       "    }\n",
       "    .progress-bar-interrupted, .progress-bar-interrupted::-webkit-progress-bar {\n",
       "        background: #F44336;\n",
       "    }\n",
       "</style>\n"
      ],
      "text/plain": [
       "<IPython.core.display.HTML object>"
      ]
     },
     "metadata": {},
     "output_type": "display_data"
    },
    {
     "data": {
      "text/html": [],
      "text/plain": [
       "<IPython.core.display.HTML object>"
      ]
     },
     "metadata": {},
     "output_type": "display_data"
    },
    {
     "data": {
      "text/plain": [
       "SuggestedLRs(valley=0.0691830962896347, slide=6.309573450380412e-07)"
      ]
     },
     "execution_count": 27,
     "metadata": {},
     "output_type": "execute_result"
    },
    {
     "data": {
      "image/png": "[encoded data removed]",
      "text/plain": [
       "<Figure size 640x480 with 1 Axes>"
      ]
     },
     "metadata": {},
     "output_type": "display_data"
    }
   ],
   "source": [
    "learn.lr_find(suggest_funcs=(valley,slide))"
   ]
  },
  {
   "cell_type": "code",
   "execution_count": 29,
   "metadata": {},
   "outputs": [
    {
     "data": {
      "text/html": [
       "\n",
       "<style>\n",
       "    /* Turns off some styling */\n",
       "    progress {\n",
       "        /* gets rid of default border in Firefox and Opera. */\n",
       "        border: none;\n",
       "        /* Needs to be in here for Safari polyfill so background images work as expected. */\n",
       "        background-size: auto;\n",
       "    }\n",
       "    progress:not([value]), progress:not([value])::-webkit-progress-bar {\n",
       "        background: repeating-linear-gradient(45deg, #7e7e7e, #7e7e7e 10px, #5c5c5c 10px, #5c5c5c 20px);\n",
       "    }\n",
       "    .progress-bar-interrupted, .progress-bar-interrupted::-webkit-progress-bar {\n",
       "        background: #F44336;\n",
       "    }\n",
       "</style>\n"
      ],
      "text/plain": [
       "<IPython.core.display.HTML object>"
      ]
     },
     "metadata": {},
     "output_type": "display_data"
    },
    {
     "data": {
      "text/html": [
       "<table border=\"1\" class=\"dataframe\">\n",
       "  <thead>\n",
       "    <tr style=\"text-align: left;\">\n",
       "      <th>epoch</th>\n",
       "      <th>train_loss</th>\n",
       "      <th>valid_loss</th>\n",
       "      <th>_rmse</th>\n",
       "      <th>time</th>\n",
       "    </tr>\n",
       "  </thead>\n",
       "  <tbody>\n",
       "    <tr>\n",
       "      <td>0</td>\n",
       "      <td>826.924927</td>\n",
       "      <td>831.836060</td>\n",
       "      <td>28.841570</td>\n",
       "      <td>00:02</td>\n",
       "    </tr>\n",
       "    <tr>\n",
       "      <td>1</td>\n",
       "      <td>838.955627</td>\n",
       "      <td>837.937012</td>\n",
       "      <td>28.947142</td>\n",
       "      <td>00:02</td>\n",
       "    </tr>\n",
       "    <tr>\n",
       "      <td>2</td>\n",
       "      <td>829.555786</td>\n",
       "      <td>829.830566</td>\n",
       "      <td>28.806782</td>\n",
       "      <td>00:02</td>\n",
       "    </tr>\n",
       "    <tr>\n",
       "      <td>3</td>\n",
       "      <td>829.731934</td>\n",
       "      <td>828.470520</td>\n",
       "      <td>28.783165</td>\n",
       "      <td>00:02</td>\n",
       "    </tr>\n",
       "    <tr>\n",
       "      <td>4</td>\n",
       "      <td>821.106018</td>\n",
       "      <td>821.112061</td>\n",
       "      <td>28.655052</td>\n",
       "      <td>00:02</td>\n",
       "    </tr>\n",
       "    <tr>\n",
       "      <td>5</td>\n",
       "      <td>814.014099</td>\n",
       "      <td>816.454651</td>\n",
       "      <td>28.573668</td>\n",
       "      <td>00:02</td>\n",
       "    </tr>\n",
       "    <tr>\n",
       "      <td>6</td>\n",
       "      <td>811.565125</td>\n",
       "      <td>808.738464</td>\n",
       "      <td>28.438326</td>\n",
       "      <td>00:02</td>\n",
       "    </tr>\n",
       "    <tr>\n",
       "      <td>7</td>\n",
       "      <td>804.296692</td>\n",
       "      <td>805.908752</td>\n",
       "      <td>28.388529</td>\n",
       "      <td>00:02</td>\n",
       "    </tr>\n",
       "    <tr>\n",
       "      <td>8</td>\n",
       "      <td>801.619690</td>\n",
       "      <td>802.297668</td>\n",
       "      <td>28.324860</td>\n",
       "      <td>00:02</td>\n",
       "    </tr>\n",
       "    <tr>\n",
       "      <td>9</td>\n",
       "      <td>800.378357</td>\n",
       "      <td>801.399292</td>\n",
       "      <td>28.308994</td>\n",
       "      <td>00:02</td>\n",
       "    </tr>\n",
       "  </tbody>\n",
       "</table>"
      ],
      "text/plain": [
       "<IPython.core.display.HTML object>"
      ]
     },
     "metadata": {},
     "output_type": "display_data"
    }
   ],
   "source": [
    "learn.fit_one_cycle(10, 1e-2)"
   ]
  },
  {
   "cell_type": "code",
   "execution_count": 30,
   "metadata": {},
   "outputs": [],
   "source": [
    "#| export\n",
    "xs, ys = to.train.xs, to.train.ys\n",
    "valid_xs, valid_ys = to.valid.xs, to.valid.ys"
   ]
  },
  {
   "cell_type": "code",
   "execution_count": 31,
   "metadata": {},
   "outputs": [],
   "source": [
    "#| export\n",
    "test_dl = learn.dls.test_dl(df_test)"
   ]
  },
  {
   "cell_type": "code",
   "execution_count": 33,
   "metadata": {},
   "outputs": [
    {
     "data": {
      "text/html": [
       "\n",
       "<style>\n",
       "    /* Turns off some styling */\n",
       "    progress {\n",
       "        /* gets rid of default border in Firefox and Opera. */\n",
       "        border: none;\n",
       "        /* Needs to be in here for Safari polyfill so background images work as expected. */\n",
       "        background-size: auto;\n",
       "    }\n",
       "    progress:not([value]), progress:not([value])::-webkit-progress-bar {\n",
       "        background: repeating-linear-gradient(45deg, #7e7e7e, #7e7e7e 10px, #5c5c5c 10px, #5c5c5c 20px);\n",
       "    }\n",
       "    .progress-bar-interrupted, .progress-bar-interrupted::-webkit-progress-bar {\n",
       "        background: #F44336;\n",
       "    }\n",
       "</style>\n"
      ],
      "text/plain": [
       "<IPython.core.display.HTML object>"
      ]
     },
     "metadata": {},
     "output_type": "display_data"
    },
    {
     "data": {
      "text/html": [],
      "text/plain": [
       "<IPython.core.display.HTML object>"
      ]
     },
     "metadata": {},
     "output_type": "display_data"
    }
   ],
   "source": [
    "#| export\n",
    "preds = learn.get_preds(dl=test_dl)"
   ]
  },
  {
   "cell_type": "code",
   "execution_count": 38,
   "metadata": {},
   "outputs": [
    {
     "data": {
      "text/plain": [
       "(tensor([[100.7270],\n",
       "         [ 98.3200],\n",
       "         [ 99.2370],\n",
       "         ...,\n",
       "         [ 99.2532],\n",
       "         [108.5288],\n",
       "         [103.2632]]),\n",
       " tensor([[nan],\n",
       "         [nan],\n",
       "         [nan],\n",
       "         ...,\n",
       "         [nan],\n",
       "         [nan],\n",
       "         [nan]]))"
      ]
     },
     "execution_count": 38,
     "metadata": {},
     "output_type": "execute_result"
    }
   ],
   "source": [
    "preds"
   ]
  },
  {
   "cell_type": "code",
   "execution_count": 35,
   "metadata": {},
   "outputs": [
    {
     "data": {
      "text/plain": [
       "True"
      ]
     },
     "execution_count": 35,
     "metadata": {},
     "output_type": "execute_result"
    }
   ],
   "source": [
    "len(df_test) == len(preds[0])"
   ]
  },
  {
   "cell_type": "code",
   "execution_count": 36,
   "metadata": {},
   "outputs": [],
   "source": [
    "#| export\n",
    "sample_df = pd.read_csv(path/'sample_submission.csv')"
   ]
  },
  {
   "cell_type": "code",
   "execution_count": 39,
   "metadata": {},
   "outputs": [],
   "source": [
    "#| export\n",
    "sample_df['cost'] = preds[0]"
   ]
  },
  {
   "cell_type": "code",
   "execution_count": 40,
   "metadata": {},
   "outputs": [],
   "source": [
    "#| export\n",
    "sample_df.to_csv('submission.csv', index=False)"
   ]
  },
  {
   "cell_type": "code",
   "execution_count": 42,
   "metadata": {},
   "outputs": [
    {
     "name": "stdout",
     "output_type": "stream",
     "text": [
      "id,cost\n",
      "360336,100.727005\n",
      "360337,98.31998\n",
      "360338,99.23696\n",
      "360339,100.563896\n",
      "360340,82.47281\n",
      "360341,102.12399\n",
      "360342,110.87849\n",
      "360343,92.2671\n",
      "360344,92.96241\n"
     ]
    }
   ],
   "source": [
    "!head submission.csv"
   ]
  },
  {
   "cell_type": "code",
   "execution_count": 44,
   "metadata": {},
   "outputs": [
    {
     "data": {
      "text/plain": [
       "'playground-series-s3e11'"
      ]
     },
     "execution_count": 44,
     "metadata": {},
     "output_type": "execute_result"
    }
   ],
   "source": [
    "comp"
   ]
  },
  {
   "cell_type": "code",
   "execution_count": null,
   "metadata": {},
   "outputs": [],
   "source": []
  },
  {
   "cell_type": "code",
   "execution_count": 51,
   "metadata": {},
   "outputs": [],
   "source": [
    "submit = False"
   ]
  },
  {
   "cell_type": "code",
   "execution_count": 52,
   "metadata": {},
   "outputs": [],
   "source": [
    "if not iskaggle and submit:\n",
    "    from kaggle import api\n",
    "    api.competition_submit_cli(file_name='submission.csv', message=\"baseline model\", competition=comp)"
   ]
  },
  {
   "cell_type": "code",
   "execution_count": 1,
   "metadata": {},
   "outputs": [
    {
     "name": "stdout",
     "output_type": "stream",
     "text": [
      "export successful\n"
     ]
    }
   ],
   "source": [
    "import nbdev\n",
    "nbdev.export.nb_export('media_campaign_cost.ipynb', 'app_v1')\n",
    "print(\"export successful\")"
   ]
  }
 ],
 "metadata": {
  "kernelspec": {
   "display_name": "base",
   "language": "python",
   "name": "python3"
  },
  "language_info": {
   "codemirror_mode": {
    "name": "ipython",
    "version": 3
   },
   "file_extension": ".py",
   "mimetype": "text/x-python",
   "name": "python",
   "nbconvert_exporter": "python",
   "pygments_lexer": "ipython3",
   "version": "3.10.6"
  },
  "orig_nbformat": 4,
  "vscode": {
   "interpreter": {
    "hash": "f4702a165a03ade35e40e0221d250a3a44a346cfc16a49ce6d051d1595069b46"
   }
  }
 },
 "nbformat": 4,
 "nbformat_minor": 2
}
