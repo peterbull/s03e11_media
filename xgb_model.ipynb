{
 "cells": [
  {
   "cell_type": "code",
   "execution_count": 1,
   "metadata": {},
   "outputs": [],
   "source": [
    "#| defualt_exp xgb_model"
   ]
  },
  {
   "cell_type": "code",
   "execution_count": 1,
   "metadata": {},
   "outputs": [],
   "source": [
    "#| export\n",
    "from fastai.tabular.all import *\n",
    "\n",
    "from sklearn.model_selection import KFold, train_test_split, cross_val_score\n",
    "from sklearn.ensemble import RandomForestRegressor\n",
    "from sklearn.inspection import permutation_importance\n",
    "\n",
    "\n",
    "import xgboost as xgb\n",
    "\n",
    "import seaborn as sns\n",
    "\n",
    "import optuna\n",
    "\n",
    "import json"
   ]
  },
  {
   "cell_type": "code",
   "execution_count": 2,
   "metadata": {},
   "outputs": [],
   "source": [
    "#| export\n",
    "try: import fastkaggle\n",
    "except ModuleNotFoundError:\n",
    "    !pip install -Uq fastkaggle\n",
    "\n",
    "from fastkaggle import *"
   ]
  },
  {
   "cell_type": "code",
   "execution_count": 3,
   "metadata": {},
   "outputs": [],
   "source": [
    "#| export\n",
    "comp = 'playground-series-s3e11'\n",
    "path = setup_comp(comp, install='fastai')"
   ]
  },
  {
   "cell_type": "code",
   "execution_count": 4,
   "metadata": {},
   "outputs": [],
   "source": [
    "#| export\n",
    "df_train = pd.read_csv(path/'train.csv', low_memory=False)\n",
    "df_test = pd.read_csv(path/'test.csv', low_memory=False)\n",
    "df_comb = pd.concat([df_train, df_test], ignore_index=True)"
   ]
  },
  {
   "cell_type": "code",
   "execution_count": 5,
   "metadata": {},
   "outputs": [],
   "source": [
    "#| export\n",
    "df_train.drop(['id'], axis=1, inplace=True)\n",
    "df_test.drop(['id'], axis=1, inplace=True)\n",
    "df_comb.drop(['id'], axis=1, inplace=True)"
   ]
  },
  {
   "cell_type": "code",
   "execution_count": 6,
   "metadata": {},
   "outputs": [],
   "source": [
    "#| export\n",
    "df_train['store_sales_per_children'] = df_train['store_sales(in millions)'] / df_train['total_children']"
   ]
  },
  {
   "cell_type": "code",
   "execution_count": 7,
   "metadata": {},
   "outputs": [],
   "source": [
    "#| export\n",
    "for column in df_train.columns:\n",
    "    if (list(df_train[column].unique()) == [0.0, 1.0]):\n",
    "        df_train.loc[:, column] = df_train[column].astype('bool')"
   ]
  },
  {
   "cell_type": "code",
   "execution_count": 8,
   "metadata": {},
   "outputs": [],
   "source": [
    "#| export\n",
    "train_idxs = np.arange(len(df_train))\n",
    "test_idxs = np.arange(len(df_train), len(df_comb))"
   ]
  },
  {
   "cell_type": "code",
   "execution_count": 9,
   "metadata": {},
   "outputs": [],
   "source": [
    "#| export\n",
    "dep_var = 'cost'\n",
    "procs = [Categorify, FillMissing, Normalize]\n",
    "cont, cat = cont_cat_split(df_comb, max_card=1, dep_var=dep_var)\n",
    "splits = RandomSplitter(valid_pct=0.2)(range_of(df_train))"
   ]
  },
  {
   "cell_type": "code",
   "execution_count": 10,
   "metadata": {},
   "outputs": [],
   "source": [
    "#| export\n",
    "df_train = df_comb.iloc[train_idxs]\n",
    "df_test = df_comb.iloc[test_idxs]"
   ]
  },
  {
   "cell_type": "code",
   "execution_count": 11,
   "metadata": {},
   "outputs": [],
   "source": [
    "#| export\n",
    "to_final = TabularPandas(df_train, procs, cat, cont, y_names=dep_var, splits=splits)\n",
    "test_final = TabularPandas(df_test, procs, cat, cont, y_names=None, splits=None)\n",
    "dls_final = to_final.dataloaders(bs=1024)"
   ]
  },
  {
   "cell_type": "code",
   "execution_count": 12,
   "metadata": {},
   "outputs": [],
   "source": [
    "#| export\n",
    "train_fi = df_train.drop(columns = ['cost'])\n",
    "target_fi = df_train['cost']"
   ]
  },
  {
   "cell_type": "code",
   "execution_count": 13,
   "metadata": {},
   "outputs": [],
   "source": [
    "#| export\n",
    "def plot_fi(data,ax = None, title = None):\n",
    "    fi = pd.Series(data, index = train_fi.columns).sort_values(ascending = True)\n",
    "    fi.plot(kind = 'barh', ax = ax)"
   ]
  },
  {
   "cell_type": "code",
   "execution_count": 14,
   "metadata": {},
   "outputs": [],
   "source": [
    "#| export\n",
    "x_train, x_test, y_train, y_test = train_test_split(train_fi, target_fi, test_size=0.2)"
   ]
  },
  {
   "cell_type": "code",
   "execution_count": 15,
   "metadata": {},
   "outputs": [],
   "source": [
    "#| export\n",
    "fi_params = {'learning_rate': 0.2456172216493356,\n",
    " 'max_depth': 10,\n",
    " 'lambda': 0.0023120639864473262,\n",
    " 'alpha': 0.5848465230832824,\n",
    " 'colsample_bytree': 0.9966638720347625,\n",
    " 'min_child_weight': 0,\n",
    " 'objective': 'reg:squaredlogerror',\n",
    " 'eval_metric': 'rmsle'}"
   ]
  },
  {
   "cell_type": "code",
   "execution_count": 16,
   "metadata": {},
   "outputs": [],
   "source": [
    "#| export\n",
    "model = xgb.XGBRegressor(**fi_params)\n"
   ]
  },
  {
   "cell_type": "code",
   "execution_count": 17,
   "metadata": {},
   "outputs": [
    {
     "data": {
      "text/html": [
       "<style>#sk-container-id-1 {color: black;background-color: white;}#sk-container-id-1 pre{padding: 0;}#sk-container-id-1 div.sk-toggleable {background-color: white;}#sk-container-id-1 label.sk-toggleable__label {cursor: pointer;display: block;width: 100%;margin-bottom: 0;padding: 0.3em;box-sizing: border-box;text-align: center;}#sk-container-id-1 label.sk-toggleable__label-arrow:before {content: \"▸\";float: left;margin-right: 0.25em;color: #696969;}#sk-container-id-1 label.sk-toggleable__label-arrow:hover:before {color: black;}#sk-container-id-1 div.sk-estimator:hover label.sk-toggleable__label-arrow:before {color: black;}#sk-container-id-1 div.sk-toggleable__content {max-height: 0;max-width: 0;overflow: hidden;text-align: left;background-color: #f0f8ff;}#sk-container-id-1 div.sk-toggleable__content pre {margin: 0.2em;color: black;border-radius: 0.25em;background-color: #f0f8ff;}#sk-container-id-1 input.sk-toggleable__control:checked~div.sk-toggleable__content {max-height: 200px;max-width: 100%;overflow: auto;}#sk-container-id-1 input.sk-toggleable__control:checked~label.sk-toggleable__label-arrow:before {content: \"▾\";}#sk-container-id-1 div.sk-estimator input.sk-toggleable__control:checked~label.sk-toggleable__label {background-color: #d4ebff;}#sk-container-id-1 div.sk-label input.sk-toggleable__control:checked~label.sk-toggleable__label {background-color: #d4ebff;}#sk-container-id-1 input.sk-hidden--visually {border: 0;clip: rect(1px 1px 1px 1px);clip: rect(1px, 1px, 1px, 1px);height: 1px;margin: -1px;overflow: hidden;padding: 0;position: absolute;width: 1px;}#sk-container-id-1 div.sk-estimator {font-family: monospace;background-color: #f0f8ff;border: 1px dotted black;border-radius: 0.25em;box-sizing: border-box;margin-bottom: 0.5em;}#sk-container-id-1 div.sk-estimator:hover {background-color: #d4ebff;}#sk-container-id-1 div.sk-parallel-item::after {content: \"\";width: 100%;border-bottom: 1px solid gray;flex-grow: 1;}#sk-container-id-1 div.sk-label:hover label.sk-toggleable__label {background-color: #d4ebff;}#sk-container-id-1 div.sk-serial::before {content: \"\";position: absolute;border-left: 1px solid gray;box-sizing: border-box;top: 0;bottom: 0;left: 50%;z-index: 0;}#sk-container-id-1 div.sk-serial {display: flex;flex-direction: column;align-items: center;background-color: white;padding-right: 0.2em;padding-left: 0.2em;position: relative;}#sk-container-id-1 div.sk-item {position: relative;z-index: 1;}#sk-container-id-1 div.sk-parallel {display: flex;align-items: stretch;justify-content: center;background-color: white;position: relative;}#sk-container-id-1 div.sk-item::before, #sk-container-id-1 div.sk-parallel-item::before {content: \"\";position: absolute;border-left: 1px solid gray;box-sizing: border-box;top: 0;bottom: 0;left: 50%;z-index: -1;}#sk-container-id-1 div.sk-parallel-item {display: flex;flex-direction: column;z-index: 1;position: relative;background-color: white;}#sk-container-id-1 div.sk-parallel-item:first-child::after {align-self: flex-end;width: 50%;}#sk-container-id-1 div.sk-parallel-item:last-child::after {align-self: flex-start;width: 50%;}#sk-container-id-1 div.sk-parallel-item:only-child::after {width: 0;}#sk-container-id-1 div.sk-dashed-wrapped {border: 1px dashed gray;margin: 0 0.4em 0.5em 0.4em;box-sizing: border-box;padding-bottom: 0.4em;background-color: white;}#sk-container-id-1 div.sk-label label {font-family: monospace;font-weight: bold;display: inline-block;line-height: 1.2em;}#sk-container-id-1 div.sk-label-container {text-align: center;}#sk-container-id-1 div.sk-container {/* jupyter's `normalize.less` sets `[hidden] { display: none; }` but bootstrap.min.css set `[hidden] { display: none !important; }` so we also need the `!important` here to be able to override the default hidden behavior on the sphinx rendered scikit-learn.org. See: https://github.com/scikit-learn/scikit-learn/issues/21755 */display: inline-block !important;position: relative;}#sk-container-id-1 div.sk-text-repr-fallback {display: none;}</style><div id=\"sk-container-id-1\" class=\"sk-top-container\"><div class=\"sk-text-repr-fallback\"><pre>XGBRegressor(alpha=0.5848465230832824, base_score=None, booster=None,\n",
       "             callbacks=None, colsample_bylevel=None, colsample_bynode=None,\n",
       "             colsample_bytree=0.9966638720347625, early_stopping_rounds=None,\n",
       "             enable_categorical=False, eval_metric=&#x27;rmsle&#x27;, feature_types=None,\n",
       "             gamma=None, gpu_id=None, grow_policy=None, importance_type=None,\n",
       "             interaction_constraints=None, lambda=0.0023120639864473262,\n",
       "             learning_rate=0.2456172216493356, max_bin=None,\n",
       "             max_cat_threshold=None, max_cat_to_onehot=None,\n",
       "             max_delta_step=None, max_depth=10, max_leaves=None,\n",
       "             min_child_weight=0, missing=nan, monotone_constraints=None,\n",
       "             n_estimators=100, n_jobs=None, num_parallel_tree=None, ...)</pre><b>In a Jupyter environment, please rerun this cell to show the HTML representation or trust the notebook. <br />On GitHub, the HTML representation is unable to render, please try loading this page with nbviewer.org.</b></div><div class=\"sk-container\" hidden><div class=\"sk-item\"><div class=\"sk-estimator sk-toggleable\"><input class=\"sk-toggleable__control sk-hidden--visually\" id=\"sk-estimator-id-1\" type=\"checkbox\" checked><label for=\"sk-estimator-id-1\" class=\"sk-toggleable__label sk-toggleable__label-arrow\">XGBRegressor</label><div class=\"sk-toggleable__content\"><pre>XGBRegressor(alpha=0.5848465230832824, base_score=None, booster=None,\n",
       "             callbacks=None, colsample_bylevel=None, colsample_bynode=None,\n",
       "             colsample_bytree=0.9966638720347625, early_stopping_rounds=None,\n",
       "             enable_categorical=False, eval_metric=&#x27;rmsle&#x27;, feature_types=None,\n",
       "             gamma=None, gpu_id=None, grow_policy=None, importance_type=None,\n",
       "             interaction_constraints=None, lambda=0.0023120639864473262,\n",
       "             learning_rate=0.2456172216493356, max_bin=None,\n",
       "             max_cat_threshold=None, max_cat_to_onehot=None,\n",
       "             max_delta_step=None, max_depth=10, max_leaves=None,\n",
       "             min_child_weight=0, missing=nan, monotone_constraints=None,\n",
       "             n_estimators=100, n_jobs=None, num_parallel_tree=None, ...)</pre></div></div></div></div></div>"
      ],
      "text/plain": [
       "XGBRegressor(alpha=0.5848465230832824, base_score=None, booster=None,\n",
       "             callbacks=None, colsample_bylevel=None, colsample_bynode=None,\n",
       "             colsample_bytree=0.9966638720347625, early_stopping_rounds=None,\n",
       "             enable_categorical=False, eval_metric='rmsle', feature_types=None,\n",
       "             gamma=None, gpu_id=None, grow_policy=None, importance_type=None,\n",
       "             interaction_constraints=None, lambda=0.0023120639864473262,\n",
       "             learning_rate=0.2456172216493356, max_bin=None,\n",
       "             max_cat_threshold=None, max_cat_to_onehot=None,\n",
       "             max_delta_step=None, max_depth=10, max_leaves=None,\n",
       "             min_child_weight=0, missing=nan, monotone_constraints=None,\n",
       "             n_estimators=100, n_jobs=None, num_parallel_tree=None, ...)"
      ]
     },
     "execution_count": 17,
     "metadata": {},
     "output_type": "execute_result"
    }
   ],
   "source": [
    "#| export\n",
    "model.fit(x_train, y_train)"
   ]
  },
  {
   "cell_type": "code",
   "execution_count": 18,
   "metadata": {},
   "outputs": [
    {
     "data": {
      "image/png": "[encoded data removed]",
      "text/plain": [
       "<Figure size 640x480 with 1 Axes>"
      ]
     },
     "metadata": {},
     "output_type": "display_data"
    }
   ],
   "source": [
    "plot_fi(model.feature_importances_)"
   ]
  },
  {
   "cell_type": "code",
   "execution_count": 19,
   "metadata": {},
   "outputs": [],
   "source": [
    "#| export\n",
    "r = permutation_importance(model, x_test, y_test, n_repeats=1, random_state=46)"
   ]
  },
  {
   "cell_type": "code",
   "execution_count": 20,
   "metadata": {},
   "outputs": [],
   "source": [
    "#| export\n",
    "fi = pd.Series(r['importances'].reshape(15,), index = train_fi.columns).sort_values(ascending = True)"
   ]
  },
  {
   "cell_type": "code",
   "execution_count": 21,
   "metadata": {},
   "outputs": [
    {
     "data": {
      "text/plain": [
       "<AxesSubplot: >"
      ]
     },
     "execution_count": 21,
     "metadata": {},
     "output_type": "execute_result"
    },
    {
     "data": {
      "image/png": "[encoded data removed]",
      "text/plain": [
       "<Figure size 640x480 with 1 Axes>"
      ]
     },
     "metadata": {},
     "output_type": "display_data"
    }
   ],
   "source": [
    "fi.plot(kind = 'barh')"
   ]
  },
  {
   "cell_type": "code",
   "execution_count": 22,
   "metadata": {},
   "outputs": [],
   "source": [
    "#| export\n",
    "features = list(fi.index)\n",
    "cols_to_drop = features[0:6]"
   ]
  },
  {
   "cell_type": "code",
   "execution_count": 23,
   "metadata": {},
   "outputs": [],
   "source": [
    "#| export\n",
    "df_train = df_train.drop(columns=cols_to_drop)"
   ]
  },
  {
   "cell_type": "code",
   "execution_count": 24,
   "metadata": {},
   "outputs": [],
   "source": [
    "#| export\n",
    "df_test = df_test.drop(columns=cols_to_drop)"
   ]
  },
  {
   "cell_type": "code",
   "execution_count": 25,
   "metadata": {},
   "outputs": [],
   "source": [
    "#| export\n",
    "def fe(data):\n",
    "    data = data.replace([np.inf, -np.inf], 10)\n",
    "    return data"
   ]
  },
  {
   "cell_type": "code",
   "execution_count": 26,
   "metadata": {},
   "outputs": [],
   "source": [
    "#| export\n",
    "train_fe = fe(df_train)\n",
    "test_fe = fe(df_test)"
   ]
  },
  {
   "cell_type": "code",
   "execution_count": 27,
   "metadata": {},
   "outputs": [],
   "source": [
    "#| export\n",
    "train = train_fe.drop(columns=['cost'])"
   ]
  },
  {
   "cell_type": "code",
   "execution_count": 28,
   "metadata": {},
   "outputs": [],
   "source": [
    "#| export\n",
    "target = train_fe['cost']"
   ]
  },
  {
   "cell_type": "markdown",
   "metadata": {},
   "source": [
    "#### Finding the Best Parameters With Optuna"
   ]
  },
  {
   "cell_type": "code",
   "execution_count": 29,
   "metadata": {},
   "outputs": [],
   "source": [
    "#| export\n",
    "x_train, x_test, y_train, y_test = train_test_split(train,target, test_size = 0.2)\n",
    "d_train = xgb.DMatrix(x_train,y_train)\n",
    "d_test = xgb.DMatrix(x_test,y_test)\n"
   ]
  },
  {
   "cell_type": "code",
   "execution_count": 30,
   "metadata": {},
   "outputs": [],
   "source": [
    "#| export\n",
    "glob_params = {\n",
    "    'objective': 'reg:squaredlogerror',\n",
    "    'eval_metric': 'rmsle'\n",
    "}"
   ]
  },
  {
   "cell_type": "code",
   "execution_count": 31,
   "metadata": {},
   "outputs": [],
   "source": [
    "#| export\n",
    "def objective(trial):\n",
    "    params = {\n",
    "        'verbosity':0,\n",
    "        'learning_rate': trial.suggest_float('learning_rate',1e-10,1.0),\n",
    "        'max_depth':trial.suggest_int('max_depth', 3, 12),\n",
    "#        'gamma':trial.suggest_float('gamma',0,8),\n",
    "        'lambda': trial.suggest_float('lambda', 1e-8, 1.0),\n",
    "        'alpha': trial.suggest_float('alpha', 1e-8, 1.0),\n",
    "        'colsample_bytree':trial.suggest_float('colsample_bytree',1e-5,1.0),\n",
    "        'min_child_weight':trial.suggest_int('min_child_weight',0,1),\n",
    "        'booster':trial.suggest_categorical(\"booster\", [\"dart\", \"gbtree\",'gblinear']),\n",
    "        'sampling_method': trial.suggest_categorical('sampling_method',['uniform','gradient_based']),\n",
    "        'grow_policy': trial.suggest_categorical('grow_policy',['depthwise','lossguide']),\n",
    "#         'reg_alpha': trial.suggest_float(\"reg_alpha\", 0, 1),\n",
    "#         'reg_lambda': trial.suggest_float(\"reg_lambda\", 0, 1),\n",
    "        'n_estimators': trial.suggest_int('n_estimators', 100, 1500),    \n",
    "    }\n",
    "    num_boost_round = params.pop('num_boost_round')\n",
    "    params.update(glob_params)\n",
    "    sch_prm = xgb.train(params, d_train, num_boost_round=200,\n",
    "                        evals = [(d_test, 'valid')], \n",
    "                        early_stopping_rounds=20, verbose_eval=False\n",
    "                       )\n",
    "    \n",
    "    return sch_prm.best_score\n"
   ]
  },
  {
   "cell_type": "code",
   "execution_count": 32,
   "metadata": {},
   "outputs": [],
   "source": [
    "#| export\n",
    "run_study = False"
   ]
  },
  {
   "cell_type": "code",
   "execution_count": 33,
   "metadata": {},
   "outputs": [],
   "source": [
    "#| export\n",
    "if run_study == True:\n",
    "    study = optuna.create_study(direction='minimize')\n",
    "    study.optimize(objective, n_trials = 100,)\n",
    "    # save study.best_params a json file to load later\n",
    "    with open('./training_params/xgb_params.json', 'w') as fp:\n",
    "        json.dump(study.best_params, fp)"
   ]
  },
  {
   "cell_type": "markdown",
   "metadata": {},
   "source": [
    "#### Assigning Best Parameters"
   ]
  },
  {
   "cell_type": "code",
   "execution_count": 34,
   "metadata": {},
   "outputs": [],
   "source": [
    "#| export\n",
    "with open('./training_params/xgb_params.json', 'r') as fp:\n",
    "    study_best_params = json.load(fp)"
   ]
  },
  {
   "cell_type": "code",
   "execution_count": 35,
   "metadata": {},
   "outputs": [
    {
     "data": {
      "text/plain": [
       "{'learning_rate': 0.9966089304842916,\n",
       " 'max_depth': 12,\n",
       " 'lambda': 0.36999767740684797,\n",
       " 'alpha': 0.00034306004800048104,\n",
       " 'colsample_bytree': 0.9657745153267124,\n",
       " 'min_child_weight': 0,\n",
       " 'booster': 'gbtree',\n",
       " 'sampling_method': 'uniform',\n",
       " 'grow_policy': 'depthwise'}"
      ]
     },
     "execution_count": 35,
     "metadata": {},
     "output_type": "execute_result"
    }
   ],
   "source": [
    "study_best_params"
   ]
  },
  {
   "cell_type": "code",
   "execution_count": 36,
   "metadata": {},
   "outputs": [],
   "source": [
    "#| export\n",
    "best_params = {\n",
    " 'learning_rate': 0.9319687783879956,\n",
    " 'max_depth': 12,\n",
    " 'lambda': 0.02022953533538882,\n",
    " 'alpha': 9.277352577569814e-07,\n",
    " 'colsample_bytree': 0.7477567097593131,\n",
    " 'min_child_weight': 0,\n",
    " 'booster': 'gbtree',\n",
    " 'sampling_method': 'uniform',\n",
    " 'grow_policy': 'depthwise',\n",
    " 'objective': 'reg:squaredlogerror',\n",
    " 'eval_metric': 'rmsle'}"
   ]
  },
  {
   "cell_type": "code",
   "execution_count": 37,
   "metadata": {},
   "outputs": [],
   "source": [
    "#| export\n",
    "best_params.update(study_best_params)"
   ]
  },
  {
   "cell_type": "code",
   "execution_count": 38,
   "metadata": {},
   "outputs": [],
   "source": [
    "def max_boost_round(trial):\n",
    "    params = {\n",
    "        'num_boost_round': trial.suggest_int('num_boost_round', 100, 1500),\n",
    "    }\n",
    "    num_boost_round = params.pop('num_boost_round')\n",
    "    params.update(glob_params)\n",
    "    sch_prm = xgb.train(params, d_train, num_boost_round=num_boost_round,\n",
    "                        evals = [(d_test, 'valid')], \n",
    "                        early_stopping_rounds=20, verbose_eval=False\n",
    "                       )\n",
    "    \n",
    "    return sch_prm.best_score"
   ]
  },
  {
   "cell_type": "code",
   "execution_count": 39,
   "metadata": {},
   "outputs": [],
   "source": [
    "run_max_boost = False"
   ]
  },
  {
   "cell_type": "code",
   "execution_count": 40,
   "metadata": {},
   "outputs": [],
   "source": [
    "#| export\n",
    "if run_max_boost == True:\n",
    "    study = optuna.create_study(direction='minimize')\n",
    "    study.optimize(max_boost_round, n_trials = 20,)\n",
    "    # save study.best_params a json file to load later\n",
    "    with open('./training_params/boost_params.json', 'w') as fp:\n",
    "        json.dump(study.best_params, fp)"
   ]
  },
  {
   "cell_type": "code",
   "execution_count": 41,
   "metadata": {},
   "outputs": [],
   "source": [
    "#| export\n",
    "with open('./training_params/boost_params.json', 'r') as fp:\n",
    "    boost_best_params = json.load(fp)"
   ]
  },
  {
   "cell_type": "code",
   "execution_count": 42,
   "metadata": {},
   "outputs": [],
   "source": [
    "num_boost_round = boost_best_params['num_boost_round']"
   ]
  },
  {
   "cell_type": "markdown",
   "metadata": {},
   "source": [
    "***"
   ]
  },
  {
   "cell_type": "markdown",
   "metadata": {},
   "source": [
    "#### Creating GB Model"
   ]
  },
  {
   "cell_type": "code",
   "execution_count": 43,
   "metadata": {},
   "outputs": [],
   "source": [
    "#| export\n",
    "cont, cat = cont_cat_split(df_train, max_card=1, dep_var='cost')"
   ]
  },
  {
   "cell_type": "code",
   "execution_count": 44,
   "metadata": {},
   "outputs": [],
   "source": [
    "to = TabularPandas(df_train, procs, cat, cont, y_names='cost', splits=splits)"
   ]
  },
  {
   "cell_type": "code",
   "execution_count": 45,
   "metadata": {},
   "outputs": [],
   "source": [
    "to_test = TabularPandas(df_test, procs, cat, cont, y_names=None, splits=None)"
   ]
  },
  {
   "cell_type": "code",
   "execution_count": 46,
   "metadata": {},
   "outputs": [],
   "source": [
    "xs, y = to.train.xs, to.train.y\n",
    "valid_xs, valid_y = to.valid.xs, to.valid.y\n",
    "test_xs = to_test.xs"
   ]
  },
  {
   "cell_type": "code",
   "execution_count": 47,
   "metadata": {},
   "outputs": [],
   "source": [
    "gb_train = xgb.DMatrix(xs, label=y)\n",
    "gb_valid = xgb.DMatrix(valid_xs, label=valid_y)\n",
    "gb_test = xgb.DMatrix(test_xs)"
   ]
  },
  {
   "cell_type": "code",
   "execution_count": 48,
   "metadata": {},
   "outputs": [
    {
     "name": "stdout",
     "output_type": "stream",
     "text": [
      "[0]\tvalid-rmsle:3.58321\n",
      "[1]\tvalid-rmsle:3.01015\n",
      "[2]\tvalid-rmsle:2.45605\n",
      "[3]\tvalid-rmsle:1.92735\n",
      "[4]\tvalid-rmsle:1.43401\n",
      "[5]\tvalid-rmsle:0.99259\n",
      "[6]\tvalid-rmsle:0.63211\n",
      "[7]\tvalid-rmsle:0.40101\n",
      "[8]\tvalid-rmsle:0.31917\n",
      "[9]\tvalid-rmsle:0.30638\n",
      "[10]\tvalid-rmsle:0.30301\n",
      "[11]\tvalid-rmsle:0.30105\n",
      "[12]\tvalid-rmsle:0.30037\n",
      "[13]\tvalid-rmsle:0.29942\n",
      "[14]\tvalid-rmsle:0.29894\n",
      "[15]\tvalid-rmsle:0.29825\n",
      "[16]\tvalid-rmsle:0.29787\n",
      "[17]\tvalid-rmsle:0.29763\n",
      "[18]\tvalid-rmsle:0.29737\n",
      "[19]\tvalid-rmsle:0.29706\n",
      "[20]\tvalid-rmsle:0.29665\n",
      "[21]\tvalid-rmsle:0.29639\n",
      "[22]\tvalid-rmsle:0.29613\n",
      "[23]\tvalid-rmsle:0.29591\n",
      "[24]\tvalid-rmsle:0.29581\n",
      "[25]\tvalid-rmsle:0.29562\n",
      "[26]\tvalid-rmsle:0.29553\n",
      "[27]\tvalid-rmsle:0.29533\n",
      "[28]\tvalid-rmsle:0.29521\n",
      "[29]\tvalid-rmsle:0.29504\n",
      "[30]\tvalid-rmsle:0.29494\n",
      "[31]\tvalid-rmsle:0.29483\n",
      "[32]\tvalid-rmsle:0.29474\n",
      "[33]\tvalid-rmsle:0.29465\n",
      "[34]\tvalid-rmsle:0.29461\n",
      "[35]\tvalid-rmsle:0.29451\n",
      "[36]\tvalid-rmsle:0.29445\n",
      "[37]\tvalid-rmsle:0.29439\n",
      "[38]\tvalid-rmsle:0.29430\n",
      "[39]\tvalid-rmsle:0.29426\n",
      "[40]\tvalid-rmsle:0.29423\n",
      "[41]\tvalid-rmsle:0.29420\n",
      "[42]\tvalid-rmsle:0.29414\n",
      "[43]\tvalid-rmsle:0.29407\n",
      "[44]\tvalid-rmsle:0.29403\n",
      "[45]\tvalid-rmsle:0.29398\n",
      "[46]\tvalid-rmsle:0.29394\n",
      "[47]\tvalid-rmsle:0.29391\n",
      "[48]\tvalid-rmsle:0.29386\n",
      "[49]\tvalid-rmsle:0.29382\n",
      "[50]\tvalid-rmsle:0.29378\n",
      "[51]\tvalid-rmsle:0.29375\n",
      "[52]\tvalid-rmsle:0.29372\n",
      "[53]\tvalid-rmsle:0.29371\n",
      "[54]\tvalid-rmsle:0.29369\n",
      "[55]\tvalid-rmsle:0.29364\n",
      "[56]\tvalid-rmsle:0.29363\n",
      "[57]\tvalid-rmsle:0.29361\n",
      "[58]\tvalid-rmsle:0.29358\n",
      "[59]\tvalid-rmsle:0.29357\n",
      "[60]\tvalid-rmsle:0.29355\n",
      "[61]\tvalid-rmsle:0.29353\n",
      "[62]\tvalid-rmsle:0.29350\n",
      "[63]\tvalid-rmsle:0.29348\n",
      "[64]\tvalid-rmsle:0.29346\n",
      "[65]\tvalid-rmsle:0.29344\n",
      "[66]\tvalid-rmsle:0.29342\n",
      "[67]\tvalid-rmsle:0.29340\n",
      "[68]\tvalid-rmsle:0.29339\n",
      "[69]\tvalid-rmsle:0.29337\n",
      "[70]\tvalid-rmsle:0.29336\n",
      "[71]\tvalid-rmsle:0.29335\n",
      "[72]\tvalid-rmsle:0.29334\n",
      "[73]\tvalid-rmsle:0.29334\n",
      "[74]\tvalid-rmsle:0.29333\n",
      "[75]\tvalid-rmsle:0.29333\n",
      "[76]\tvalid-rmsle:0.29332\n",
      "[77]\tvalid-rmsle:0.29330\n",
      "[78]\tvalid-rmsle:0.29328\n",
      "[79]\tvalid-rmsle:0.29328\n",
      "[80]\tvalid-rmsle:0.29326\n",
      "[81]\tvalid-rmsle:0.29325\n",
      "[82]\tvalid-rmsle:0.29324\n",
      "[83]\tvalid-rmsle:0.29324\n",
      "[84]\tvalid-rmsle:0.29323\n",
      "[85]\tvalid-rmsle:0.29322\n",
      "[86]\tvalid-rmsle:0.29322\n",
      "[87]\tvalid-rmsle:0.29320\n",
      "[88]\tvalid-rmsle:0.29319\n",
      "[89]\tvalid-rmsle:0.29319\n",
      "[90]\tvalid-rmsle:0.29318\n",
      "[91]\tvalid-rmsle:0.29317\n",
      "[92]\tvalid-rmsle:0.29316\n",
      "[93]\tvalid-rmsle:0.29316\n",
      "[94]\tvalid-rmsle:0.29314\n",
      "[95]\tvalid-rmsle:0.29314\n",
      "[96]\tvalid-rmsle:0.29313\n",
      "[97]\tvalid-rmsle:0.29313\n",
      "[98]\tvalid-rmsle:0.29313\n",
      "[99]\tvalid-rmsle:0.29312\n",
      "[100]\tvalid-rmsle:0.29311\n",
      "[101]\tvalid-rmsle:0.29311\n",
      "[102]\tvalid-rmsle:0.29311\n",
      "[103]\tvalid-rmsle:0.29310\n",
      "[104]\tvalid-rmsle:0.29309\n",
      "[105]\tvalid-rmsle:0.29309\n",
      "[106]\tvalid-rmsle:0.29309\n",
      "[107]\tvalid-rmsle:0.29309\n",
      "[108]\tvalid-rmsle:0.29308\n",
      "[109]\tvalid-rmsle:0.29308\n",
      "[110]\tvalid-rmsle:0.29308\n",
      "[111]\tvalid-rmsle:0.29307\n",
      "[112]\tvalid-rmsle:0.29306\n",
      "[113]\tvalid-rmsle:0.29306\n",
      "[114]\tvalid-rmsle:0.29306\n",
      "[115]\tvalid-rmsle:0.29305\n",
      "[116]\tvalid-rmsle:0.29305\n",
      "[117]\tvalid-rmsle:0.29305\n",
      "[118]\tvalid-rmsle:0.29304\n",
      "[119]\tvalid-rmsle:0.29304\n",
      "[120]\tvalid-rmsle:0.29304\n",
      "[121]\tvalid-rmsle:0.29303\n",
      "[122]\tvalid-rmsle:0.29303\n",
      "[123]\tvalid-rmsle:0.29303\n",
      "[124]\tvalid-rmsle:0.29302\n",
      "[125]\tvalid-rmsle:0.29301\n",
      "[126]\tvalid-rmsle:0.29301\n",
      "[127]\tvalid-rmsle:0.29301\n",
      "[128]\tvalid-rmsle:0.29300\n",
      "[129]\tvalid-rmsle:0.29300\n",
      "[130]\tvalid-rmsle:0.29299\n",
      "[131]\tvalid-rmsle:0.29299\n",
      "[132]\tvalid-rmsle:0.29299\n",
      "[133]\tvalid-rmsle:0.29299\n",
      "[134]\tvalid-rmsle:0.29299\n",
      "[135]\tvalid-rmsle:0.29299\n",
      "[136]\tvalid-rmsle:0.29298\n",
      "[137]\tvalid-rmsle:0.29298\n",
      "[138]\tvalid-rmsle:0.29298\n",
      "[139]\tvalid-rmsle:0.29298\n",
      "[140]\tvalid-rmsle:0.29298\n",
      "[141]\tvalid-rmsle:0.29298\n",
      "[142]\tvalid-rmsle:0.29297\n",
      "[143]\tvalid-rmsle:0.29297\n",
      "[144]\tvalid-rmsle:0.29297\n",
      "[145]\tvalid-rmsle:0.29296\n",
      "[146]\tvalid-rmsle:0.29296\n",
      "[147]\tvalid-rmsle:0.29296\n",
      "[148]\tvalid-rmsle:0.29296\n",
      "[149]\tvalid-rmsle:0.29295\n",
      "[150]\tvalid-rmsle:0.29295\n",
      "[151]\tvalid-rmsle:0.29294\n",
      "[152]\tvalid-rmsle:0.29294\n",
      "[153]\tvalid-rmsle:0.29294\n",
      "[154]\tvalid-rmsle:0.29294\n",
      "[155]\tvalid-rmsle:0.29294\n",
      "[156]\tvalid-rmsle:0.29293\n",
      "[157]\tvalid-rmsle:0.29293\n",
      "[158]\tvalid-rmsle:0.29292\n",
      "[159]\tvalid-rmsle:0.29292\n",
      "[160]\tvalid-rmsle:0.29292\n",
      "[161]\tvalid-rmsle:0.29292\n",
      "[162]\tvalid-rmsle:0.29292\n",
      "[163]\tvalid-rmsle:0.29292\n",
      "[164]\tvalid-rmsle:0.29292\n",
      "[165]\tvalid-rmsle:0.29292\n",
      "[166]\tvalid-rmsle:0.29292\n",
      "[167]\tvalid-rmsle:0.29292\n",
      "[168]\tvalid-rmsle:0.29291\n",
      "[169]\tvalid-rmsle:0.29291\n",
      "[170]\tvalid-rmsle:0.29291\n",
      "[171]\tvalid-rmsle:0.29291\n",
      "[172]\tvalid-rmsle:0.29291\n",
      "[173]\tvalid-rmsle:0.29291\n",
      "[174]\tvalid-rmsle:0.29290\n",
      "[175]\tvalid-rmsle:0.29290\n",
      "[176]\tvalid-rmsle:0.29290\n",
      "[177]\tvalid-rmsle:0.29290\n",
      "[178]\tvalid-rmsle:0.29290\n",
      "[179]\tvalid-rmsle:0.29289\n",
      "[180]\tvalid-rmsle:0.29289\n",
      "[181]\tvalid-rmsle:0.29289\n",
      "[182]\tvalid-rmsle:0.29289\n",
      "[183]\tvalid-rmsle:0.29289\n",
      "[184]\tvalid-rmsle:0.29288\n",
      "[185]\tvalid-rmsle:0.29288\n",
      "[186]\tvalid-rmsle:0.29288\n",
      "[187]\tvalid-rmsle:0.29288\n",
      "[188]\tvalid-rmsle:0.29288\n",
      "[189]\tvalid-rmsle:0.29288\n",
      "[190]\tvalid-rmsle:0.29288\n",
      "[191]\tvalid-rmsle:0.29288\n",
      "[192]\tvalid-rmsle:0.29288\n",
      "[193]\tvalid-rmsle:0.29288\n",
      "[194]\tvalid-rmsle:0.29287\n",
      "[195]\tvalid-rmsle:0.29287\n",
      "[196]\tvalid-rmsle:0.29287\n",
      "[197]\tvalid-rmsle:0.29287\n",
      "[198]\tvalid-rmsle:0.29287\n",
      "[199]\tvalid-rmsle:0.29287\n",
      "[200]\tvalid-rmsle:0.29287\n",
      "[201]\tvalid-rmsle:0.29287\n",
      "[202]\tvalid-rmsle:0.29287\n",
      "[203]\tvalid-rmsle:0.29287\n",
      "[204]\tvalid-rmsle:0.29286\n",
      "[205]\tvalid-rmsle:0.29286\n",
      "[206]\tvalid-rmsle:0.29286\n",
      "[207]\tvalid-rmsle:0.29286\n",
      "[208]\tvalid-rmsle:0.29286\n",
      "[209]\tvalid-rmsle:0.29286\n",
      "[210]\tvalid-rmsle:0.29285\n",
      "[211]\tvalid-rmsle:0.29285\n",
      "[212]\tvalid-rmsle:0.29285\n",
      "[213]\tvalid-rmsle:0.29285\n",
      "[214]\tvalid-rmsle:0.29285\n",
      "[215]\tvalid-rmsle:0.29285\n",
      "[216]\tvalid-rmsle:0.29285\n",
      "[217]\tvalid-rmsle:0.29285\n",
      "[218]\tvalid-rmsle:0.29285\n",
      "[219]\tvalid-rmsle:0.29285\n",
      "[220]\tvalid-rmsle:0.29285\n",
      "[221]\tvalid-rmsle:0.29285\n",
      "[222]\tvalid-rmsle:0.29285\n",
      "[223]\tvalid-rmsle:0.29284\n",
      "[224]\tvalid-rmsle:0.29284\n",
      "[225]\tvalid-rmsle:0.29284\n",
      "[226]\tvalid-rmsle:0.29284\n",
      "[227]\tvalid-rmsle:0.29284\n",
      "[228]\tvalid-rmsle:0.29284\n",
      "[229]\tvalid-rmsle:0.29284\n",
      "[230]\tvalid-rmsle:0.29284\n",
      "[231]\tvalid-rmsle:0.29284\n",
      "[232]\tvalid-rmsle:0.29284\n",
      "[233]\tvalid-rmsle:0.29284\n",
      "[234]\tvalid-rmsle:0.29284\n",
      "[235]\tvalid-rmsle:0.29284\n",
      "[236]\tvalid-rmsle:0.29283\n",
      "[237]\tvalid-rmsle:0.29283\n",
      "[238]\tvalid-rmsle:0.29283\n",
      "[239]\tvalid-rmsle:0.29283\n",
      "[240]\tvalid-rmsle:0.29283\n",
      "[241]\tvalid-rmsle:0.29283\n",
      "[242]\tvalid-rmsle:0.29283\n",
      "[243]\tvalid-rmsle:0.29283\n",
      "[244]\tvalid-rmsle:0.29283\n",
      "[245]\tvalid-rmsle:0.29283\n",
      "[246]\tvalid-rmsle:0.29282\n",
      "[247]\tvalid-rmsle:0.29282\n",
      "[248]\tvalid-rmsle:0.29282\n",
      "[249]\tvalid-rmsle:0.29282\n",
      "[250]\tvalid-rmsle:0.29282\n",
      "[251]\tvalid-rmsle:0.29282\n",
      "[252]\tvalid-rmsle:0.29282\n",
      "[253]\tvalid-rmsle:0.29282\n",
      "[254]\tvalid-rmsle:0.29282\n",
      "[255]\tvalid-rmsle:0.29282\n",
      "[256]\tvalid-rmsle:0.29282\n",
      "[257]\tvalid-rmsle:0.29282\n",
      "[258]\tvalid-rmsle:0.29282\n",
      "[259]\tvalid-rmsle:0.29282\n",
      "[260]\tvalid-rmsle:0.29282\n",
      "[261]\tvalid-rmsle:0.29282\n",
      "[262]\tvalid-rmsle:0.29282\n",
      "[263]\tvalid-rmsle:0.29282\n",
      "[264]\tvalid-rmsle:0.29281\n",
      "[265]\tvalid-rmsle:0.29281\n",
      "[266]\tvalid-rmsle:0.29281\n",
      "[267]\tvalid-rmsle:0.29281\n",
      "[268]\tvalid-rmsle:0.29281\n",
      "[269]\tvalid-rmsle:0.29281\n",
      "[270]\tvalid-rmsle:0.29281\n",
      "[271]\tvalid-rmsle:0.29281\n",
      "[272]\tvalid-rmsle:0.29281\n",
      "[273]\tvalid-rmsle:0.29281\n",
      "[274]\tvalid-rmsle:0.29281\n",
      "[275]\tvalid-rmsle:0.29281\n",
      "[276]\tvalid-rmsle:0.29281\n",
      "[277]\tvalid-rmsle:0.29281\n",
      "[278]\tvalid-rmsle:0.29281\n",
      "[279]\tvalid-rmsle:0.29281\n",
      "[280]\tvalid-rmsle:0.29281\n",
      "[281]\tvalid-rmsle:0.29281\n",
      "[282]\tvalid-rmsle:0.29281\n",
      "[283]\tvalid-rmsle:0.29281\n",
      "[284]\tvalid-rmsle:0.29281\n",
      "[285]\tvalid-rmsle:0.29281\n",
      "[286]\tvalid-rmsle:0.29281\n",
      "[287]\tvalid-rmsle:0.29280\n",
      "[288]\tvalid-rmsle:0.29280\n",
      "[289]\tvalid-rmsle:0.29280\n",
      "[290]\tvalid-rmsle:0.29280\n",
      "[291]\tvalid-rmsle:0.29280\n",
      "[292]\tvalid-rmsle:0.29280\n",
      "[293]\tvalid-rmsle:0.29280\n",
      "[294]\tvalid-rmsle:0.29280\n",
      "[295]\tvalid-rmsle:0.29280\n",
      "[296]\tvalid-rmsle:0.29280\n",
      "[297]\tvalid-rmsle:0.29280\n",
      "[298]\tvalid-rmsle:0.29280\n",
      "[299]\tvalid-rmsle:0.29280\n",
      "[300]\tvalid-rmsle:0.29280\n",
      "[301]\tvalid-rmsle:0.29280\n",
      "[302]\tvalid-rmsle:0.29280\n",
      "[303]\tvalid-rmsle:0.29280\n",
      "[304]\tvalid-rmsle:0.29280\n",
      "[305]\tvalid-rmsle:0.29280\n",
      "[306]\tvalid-rmsle:0.29280\n",
      "[307]\tvalid-rmsle:0.29279\n",
      "[308]\tvalid-rmsle:0.29279\n",
      "[309]\tvalid-rmsle:0.29279\n",
      "[310]\tvalid-rmsle:0.29279\n",
      "[311]\tvalid-rmsle:0.29279\n",
      "[312]\tvalid-rmsle:0.29279\n",
      "[313]\tvalid-rmsle:0.29279\n",
      "[314]\tvalid-rmsle:0.29280\n",
      "[315]\tvalid-rmsle:0.29280\n",
      "[316]\tvalid-rmsle:0.29279\n",
      "[317]\tvalid-rmsle:0.29279\n",
      "[318]\tvalid-rmsle:0.29280\n",
      "[319]\tvalid-rmsle:0.29280\n",
      "[320]\tvalid-rmsle:0.29280\n",
      "[321]\tvalid-rmsle:0.29280\n",
      "[322]\tvalid-rmsle:0.29280\n",
      "[323]\tvalid-rmsle:0.29279\n",
      "[324]\tvalid-rmsle:0.29279\n",
      "[325]\tvalid-rmsle:0.29279\n",
      "[326]\tvalid-rmsle:0.29279\n",
      "[327]\tvalid-rmsle:0.29279\n",
      "[328]\tvalid-rmsle:0.29279\n",
      "[329]\tvalid-rmsle:0.29279\n",
      "[330]\tvalid-rmsle:0.29279\n",
      "[331]\tvalid-rmsle:0.29279\n",
      "[332]\tvalid-rmsle:0.29279\n",
      "[333]\tvalid-rmsle:0.29279\n",
      "[334]\tvalid-rmsle:0.29279\n",
      "[335]\tvalid-rmsle:0.29279\n",
      "[336]\tvalid-rmsle:0.29279\n",
      "[337]\tvalid-rmsle:0.29279\n",
      "[338]\tvalid-rmsle:0.29279\n",
      "[339]\tvalid-rmsle:0.29279\n",
      "[340]\tvalid-rmsle:0.29279\n",
      "[341]\tvalid-rmsle:0.29279\n",
      "[342]\tvalid-rmsle:0.29279\n",
      "[343]\tvalid-rmsle:0.29279\n",
      "[344]\tvalid-rmsle:0.29279\n",
      "[345]\tvalid-rmsle:0.29279\n",
      "[346]\tvalid-rmsle:0.29279\n",
      "[347]\tvalid-rmsle:0.29279\n",
      "[348]\tvalid-rmsle:0.29278\n",
      "[349]\tvalid-rmsle:0.29278\n",
      "[350]\tvalid-rmsle:0.29278\n",
      "[351]\tvalid-rmsle:0.29278\n",
      "[352]\tvalid-rmsle:0.29278\n",
      "[353]\tvalid-rmsle:0.29278\n",
      "[354]\tvalid-rmsle:0.29278\n",
      "[355]\tvalid-rmsle:0.29278\n",
      "[356]\tvalid-rmsle:0.29278\n",
      "[357]\tvalid-rmsle:0.29278\n",
      "[358]\tvalid-rmsle:0.29278\n",
      "[359]\tvalid-rmsle:0.29278\n",
      "[360]\tvalid-rmsle:0.29278\n",
      "[361]\tvalid-rmsle:0.29278\n",
      "[362]\tvalid-rmsle:0.29278\n",
      "[363]\tvalid-rmsle:0.29278\n",
      "[364]\tvalid-rmsle:0.29278\n",
      "[365]\tvalid-rmsle:0.29278\n",
      "[366]\tvalid-rmsle:0.29278\n",
      "[367]\tvalid-rmsle:0.29278\n",
      "[368]\tvalid-rmsle:0.29278\n",
      "[369]\tvalid-rmsle:0.29278\n",
      "[370]\tvalid-rmsle:0.29278\n",
      "[371]\tvalid-rmsle:0.29278\n",
      "[372]\tvalid-rmsle:0.29278\n",
      "[373]\tvalid-rmsle:0.29278\n",
      "[374]\tvalid-rmsle:0.29278\n",
      "[375]\tvalid-rmsle:0.29278\n",
      "[376]\tvalid-rmsle:0.29278\n",
      "[377]\tvalid-rmsle:0.29278\n",
      "[378]\tvalid-rmsle:0.29278\n",
      "[379]\tvalid-rmsle:0.29278\n",
      "[380]\tvalid-rmsle:0.29278\n",
      "[381]\tvalid-rmsle:0.29278\n",
      "[382]\tvalid-rmsle:0.29278\n",
      "[383]\tvalid-rmsle:0.29278\n",
      "[384]\tvalid-rmsle:0.29278\n",
      "[385]\tvalid-rmsle:0.29278\n",
      "[386]\tvalid-rmsle:0.29278\n",
      "[387]\tvalid-rmsle:0.29278\n",
      "[388]\tvalid-rmsle:0.29278\n",
      "[389]\tvalid-rmsle:0.29278\n",
      "[390]\tvalid-rmsle:0.29278\n",
      "[391]\tvalid-rmsle:0.29278\n",
      "[392]\tvalid-rmsle:0.29278\n",
      "[393]\tvalid-rmsle:0.29278\n",
      "[394]\tvalid-rmsle:0.29278\n",
      "[395]\tvalid-rmsle:0.29278\n",
      "[396]\tvalid-rmsle:0.29278\n",
      "[397]\tvalid-rmsle:0.29278\n",
      "[398]\tvalid-rmsle:0.29278\n",
      "[399]\tvalid-rmsle:0.29278\n",
      "[400]\tvalid-rmsle:0.29278\n",
      "[401]\tvalid-rmsle:0.29278\n",
      "[402]\tvalid-rmsle:0.29278\n",
      "[403]\tvalid-rmsle:0.29278\n",
      "[404]\tvalid-rmsle:0.29278\n",
      "[405]\tvalid-rmsle:0.29278\n",
      "[406]\tvalid-rmsle:0.29278\n",
      "[407]\tvalid-rmsle:0.29278\n",
      "[408]\tvalid-rmsle:0.29278\n",
      "[409]\tvalid-rmsle:0.29278\n",
      "[410]\tvalid-rmsle:0.29278\n",
      "[411]\tvalid-rmsle:0.29278\n",
      "[412]\tvalid-rmsle:0.29278\n",
      "[413]\tvalid-rmsle:0.29278\n",
      "[414]\tvalid-rmsle:0.29278\n",
      "[415]\tvalid-rmsle:0.29278\n",
      "[416]\tvalid-rmsle:0.29278\n",
      "[417]\tvalid-rmsle:0.29278\n",
      "[418]\tvalid-rmsle:0.29278\n",
      "[419]\tvalid-rmsle:0.29278\n",
      "[420]\tvalid-rmsle:0.29278\n",
      "[421]\tvalid-rmsle:0.29277\n",
      "[422]\tvalid-rmsle:0.29277\n",
      "[423]\tvalid-rmsle:0.29278\n",
      "[424]\tvalid-rmsle:0.29277\n",
      "[425]\tvalid-rmsle:0.29278\n",
      "[426]\tvalid-rmsle:0.29277\n",
      "[427]\tvalid-rmsle:0.29277\n",
      "[428]\tvalid-rmsle:0.29277\n",
      "[429]\tvalid-rmsle:0.29277\n",
      "[430]\tvalid-rmsle:0.29278\n",
      "[431]\tvalid-rmsle:0.29278\n",
      "[432]\tvalid-rmsle:0.29278\n",
      "[433]\tvalid-rmsle:0.29277\n",
      "[434]\tvalid-rmsle:0.29277\n",
      "[435]\tvalid-rmsle:0.29277\n",
      "[436]\tvalid-rmsle:0.29277\n",
      "[437]\tvalid-rmsle:0.29277\n",
      "[438]\tvalid-rmsle:0.29277\n",
      "[439]\tvalid-rmsle:0.29277\n",
      "[440]\tvalid-rmsle:0.29278\n",
      "[441]\tvalid-rmsle:0.29278\n",
      "[442]\tvalid-rmsle:0.29277\n",
      "[443]\tvalid-rmsle:0.29277\n",
      "[444]\tvalid-rmsle:0.29277\n",
      "[445]\tvalid-rmsle:0.29277\n",
      "[446]\tvalid-rmsle:0.29277\n",
      "[447]\tvalid-rmsle:0.29277\n",
      "[448]\tvalid-rmsle:0.29277\n",
      "[449]\tvalid-rmsle:0.29277\n",
      "[450]\tvalid-rmsle:0.29277\n",
      "[451]\tvalid-rmsle:0.29277\n",
      "[452]\tvalid-rmsle:0.29277\n",
      "[453]\tvalid-rmsle:0.29277\n",
      "[454]\tvalid-rmsle:0.29277\n",
      "[455]\tvalid-rmsle:0.29277\n",
      "[456]\tvalid-rmsle:0.29277\n",
      "[457]\tvalid-rmsle:0.29277\n",
      "[458]\tvalid-rmsle:0.29277\n",
      "[459]\tvalid-rmsle:0.29277\n",
      "[460]\tvalid-rmsle:0.29277\n",
      "[461]\tvalid-rmsle:0.29277\n",
      "[462]\tvalid-rmsle:0.29277\n",
      "[463]\tvalid-rmsle:0.29277\n",
      "[464]\tvalid-rmsle:0.29277\n",
      "[465]\tvalid-rmsle:0.29277\n",
      "[466]\tvalid-rmsle:0.29277\n",
      "[467]\tvalid-rmsle:0.29277\n",
      "[468]\tvalid-rmsle:0.29277\n",
      "[469]\tvalid-rmsle:0.29277\n",
      "[470]\tvalid-rmsle:0.29277\n",
      "[471]\tvalid-rmsle:0.29277\n",
      "[472]\tvalid-rmsle:0.29277\n",
      "[473]\tvalid-rmsle:0.29277\n",
      "[474]\tvalid-rmsle:0.29277\n",
      "[475]\tvalid-rmsle:0.29277\n",
      "[476]\tvalid-rmsle:0.29277\n",
      "[477]\tvalid-rmsle:0.29277\n",
      "[478]\tvalid-rmsle:0.29277\n",
      "[479]\tvalid-rmsle:0.29277\n",
      "[480]\tvalid-rmsle:0.29277\n",
      "[481]\tvalid-rmsle:0.29277\n",
      "[482]\tvalid-rmsle:0.29277\n",
      "[483]\tvalid-rmsle:0.29277\n",
      "[484]\tvalid-rmsle:0.29277\n",
      "[485]\tvalid-rmsle:0.29277\n",
      "[486]\tvalid-rmsle:0.29277\n",
      "[487]\tvalid-rmsle:0.29277\n",
      "[488]\tvalid-rmsle:0.29277\n",
      "[489]\tvalid-rmsle:0.29277\n",
      "[490]\tvalid-rmsle:0.29277\n",
      "[491]\tvalid-rmsle:0.29277\n",
      "[492]\tvalid-rmsle:0.29277\n",
      "[493]\tvalid-rmsle:0.29277\n",
      "[494]\tvalid-rmsle:0.29277\n",
      "[495]\tvalid-rmsle:0.29277\n",
      "[496]\tvalid-rmsle:0.29277\n",
      "[497]\tvalid-rmsle:0.29277\n",
      "[498]\tvalid-rmsle:0.29277\n",
      "[499]\tvalid-rmsle:0.29277\n",
      "[500]\tvalid-rmsle:0.29277\n",
      "[501]\tvalid-rmsle:0.29277\n",
      "[502]\tvalid-rmsle:0.29277\n",
      "[503]\tvalid-rmsle:0.29277\n",
      "[504]\tvalid-rmsle:0.29277\n",
      "[505]\tvalid-rmsle:0.29277\n",
      "[506]\tvalid-rmsle:0.29277\n",
      "[507]\tvalid-rmsle:0.29277\n",
      "[508]\tvalid-rmsle:0.29277\n",
      "[509]\tvalid-rmsle:0.29277\n",
      "[510]\tvalid-rmsle:0.29277\n",
      "[511]\tvalid-rmsle:0.29277\n",
      "[512]\tvalid-rmsle:0.29277\n",
      "[513]\tvalid-rmsle:0.29277\n",
      "[514]\tvalid-rmsle:0.29277\n"
     ]
    }
   ],
   "source": [
    "# # use best params in xgb.train\n",
    "# model =  xgb.train(best_params, gb_train, num_boost_round = num_boost_round,\n",
    "#                         evals = [(gb_valid, 'valid')], \n",
    "#                         early_stopping_rounds=20, verbose_eval=True\n",
    "#                        )"
   ]
  },
  {
   "cell_type": "markdown",
   "metadata": {},
   "source": [
    "#### Getting GB Predictions"
   ]
  },
  {
   "cell_type": "code",
   "execution_count": null,
   "metadata": {},
   "outputs": [],
   "source": [
    "# xgb_preds = model.predict(xgb.DMatrix(test_xs))"
   ]
  },
  {
   "cell_type": "code",
   "execution_count": null,
   "metadata": {},
   "outputs": [],
   "source": [
    "# np.savetxt('./predictions/xgb_preds.csv', xgb_preds, delimiter=',')"
   ]
  },
  {
   "cell_type": "code",
   "execution_count": null,
   "metadata": {},
   "outputs": [],
   "source": [
    "# xgb_preds = np.loadtxt('./predictions/xgb_preds.csv', delimiter=',')"
   ]
  },
  {
   "cell_type": "code",
   "execution_count": null,
   "metadata": {},
   "outputs": [
    {
     "data": {
      "text/plain": [
       "array([ 90.8746109 ,  94.17379761,  94.01966095, ...,  94.01966095,\n",
       "       105.49355316, 110.67835999])"
      ]
     },
     "metadata": {},
     "output_type": "display_data"
    }
   ],
   "source": [
    "# xgb_preds"
   ]
  },
  {
   "cell_type": "markdown",
   "metadata": {},
   "source": [
    "***"
   ]
  },
  {
   "cell_type": "markdown",
   "metadata": {},
   "source": [
    "#### XGB K-Folds Cross Validation"
   ]
  },
  {
   "cell_type": "code",
   "execution_count": 49,
   "metadata": {},
   "outputs": [],
   "source": [
    "k_folds_train = False"
   ]
  },
  {
   "cell_type": "code",
   "execution_count": 50,
   "metadata": {},
   "outputs": [],
   "source": [
    "if k_folds_train == True:\n",
    "    # set the number of folds\n",
    "    num_folds = 10\n",
    "    # create empty list to store the loglosses\n",
    "    loglosses = []\n",
    "    # create empty array to store the predictions\n",
    "    k_gb_preds = np.zeros(len(to_test))\n",
    "    # create a kfold object\n",
    "    kf = KFold(n_splits=num_folds, shuffle = True, random_state = 1042)\n",
    "    # loop through each fold\n",
    "    for fold, (trn_idx, val_idx) in enumerate(kf.split(X=xs, y=y)):\n",
    "        # print the fold number\n",
    "        print('-'*20, 'Fold:', fold + 1, '-'*20)\n",
    "        # split the data into train and validation\n",
    "        X_train, X_test = train.iloc[trn_idx], train.iloc[val_idx]\n",
    "        # split the target into train and validation\n",
    "        y_train, y_test = target.iloc[trn_idx], target.iloc[val_idx]\n",
    "        \n",
    "        # create the train and validation data\n",
    "        d_train = xgb.DMatrix(X_train,y_train)\n",
    "        d_test = xgb.DMatrix(X_test,y_test)\n",
    "        \n",
    "        # train the model\n",
    "        k_gb_model =  xgb.train(best_params, d_train, num_boost_round = num_boost_round,\n",
    "                            evals = [(d_test, 'valid')], \n",
    "                            early_stopping_rounds=20, verbose_eval=True\n",
    "                        )\n",
    "    #     preds = model.predict(d_test)\n",
    "    #     logloss = metrics.log_loss(y_test, preds)\n",
    "    #     loglosses.append(logloss)\n",
    "    #     print(f'Logloss: {logloss}')\n",
    "        # predict on the test set\n",
    "        preds = k_gb_model.predict(xgb.DMatrix(test_xs))\n",
    "        # add the predictions to the final predictions array\n",
    "        k_gb_preds += preds / num_folds\n",
    "\n",
    "    # save k_gb_preds to csv\n",
    "    np.savetxt('./predictions/k_gb_preds.csv', k_gb_preds, delimiter=',')"
   ]
  },
  {
   "cell_type": "code",
   "execution_count": 51,
   "metadata": {},
   "outputs": [],
   "source": [
    "if 'k_gb_preds' not in locals():\n",
    "    k_gb_preds = np.loadtxt('./predictions/k_gb_preds.csv', delimiter=',')"
   ]
  },
  {
   "cell_type": "code",
   "execution_count": 52,
   "metadata": {},
   "outputs": [
    {
     "data": {
      "text/plain": [
       "array([103.21230888,  73.93023109,  99.01429653, ...,  99.01429653,\n",
       "        77.44030571, 104.49899864])"
      ]
     },
     "execution_count": 52,
     "metadata": {},
     "output_type": "execute_result"
    }
   ],
   "source": [
    "k_gb_preds"
   ]
  },
  {
   "cell_type": "code",
   "execution_count": 53,
   "metadata": {},
   "outputs": [],
   "source": [
    "Path('./xgb_submissions').mkdir(exist_ok=True, parents=True)\n",
    "sample_df = pd.read_csv(path/'sample_submission.csv')\n",
    "sample_df['cost'] = k_gb_preds\n",
    "sample_df.to_csv('./xgb_submissions/submission.csv', index=False)"
   ]
  },
  {
   "cell_type": "code",
   "execution_count": 59,
   "metadata": {},
   "outputs": [
    {
     "name": "stdout",
     "output_type": "stream",
     "text": [
      "id,cost\n",
      "360336,103.21230888366699\n",
      "360337,73.93023109436035\n",
      "360338,99.01429653167725\n",
      "360339,77.59238004684448\n",
      "360340,83.76873779296875\n",
      "360341,75.63959503173828\n",
      "360342,64.36002445220947\n",
      "360343,75.63959503173828\n",
      "360344,76.54927587509155\n"
     ]
    }
   ],
   "source": [
    "!head ./xgb_submissions/submission.csv"
   ]
  },
  {
   "cell_type": "code",
   "execution_count": 55,
   "metadata": {},
   "outputs": [],
   "source": [
    "new_sub_nums = sample_df['cost'].to_numpy()\n",
    "benchmark_df = pd.read_csv('benchmark_submission.csv')\n",
    "benchmark_nums = benchmark_df['cost'].to_numpy()\n",
    "diffs = np.mean(np.abs(new_sub_nums - benchmark_nums))"
   ]
  },
  {
   "cell_type": "code",
   "execution_count": 56,
   "metadata": {},
   "outputs": [
    {
     "data": {
      "text/plain": [
       "9.70093078572338"
      ]
     },
     "execution_count": 56,
     "metadata": {},
     "output_type": "execute_result"
    }
   ],
   "source": [
    "diffs"
   ]
  },
  {
   "cell_type": "code",
   "execution_count": 63,
   "metadata": {},
   "outputs": [],
   "source": [
    "submit = True"
   ]
  },
  {
   "cell_type": "code",
   "execution_count": 64,
   "metadata": {},
   "outputs": [
    {
     "name": "stdout",
     "output_type": "stream",
     "text": [
      "Warning: Looks like you're using an outdated API Version, please consider updating (server 1.5.13 / client 1.5.12)\n"
     ]
    },
    {
     "name": "stderr",
     "output_type": "stream",
     "text": [
      "100%|██████████| 5.79M/5.79M [00:02<00:00, 2.33MB/s]\n"
     ]
    }
   ],
   "source": [
    "if not iskaggle and submit:\n",
    "    from kaggle import api\n",
    "    api.competition_submit_cli(file_name='./xgb_submissions/submission.csv', message=\"xgb_model\", competition=comp)"
   ]
  },
  {
   "cell_type": "code",
   "execution_count": 68,
   "metadata": {},
   "outputs": [],
   "source": [
    "current_model = 'xgb_model'"
   ]
  },
  {
   "cell_type": "code",
   "execution_count": 69,
   "metadata": {},
   "outputs": [],
   "source": [
    "submission_history = api.competitions_submissions_list(id=comp)\n",
    "submission_recent = [x for x in submission_history if x['description'] == current_model]\n",
    "most_recent_submission = max(submission_recent, key=lambda x: x['date'])\n",
    "if most_recent_submission['publicScore'] is not None:\n",
    "    current_model = most_recent_submission['description']\n",
    "    current_score = most_recent_submission['publicScore']\n",
    "\n",
    "    if not os.path.exists('model_scores.csv'):\n",
    "        with open('model_scores.csv', \"w\", newline=\"\") as f:\n",
    "            writer = csv.writer(f)\n",
    "            writer.writerow([\"model\", \"current_score\"])\n",
    "\n",
    "    model_score_df = pd.read_csv('./model_scores.csv')\n",
    "\n",
    "    if current_model in model_score_df['model'].values:\n",
    "        model_score_df.loc[model_score_df['model'] == current_model, 'current_score'] = current_score\n",
    "    else:\n",
    "        new_row = pd.DataFrame({\"model\": [current_model], \"current_score\": [current_score]})\n",
    "        model_score_df = pd.concat([model_score_df, new_row], ignore_index=True)\n",
    "        \n",
    "    pd.DataFrame(model_score_df).to_csv('./model_scores.csv', index=False)"
   ]
  },
  {
   "cell_type": "code",
   "execution_count": 70,
   "metadata": {},
   "outputs": [
    {
     "data": {
      "text/plain": [
       "'0.34375'"
      ]
     },
     "execution_count": 70,
     "metadata": {},
     "output_type": "execute_result"
    }
   ],
   "source": [
    "current_score"
   ]
  },
  {
   "cell_type": "code",
   "execution_count": null,
   "metadata": {},
   "outputs": [],
   "source": [
    "import nbdev\n",
    "nbdev.export.nb_export('rf_model.ipynb', 'rf_model')\n",
    "print(\"export successful\")"
   ]
  }
 ],
 "metadata": {
  "kernelspec": {
   "display_name": "base",
   "language": "python",
   "name": "python3"
  },
  "language_info": {
   "codemirror_mode": {
    "name": "ipython",
    "version": 3
   },
   "file_extension": ".py",
   "mimetype": "text/x-python",
   "name": "python",
   "nbconvert_exporter": "python",
   "pygments_lexer": "ipython3",
   "version": "3.10.6"
  },
  "orig_nbformat": 4,
  "vscode": {
   "interpreter": {
    "hash": "f4702a165a03ade35e40e0221d250a3a44a346cfc16a49ce6d051d1595069b46"
   }
  }
 },
 "nbformat": 4,
 "nbformat_minor": 2
}
