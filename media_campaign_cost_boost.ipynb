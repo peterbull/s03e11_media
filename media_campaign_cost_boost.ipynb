{
 "cells": [
  {
   "cell_type": "code",
   "execution_count": 1,
   "metadata": {},
   "outputs": [],
   "source": [
    "#| default_exp app_v3"
   ]
  },
  {
   "attachments": {},
   "cell_type": "markdown",
   "metadata": {},
   "source": [
    "#### Competition"
   ]
  },
  {
   "attachments": {},
   "cell_type": "markdown",
   "metadata": {},
   "source": [
    "[LINK](https://www.kaggle.com/competitions/playground-series-s3e11/overview)"
   ]
  },
  {
   "attachments": {},
   "cell_type": "markdown",
   "metadata": {},
   "source": [
    "#### Imports"
   ]
  },
  {
   "cell_type": "code",
   "execution_count": 2,
   "metadata": {},
   "outputs": [],
   "source": [
    "#| export\n",
    "from fastai.tabular.all import *\n",
    "\n",
    "from sklearn.model_selection import KFold, train_test_split\n",
    "from sklearn.ensemble import RandomForestRegressor\n",
    "from sklearn.inspection import permutation_importance\n",
    "\n",
    "\n",
    "import xgboost as xgb\n",
    "\n",
    "import seaborn as sns\n",
    "\n",
    "import optuna\n",
    "\n",
    "import json"
   ]
  },
  {
   "attachments": {},
   "cell_type": "markdown",
   "metadata": {},
   "source": [
    "#### Downloading Datasets"
   ]
  },
  {
   "cell_type": "code",
   "execution_count": 3,
   "metadata": {},
   "outputs": [],
   "source": [
    "#| export\n",
    "try: import fastkaggle\n",
    "except ModuleNotFoundError:\n",
    "    !pip install -Uq fastkaggle\n",
    "\n",
    "from fastkaggle import *"
   ]
  },
  {
   "cell_type": "code",
   "execution_count": 4,
   "metadata": {},
   "outputs": [],
   "source": [
    "#| export\n",
    "comp = 'playground-series-s3e11'\n",
    "path = setup_comp(comp, install='fastai')"
   ]
  },
  {
   "cell_type": "code",
   "execution_count": 5,
   "metadata": {},
   "outputs": [],
   "source": [
    "# copy .gitignore template from my home directory and append project data folder to it\n",
    "if not os.path.exists('.gitignore'):\n",
    "    !cp ~/.gitignore .\n",
    "if comp not in open('.gitignore').read():\n",
    "    with open('.gitignore', 'a') as f: f.write(f'{comp}')"
   ]
  },
  {
   "attachments": {},
   "cell_type": "markdown",
   "metadata": {},
   "source": [
    "#### Create Dataframes"
   ]
  },
  {
   "cell_type": "code",
   "execution_count": 6,
   "metadata": {},
   "outputs": [],
   "source": [
    "#| export\n",
    "df_train = pd.read_csv(path/'train.csv', low_memory=False)\n",
    "df_test = pd.read_csv(path/'test.csv', low_memory=False)\n",
    "df_comb = pd.concat([df_train, df_test], ignore_index=True)"
   ]
  },
  {
   "cell_type": "code",
   "execution_count": 7,
   "metadata": {},
   "outputs": [],
   "source": [
    "#| export\n",
    "df_train.drop(['id'], axis=1, inplace=True)\n",
    "df_test.drop(['id'], axis=1, inplace=True)\n",
    "df_comb.drop(['id'], axis=1, inplace=True)"
   ]
  },
  {
   "cell_type": "code",
   "execution_count": 8,
   "metadata": {},
   "outputs": [
    {
     "data": {
      "text/html": [
       "<div>\n",
       "<style scoped>\n",
       "    .dataframe tbody tr th:only-of-type {\n",
       "        vertical-align: middle;\n",
       "    }\n",
       "\n",
       "    .dataframe tbody tr th {\n",
       "        vertical-align: top;\n",
       "    }\n",
       "\n",
       "    .dataframe thead th {\n",
       "        text-align: right;\n",
       "    }\n",
       "</style>\n",
       "<table border=\"1\" class=\"dataframe\">\n",
       "  <thead>\n",
       "    <tr style=\"text-align: right;\">\n",
       "      <th></th>\n",
       "      <th>store_sales(in millions)</th>\n",
       "      <th>unit_sales(in millions)</th>\n",
       "      <th>total_children</th>\n",
       "      <th>num_children_at_home</th>\n",
       "      <th>avg_cars_at home(approx).1</th>\n",
       "      <th>gross_weight</th>\n",
       "      <th>recyclable_package</th>\n",
       "      <th>low_fat</th>\n",
       "      <th>units_per_case</th>\n",
       "      <th>store_sqft</th>\n",
       "      <th>coffee_bar</th>\n",
       "      <th>video_store</th>\n",
       "      <th>salad_bar</th>\n",
       "      <th>prepared_food</th>\n",
       "      <th>florist</th>\n",
       "      <th>cost</th>\n",
       "    </tr>\n",
       "  </thead>\n",
       "  <tbody>\n",
       "    <tr>\n",
       "      <th>0</th>\n",
       "      <td>8.61</td>\n",
       "      <td>3.0</td>\n",
       "      <td>2.0</td>\n",
       "      <td>2.0</td>\n",
       "      <td>2.0</td>\n",
       "      <td>10.30</td>\n",
       "      <td>1.0</td>\n",
       "      <td>0.0</td>\n",
       "      <td>32.0</td>\n",
       "      <td>36509.0</td>\n",
       "      <td>0.0</td>\n",
       "      <td>0.0</td>\n",
       "      <td>0.0</td>\n",
       "      <td>0.0</td>\n",
       "      <td>0.0</td>\n",
       "      <td>62.09</td>\n",
       "    </tr>\n",
       "    <tr>\n",
       "      <th>1</th>\n",
       "      <td>5.00</td>\n",
       "      <td>2.0</td>\n",
       "      <td>4.0</td>\n",
       "      <td>0.0</td>\n",
       "      <td>3.0</td>\n",
       "      <td>6.66</td>\n",
       "      <td>1.0</td>\n",
       "      <td>0.0</td>\n",
       "      <td>1.0</td>\n",
       "      <td>28206.0</td>\n",
       "      <td>1.0</td>\n",
       "      <td>0.0</td>\n",
       "      <td>0.0</td>\n",
       "      <td>0.0</td>\n",
       "      <td>0.0</td>\n",
       "      <td>121.80</td>\n",
       "    </tr>\n",
       "    <tr>\n",
       "      <th>2</th>\n",
       "      <td>14.08</td>\n",
       "      <td>4.0</td>\n",
       "      <td>0.0</td>\n",
       "      <td>0.0</td>\n",
       "      <td>3.0</td>\n",
       "      <td>21.30</td>\n",
       "      <td>1.0</td>\n",
       "      <td>0.0</td>\n",
       "      <td>26.0</td>\n",
       "      <td>21215.0</td>\n",
       "      <td>1.0</td>\n",
       "      <td>0.0</td>\n",
       "      <td>0.0</td>\n",
       "      <td>0.0</td>\n",
       "      <td>0.0</td>\n",
       "      <td>83.51</td>\n",
       "    </tr>\n",
       "    <tr>\n",
       "      <th>3</th>\n",
       "      <td>4.02</td>\n",
       "      <td>3.0</td>\n",
       "      <td>5.0</td>\n",
       "      <td>0.0</td>\n",
       "      <td>0.0</td>\n",
       "      <td>14.80</td>\n",
       "      <td>0.0</td>\n",
       "      <td>1.0</td>\n",
       "      <td>36.0</td>\n",
       "      <td>21215.0</td>\n",
       "      <td>1.0</td>\n",
       "      <td>0.0</td>\n",
       "      <td>0.0</td>\n",
       "      <td>0.0</td>\n",
       "      <td>0.0</td>\n",
       "      <td>66.78</td>\n",
       "    </tr>\n",
       "    <tr>\n",
       "      <th>4</th>\n",
       "      <td>2.13</td>\n",
       "      <td>3.0</td>\n",
       "      <td>5.0</td>\n",
       "      <td>0.0</td>\n",
       "      <td>3.0</td>\n",
       "      <td>17.00</td>\n",
       "      <td>1.0</td>\n",
       "      <td>1.0</td>\n",
       "      <td>20.0</td>\n",
       "      <td>27694.0</td>\n",
       "      <td>1.0</td>\n",
       "      <td>1.0</td>\n",
       "      <td>1.0</td>\n",
       "      <td>1.0</td>\n",
       "      <td>1.0</td>\n",
       "      <td>111.51</td>\n",
       "    </tr>\n",
       "    <tr>\n",
       "      <th>...</th>\n",
       "      <td>...</td>\n",
       "      <td>...</td>\n",
       "      <td>...</td>\n",
       "      <td>...</td>\n",
       "      <td>...</td>\n",
       "      <td>...</td>\n",
       "      <td>...</td>\n",
       "      <td>...</td>\n",
       "      <td>...</td>\n",
       "      <td>...</td>\n",
       "      <td>...</td>\n",
       "      <td>...</td>\n",
       "      <td>...</td>\n",
       "      <td>...</td>\n",
       "      <td>...</td>\n",
       "      <td>...</td>\n",
       "    </tr>\n",
       "    <tr>\n",
       "      <th>360331</th>\n",
       "      <td>7.60</td>\n",
       "      <td>4.0</td>\n",
       "      <td>5.0</td>\n",
       "      <td>5.0</td>\n",
       "      <td>3.0</td>\n",
       "      <td>13.50</td>\n",
       "      <td>1.0</td>\n",
       "      <td>0.0</td>\n",
       "      <td>33.0</td>\n",
       "      <td>30268.0</td>\n",
       "      <td>0.0</td>\n",
       "      <td>0.0</td>\n",
       "      <td>0.0</td>\n",
       "      <td>0.0</td>\n",
       "      <td>0.0</td>\n",
       "      <td>133.42</td>\n",
       "    </tr>\n",
       "    <tr>\n",
       "      <th>360332</th>\n",
       "      <td>14.44</td>\n",
       "      <td>4.0</td>\n",
       "      <td>4.0</td>\n",
       "      <td>0.0</td>\n",
       "      <td>4.0</td>\n",
       "      <td>18.80</td>\n",
       "      <td>1.0</td>\n",
       "      <td>1.0</td>\n",
       "      <td>18.0</td>\n",
       "      <td>20319.0</td>\n",
       "      <td>0.0</td>\n",
       "      <td>0.0</td>\n",
       "      <td>0.0</td>\n",
       "      <td>0.0</td>\n",
       "      <td>0.0</td>\n",
       "      <td>81.85</td>\n",
       "    </tr>\n",
       "    <tr>\n",
       "      <th>360333</th>\n",
       "      <td>10.74</td>\n",
       "      <td>3.0</td>\n",
       "      <td>0.0</td>\n",
       "      <td>0.0</td>\n",
       "      <td>2.0</td>\n",
       "      <td>11.30</td>\n",
       "      <td>1.0</td>\n",
       "      <td>0.0</td>\n",
       "      <td>35.0</td>\n",
       "      <td>30584.0</td>\n",
       "      <td>1.0</td>\n",
       "      <td>1.0</td>\n",
       "      <td>1.0</td>\n",
       "      <td>1.0</td>\n",
       "      <td>1.0</td>\n",
       "      <td>87.07</td>\n",
       "    </tr>\n",
       "    <tr>\n",
       "      <th>360334</th>\n",
       "      <td>11.04</td>\n",
       "      <td>3.0</td>\n",
       "      <td>1.0</td>\n",
       "      <td>0.0</td>\n",
       "      <td>3.0</td>\n",
       "      <td>10.20</td>\n",
       "      <td>0.0</td>\n",
       "      <td>1.0</td>\n",
       "      <td>14.0</td>\n",
       "      <td>30584.0</td>\n",
       "      <td>1.0</td>\n",
       "      <td>1.0</td>\n",
       "      <td>1.0</td>\n",
       "      <td>1.0</td>\n",
       "      <td>1.0</td>\n",
       "      <td>146.72</td>\n",
       "    </tr>\n",
       "    <tr>\n",
       "      <th>360335</th>\n",
       "      <td>5.30</td>\n",
       "      <td>2.0</td>\n",
       "      <td>2.0</td>\n",
       "      <td>0.0</td>\n",
       "      <td>2.0</td>\n",
       "      <td>10.80</td>\n",
       "      <td>0.0</td>\n",
       "      <td>0.0</td>\n",
       "      <td>21.0</td>\n",
       "      <td>33858.0</td>\n",
       "      <td>1.0</td>\n",
       "      <td>0.0</td>\n",
       "      <td>1.0</td>\n",
       "      <td>1.0</td>\n",
       "      <td>1.0</td>\n",
       "      <td>122.47</td>\n",
       "    </tr>\n",
       "  </tbody>\n",
       "</table>\n",
       "<p>360336 rows × 16 columns</p>\n",
       "</div>"
      ],
      "text/plain": [
       "        store_sales(in millions)  unit_sales(in millions)  total_children  \\\n",
       "0                           8.61                      3.0             2.0   \n",
       "1                           5.00                      2.0             4.0   \n",
       "2                          14.08                      4.0             0.0   \n",
       "3                           4.02                      3.0             5.0   \n",
       "4                           2.13                      3.0             5.0   \n",
       "...                          ...                      ...             ...   \n",
       "360331                      7.60                      4.0             5.0   \n",
       "360332                     14.44                      4.0             4.0   \n",
       "360333                     10.74                      3.0             0.0   \n",
       "360334                     11.04                      3.0             1.0   \n",
       "360335                      5.30                      2.0             2.0   \n",
       "\n",
       "        num_children_at_home  avg_cars_at home(approx).1  gross_weight  \\\n",
       "0                        2.0                         2.0         10.30   \n",
       "1                        0.0                         3.0          6.66   \n",
       "2                        0.0                         3.0         21.30   \n",
       "3                        0.0                         0.0         14.80   \n",
       "4                        0.0                         3.0         17.00   \n",
       "...                      ...                         ...           ...   \n",
       "360331                   5.0                         3.0         13.50   \n",
       "360332                   0.0                         4.0         18.80   \n",
       "360333                   0.0                         2.0         11.30   \n",
       "360334                   0.0                         3.0         10.20   \n",
       "360335                   0.0                         2.0         10.80   \n",
       "\n",
       "        recyclable_package  low_fat  units_per_case  store_sqft  coffee_bar  \\\n",
       "0                      1.0      0.0            32.0     36509.0         0.0   \n",
       "1                      1.0      0.0             1.0     28206.0         1.0   \n",
       "2                      1.0      0.0            26.0     21215.0         1.0   \n",
       "3                      0.0      1.0            36.0     21215.0         1.0   \n",
       "4                      1.0      1.0            20.0     27694.0         1.0   \n",
       "...                    ...      ...             ...         ...         ...   \n",
       "360331                 1.0      0.0            33.0     30268.0         0.0   \n",
       "360332                 1.0      1.0            18.0     20319.0         0.0   \n",
       "360333                 1.0      0.0            35.0     30584.0         1.0   \n",
       "360334                 0.0      1.0            14.0     30584.0         1.0   \n",
       "360335                 0.0      0.0            21.0     33858.0         1.0   \n",
       "\n",
       "        video_store  salad_bar  prepared_food  florist    cost  \n",
       "0               0.0        0.0            0.0      0.0   62.09  \n",
       "1               0.0        0.0            0.0      0.0  121.80  \n",
       "2               0.0        0.0            0.0      0.0   83.51  \n",
       "3               0.0        0.0            0.0      0.0   66.78  \n",
       "4               1.0        1.0            1.0      1.0  111.51  \n",
       "...             ...        ...            ...      ...     ...  \n",
       "360331          0.0        0.0            0.0      0.0  133.42  \n",
       "360332          0.0        0.0            0.0      0.0   81.85  \n",
       "360333          1.0        1.0            1.0      1.0   87.07  \n",
       "360334          1.0        1.0            1.0      1.0  146.72  \n",
       "360335          0.0        1.0            1.0      1.0  122.47  \n",
       "\n",
       "[360336 rows x 16 columns]"
      ]
     },
     "execution_count": 8,
     "metadata": {},
     "output_type": "execute_result"
    }
   ],
   "source": [
    "df_train"
   ]
  },
  {
   "cell_type": "code",
   "execution_count": 9,
   "metadata": {},
   "outputs": [],
   "source": [
    "#| export\n",
    "df_train['store_sales_per_children'] = df_train['store_sales(in millions)'] / df_train['total_children']"
   ]
  },
  {
   "cell_type": "code",
   "execution_count": 10,
   "metadata": {},
   "outputs": [],
   "source": [
    "#| export\n",
    "for column in df_train.columns:\n",
    "    if (list(df_train[column].unique()) == [0.0, 1.0]):\n",
    "        df_train.loc[:, column] = df_train[column].astype('bool')"
   ]
  },
  {
   "cell_type": "code",
   "execution_count": 11,
   "metadata": {},
   "outputs": [],
   "source": [
    "#| export\n",
    "train_idxs = np.arange(len(df_train))\n",
    "test_idxs = np.arange(len(df_train), len(df_comb))"
   ]
  },
  {
   "cell_type": "code",
   "execution_count": 12,
   "metadata": {},
   "outputs": [],
   "source": [
    "dep_var = 'cost'\n",
    "procs = [Categorify, FillMissing, Normalize]\n",
    "cont, cat = cont_cat_split(df_comb, max_card=1, dep_var=dep_var)\n",
    "splits = RandomSplitter(valid_pct=0.2)(range_of(df_train))"
   ]
  },
  {
   "cell_type": "code",
   "execution_count": 13,
   "metadata": {},
   "outputs": [],
   "source": [
    "df_train = df_comb.iloc[train_idxs]\n",
    "df_test = df_comb.iloc[test_idxs]"
   ]
  },
  {
   "cell_type": "code",
   "execution_count": 14,
   "metadata": {},
   "outputs": [],
   "source": [
    "#| export\n",
    "to_final = TabularPandas(df_train, procs, cat, cont, y_names=dep_var, splits=splits)\n",
    "test_final = TabularPandas(df_test, procs, cat, cont, y_names=None, splits=None)\n",
    "dls_final = to_final.dataloaders(bs=1024)"
   ]
  },
  {
   "attachments": {},
   "cell_type": "markdown",
   "metadata": {},
   "source": [
    "### Neural Network Model"
   ]
  },
  {
   "attachments": {},
   "cell_type": "markdown",
   "metadata": {},
   "source": [
    "#### Train Model"
   ]
  },
  {
   "cell_type": "code",
   "execution_count": 15,
   "metadata": {},
   "outputs": [],
   "source": [
    "#| export\n",
    "fast_train = False\n",
    "epochs = 14"
   ]
  },
  {
   "cell_type": "code",
   "execution_count": 16,
   "metadata": {},
   "outputs": [],
   "source": [
    "#| export\n",
    "if fast_train == True:\n",
    "    learn_final = tabular_learner(dls_final, layers=[200, 100], y_range=(0, 150), metrics=rmse)\n",
    "    learn_final.fit_one_cycle(epochs, 1e-2)\n",
    "    learn_final.export('models/tab_learner.pkl')\n"
   ]
  },
  {
   "cell_type": "code",
   "execution_count": 17,
   "metadata": {},
   "outputs": [],
   "source": [
    "learn_final = load_learner('models/tab_learner.pkl')"
   ]
  },
  {
   "attachments": {},
   "cell_type": "markdown",
   "metadata": {},
   "source": [
    "#### Get NN Model Predictions"
   ]
  },
  {
   "cell_type": "code",
   "execution_count": 18,
   "metadata": {},
   "outputs": [
    {
     "data": {
      "text/html": [
       "\n",
       "<style>\n",
       "    /* Turns off some styling */\n",
       "    progress {\n",
       "        /* gets rid of default border in Firefox and Opera. */\n",
       "        border: none;\n",
       "        /* Needs to be in here for Safari polyfill so background images work as expected. */\n",
       "        background-size: auto;\n",
       "    }\n",
       "    progress:not([value]), progress:not([value])::-webkit-progress-bar {\n",
       "        background: repeating-linear-gradient(45deg, #7e7e7e, #7e7e7e 10px, #5c5c5c 10px, #5c5c5c 20px);\n",
       "    }\n",
       "    .progress-bar-interrupted, .progress-bar-interrupted::-webkit-progress-bar {\n",
       "        background: #F44336;\n",
       "    }\n",
       "</style>\n"
      ],
      "text/plain": [
       "<IPython.core.display.HTML object>"
      ]
     },
     "metadata": {},
     "output_type": "display_data"
    },
    {
     "data": {
      "text/html": [],
      "text/plain": [
       "<IPython.core.display.HTML object>"
      ]
     },
     "metadata": {},
     "output_type": "display_data"
    }
   ],
   "source": [
    "#| export\n",
    "test_dl = learn_final.dls.test_dl(df_test)\n",
    "nn_preds, _ = learn_final.get_preds(dl=test_dl)"
   ]
  },
  {
   "cell_type": "code",
   "execution_count": 19,
   "metadata": {},
   "outputs": [],
   "source": [
    "#| export\n",
    "nn_preds = nn_preds.squeeze()"
   ]
  },
  {
   "attachments": {},
   "cell_type": "markdown",
   "metadata": {},
   "source": [
    "### Random Forest Model"
   ]
  },
  {
   "cell_type": "code",
   "execution_count": 20,
   "metadata": {},
   "outputs": [],
   "source": [
    "#| export\n",
    "xs, y = to_final.train.xs, to_final.train.y\n",
    "valid_xs, valid_y = to_final.valid.xs, to_final.valid.y\n",
    "test_xs = test_final.train.xs"
   ]
  },
  {
   "cell_type": "code",
   "execution_count": 21,
   "metadata": {},
   "outputs": [],
   "source": [
    "#| export\n",
    "def rf(xs, y, n_estimators=40, max_samples=200_000, max_features=0.5, min_samples_leaf=5, **kwargs):\n",
    "    return RandomForestRegressor(n_jobs=-1, n_estimators=n_estimators, \n",
    "                                 max_samples=max_samples, max_features=max_features,\n",
    "                                 min_samples_leaf=min_samples_leaf, oob_score=True).fit(xs, y)"
   ]
  },
  {
   "cell_type": "code",
   "execution_count": 22,
   "metadata": {},
   "outputs": [],
   "source": [
    "#| export\n",
    "def r_mse(pred, y):\n",
    "    return round(math.sqrt(((pred-y)**2).mean()), 6)"
   ]
  },
  {
   "cell_type": "code",
   "execution_count": 23,
   "metadata": {},
   "outputs": [],
   "source": [
    "#| export\n",
    "def m_rmse(m, xs, y):\n",
    "    return r_mse(m.predict(xs), y)"
   ]
  },
  {
   "cell_type": "code",
   "execution_count": 24,
   "metadata": {},
   "outputs": [],
   "source": [
    "#| export\n",
    "m = rf(xs, y, n_estimators=100)"
   ]
  },
  {
   "cell_type": "code",
   "execution_count": 25,
   "metadata": {},
   "outputs": [
    {
     "data": {
      "text/plain": [
       "(23.16338, 28.255532)"
      ]
     },
     "execution_count": 25,
     "metadata": {},
     "output_type": "execute_result"
    }
   ],
   "source": [
    "rf_mse = m_rmse(m, valid_xs, valid_y)\n",
    "m_rmse(m, xs, y), m_rmse(m, valid_xs, valid_y)"
   ]
  },
  {
   "cell_type": "code",
   "execution_count": 26,
   "metadata": {},
   "outputs": [],
   "source": [
    "#| export\n",
    "rf_preds = m.predict(test_xs)"
   ]
  },
  {
   "attachments": {},
   "cell_type": "markdown",
   "metadata": {},
   "source": [
    "#### RF Feature Importance"
   ]
  },
  {
   "cell_type": "code",
   "execution_count": 27,
   "metadata": {},
   "outputs": [],
   "source": [
    "#| export\n",
    "def rf_feat_importance(m, df):\n",
    "    return pd.DataFrame({'cols':df.columns, 'imp': m.feature_importances_}).sort_values('imp', ascending=False) "
   ]
  },
  {
   "cell_type": "code",
   "execution_count": 28,
   "metadata": {},
   "outputs": [
    {
     "data": {
      "text/html": [
       "<div>\n",
       "<style scoped>\n",
       "    .dataframe tbody tr th:only-of-type {\n",
       "        vertical-align: middle;\n",
       "    }\n",
       "\n",
       "    .dataframe tbody tr th {\n",
       "        vertical-align: top;\n",
       "    }\n",
       "\n",
       "    .dataframe thead th {\n",
       "        text-align: right;\n",
       "    }\n",
       "</style>\n",
       "<table border=\"1\" class=\"dataframe\">\n",
       "  <thead>\n",
       "    <tr style=\"text-align: right;\">\n",
       "      <th></th>\n",
       "      <th>cols</th>\n",
       "      <th>imp</th>\n",
       "    </tr>\n",
       "  </thead>\n",
       "  <tbody>\n",
       "    <tr>\n",
       "      <th>0</th>\n",
       "      <td>store_sales(in millions)</td>\n",
       "      <td>0.219060</td>\n",
       "    </tr>\n",
       "    <tr>\n",
       "      <th>5</th>\n",
       "      <td>gross_weight</td>\n",
       "      <td>0.204726</td>\n",
       "    </tr>\n",
       "    <tr>\n",
       "      <th>8</th>\n",
       "      <td>units_per_case</td>\n",
       "      <td>0.153567</td>\n",
       "    </tr>\n",
       "    <tr>\n",
       "      <th>9</th>\n",
       "      <td>store_sqft</td>\n",
       "      <td>0.102125</td>\n",
       "    </tr>\n",
       "    <tr>\n",
       "      <th>2</th>\n",
       "      <td>total_children</td>\n",
       "      <td>0.076610</td>\n",
       "    </tr>\n",
       "    <tr>\n",
       "      <th>4</th>\n",
       "      <td>avg_cars_at home(approx).1</td>\n",
       "      <td>0.063747</td>\n",
       "    </tr>\n",
       "    <tr>\n",
       "      <th>3</th>\n",
       "      <td>num_children_at_home</td>\n",
       "      <td>0.049259</td>\n",
       "    </tr>\n",
       "    <tr>\n",
       "      <th>1</th>\n",
       "      <td>unit_sales(in millions)</td>\n",
       "      <td>0.035724</td>\n",
       "    </tr>\n",
       "    <tr>\n",
       "      <th>6</th>\n",
       "      <td>recyclable_package</td>\n",
       "      <td>0.027655</td>\n",
       "    </tr>\n",
       "    <tr>\n",
       "      <th>7</th>\n",
       "      <td>low_fat</td>\n",
       "      <td>0.023582</td>\n",
       "    </tr>\n",
       "    <tr>\n",
       "      <th>14</th>\n",
       "      <td>florist</td>\n",
       "      <td>0.020312</td>\n",
       "    </tr>\n",
       "    <tr>\n",
       "      <th>11</th>\n",
       "      <td>video_store</td>\n",
       "      <td>0.008132</td>\n",
       "    </tr>\n",
       "    <tr>\n",
       "      <th>10</th>\n",
       "      <td>coffee_bar</td>\n",
       "      <td>0.006676</td>\n",
       "    </tr>\n",
       "    <tr>\n",
       "      <th>12</th>\n",
       "      <td>salad_bar</td>\n",
       "      <td>0.005272</td>\n",
       "    </tr>\n",
       "    <tr>\n",
       "      <th>13</th>\n",
       "      <td>prepared_food</td>\n",
       "      <td>0.003554</td>\n",
       "    </tr>\n",
       "  </tbody>\n",
       "</table>\n",
       "</div>"
      ],
      "text/plain": [
       "                          cols       imp\n",
       "0     store_sales(in millions)  0.219060\n",
       "5                 gross_weight  0.204726\n",
       "8               units_per_case  0.153567\n",
       "9                   store_sqft  0.102125\n",
       "2               total_children  0.076610\n",
       "4   avg_cars_at home(approx).1  0.063747\n",
       "3         num_children_at_home  0.049259\n",
       "1      unit_sales(in millions)  0.035724\n",
       "6           recyclable_package  0.027655\n",
       "7                      low_fat  0.023582\n",
       "14                     florist  0.020312\n",
       "11                 video_store  0.008132\n",
       "10                  coffee_bar  0.006676\n",
       "12                   salad_bar  0.005272\n",
       "13               prepared_food  0.003554"
      ]
     },
     "execution_count": 28,
     "metadata": {},
     "output_type": "execute_result"
    }
   ],
   "source": [
    "fi = rf_feat_importance(m, xs)\n",
    "fi"
   ]
  },
  {
   "attachments": {},
   "cell_type": "markdown",
   "metadata": {},
   "source": [
    "***"
   ]
  },
  {
   "attachments": {},
   "cell_type": "markdown",
   "metadata": {},
   "source": [
    "### Gradient Boosting"
   ]
  },
  {
   "attachments": {},
   "cell_type": "markdown",
   "metadata": {},
   "source": [
    "##### Feature Importance"
   ]
  },
  {
   "cell_type": "code",
   "execution_count": 29,
   "metadata": {},
   "outputs": [],
   "source": [
    "#| export\n",
    "train_fi = df_train.drop(columns = ['cost'])\n",
    "target_fi = df_train['cost']"
   ]
  },
  {
   "cell_type": "code",
   "execution_count": 30,
   "metadata": {},
   "outputs": [],
   "source": [
    "#| export\n",
    "def plot_fi(data,ax = None, title = None):\n",
    "    fi = pd.Series(data, index = train_fi.columns).sort_values(ascending = True)\n",
    "    fi.plot(kind = 'barh', ax = ax)"
   ]
  },
  {
   "cell_type": "code",
   "execution_count": 31,
   "metadata": {},
   "outputs": [],
   "source": [
    "#| export\n",
    "x_train, x_test, y_train, y_test = train_test_split(train_fi, target_fi, test_size=0.2)"
   ]
  },
  {
   "cell_type": "code",
   "execution_count": 32,
   "metadata": {},
   "outputs": [],
   "source": [
    "#| export\n",
    "fi_params = {'learning_rate': 0.2456172216493356,\n",
    " 'max_depth': 10,\n",
    " 'lambda': 0.0023120639864473262,\n",
    " 'alpha': 0.5848465230832824,\n",
    " 'colsample_bytree': 0.9966638720347625,\n",
    " 'min_child_weight': 0,\n",
    " 'objective': 'reg:squaredlogerror',\n",
    " 'eval_metric': 'rmsle'}"
   ]
  },
  {
   "cell_type": "code",
   "execution_count": 33,
   "metadata": {},
   "outputs": [],
   "source": [
    "#| export\n",
    "model = xgb.XGBRegressor(**fi_params)\n"
   ]
  },
  {
   "cell_type": "code",
   "execution_count": 34,
   "metadata": {},
   "outputs": [
    {
     "data": {
      "text/html": [
       "<style>#sk-container-id-1 {color: black;background-color: white;}#sk-container-id-1 pre{padding: 0;}#sk-container-id-1 div.sk-toggleable {background-color: white;}#sk-container-id-1 label.sk-toggleable__label {cursor: pointer;display: block;width: 100%;margin-bottom: 0;padding: 0.3em;box-sizing: border-box;text-align: center;}#sk-container-id-1 label.sk-toggleable__label-arrow:before {content: \"▸\";float: left;margin-right: 0.25em;color: #696969;}#sk-container-id-1 label.sk-toggleable__label-arrow:hover:before {color: black;}#sk-container-id-1 div.sk-estimator:hover label.sk-toggleable__label-arrow:before {color: black;}#sk-container-id-1 div.sk-toggleable__content {max-height: 0;max-width: 0;overflow: hidden;text-align: left;background-color: #f0f8ff;}#sk-container-id-1 div.sk-toggleable__content pre {margin: 0.2em;color: black;border-radius: 0.25em;background-color: #f0f8ff;}#sk-container-id-1 input.sk-toggleable__control:checked~div.sk-toggleable__content {max-height: 200px;max-width: 100%;overflow: auto;}#sk-container-id-1 input.sk-toggleable__control:checked~label.sk-toggleable__label-arrow:before {content: \"▾\";}#sk-container-id-1 div.sk-estimator input.sk-toggleable__control:checked~label.sk-toggleable__label {background-color: #d4ebff;}#sk-container-id-1 div.sk-label input.sk-toggleable__control:checked~label.sk-toggleable__label {background-color: #d4ebff;}#sk-container-id-1 input.sk-hidden--visually {border: 0;clip: rect(1px 1px 1px 1px);clip: rect(1px, 1px, 1px, 1px);height: 1px;margin: -1px;overflow: hidden;padding: 0;position: absolute;width: 1px;}#sk-container-id-1 div.sk-estimator {font-family: monospace;background-color: #f0f8ff;border: 1px dotted black;border-radius: 0.25em;box-sizing: border-box;margin-bottom: 0.5em;}#sk-container-id-1 div.sk-estimator:hover {background-color: #d4ebff;}#sk-container-id-1 div.sk-parallel-item::after {content: \"\";width: 100%;border-bottom: 1px solid gray;flex-grow: 1;}#sk-container-id-1 div.sk-label:hover label.sk-toggleable__label {background-color: #d4ebff;}#sk-container-id-1 div.sk-serial::before {content: \"\";position: absolute;border-left: 1px solid gray;box-sizing: border-box;top: 0;bottom: 0;left: 50%;z-index: 0;}#sk-container-id-1 div.sk-serial {display: flex;flex-direction: column;align-items: center;background-color: white;padding-right: 0.2em;padding-left: 0.2em;position: relative;}#sk-container-id-1 div.sk-item {position: relative;z-index: 1;}#sk-container-id-1 div.sk-parallel {display: flex;align-items: stretch;justify-content: center;background-color: white;position: relative;}#sk-container-id-1 div.sk-item::before, #sk-container-id-1 div.sk-parallel-item::before {content: \"\";position: absolute;border-left: 1px solid gray;box-sizing: border-box;top: 0;bottom: 0;left: 50%;z-index: -1;}#sk-container-id-1 div.sk-parallel-item {display: flex;flex-direction: column;z-index: 1;position: relative;background-color: white;}#sk-container-id-1 div.sk-parallel-item:first-child::after {align-self: flex-end;width: 50%;}#sk-container-id-1 div.sk-parallel-item:last-child::after {align-self: flex-start;width: 50%;}#sk-container-id-1 div.sk-parallel-item:only-child::after {width: 0;}#sk-container-id-1 div.sk-dashed-wrapped {border: 1px dashed gray;margin: 0 0.4em 0.5em 0.4em;box-sizing: border-box;padding-bottom: 0.4em;background-color: white;}#sk-container-id-1 div.sk-label label {font-family: monospace;font-weight: bold;display: inline-block;line-height: 1.2em;}#sk-container-id-1 div.sk-label-container {text-align: center;}#sk-container-id-1 div.sk-container {/* jupyter's `normalize.less` sets `[hidden] { display: none; }` but bootstrap.min.css set `[hidden] { display: none !important; }` so we also need the `!important` here to be able to override the default hidden behavior on the sphinx rendered scikit-learn.org. See: https://github.com/scikit-learn/scikit-learn/issues/21755 */display: inline-block !important;position: relative;}#sk-container-id-1 div.sk-text-repr-fallback {display: none;}</style><div id=\"sk-container-id-1\" class=\"sk-top-container\"><div class=\"sk-text-repr-fallback\"><pre>XGBRegressor(alpha=0.5848465230832824, base_score=None, booster=None,\n",
       "             callbacks=None, colsample_bylevel=None, colsample_bynode=None,\n",
       "             colsample_bytree=0.9966638720347625, early_stopping_rounds=None,\n",
       "             enable_categorical=False, eval_metric=&#x27;rmsle&#x27;, feature_types=None,\n",
       "             gamma=None, gpu_id=None, grow_policy=None, importance_type=None,\n",
       "             interaction_constraints=None, lambda=0.0023120639864473262,\n",
       "             learning_rate=0.2456172216493356, max_bin=None,\n",
       "             max_cat_threshold=None, max_cat_to_onehot=None,\n",
       "             max_delta_step=None, max_depth=10, max_leaves=None,\n",
       "             min_child_weight=0, missing=nan, monotone_constraints=None,\n",
       "             n_estimators=100, n_jobs=None, num_parallel_tree=None, ...)</pre><b>In a Jupyter environment, please rerun this cell to show the HTML representation or trust the notebook. <br />On GitHub, the HTML representation is unable to render, please try loading this page with nbviewer.org.</b></div><div class=\"sk-container\" hidden><div class=\"sk-item\"><div class=\"sk-estimator sk-toggleable\"><input class=\"sk-toggleable__control sk-hidden--visually\" id=\"sk-estimator-id-1\" type=\"checkbox\" checked><label for=\"sk-estimator-id-1\" class=\"sk-toggleable__label sk-toggleable__label-arrow\">XGBRegressor</label><div class=\"sk-toggleable__content\"><pre>XGBRegressor(alpha=0.5848465230832824, base_score=None, booster=None,\n",
       "             callbacks=None, colsample_bylevel=None, colsample_bynode=None,\n",
       "             colsample_bytree=0.9966638720347625, early_stopping_rounds=None,\n",
       "             enable_categorical=False, eval_metric=&#x27;rmsle&#x27;, feature_types=None,\n",
       "             gamma=None, gpu_id=None, grow_policy=None, importance_type=None,\n",
       "             interaction_constraints=None, lambda=0.0023120639864473262,\n",
       "             learning_rate=0.2456172216493356, max_bin=None,\n",
       "             max_cat_threshold=None, max_cat_to_onehot=None,\n",
       "             max_delta_step=None, max_depth=10, max_leaves=None,\n",
       "             min_child_weight=0, missing=nan, monotone_constraints=None,\n",
       "             n_estimators=100, n_jobs=None, num_parallel_tree=None, ...)</pre></div></div></div></div></div>"
      ],
      "text/plain": [
       "XGBRegressor(alpha=0.5848465230832824, base_score=None, booster=None,\n",
       "             callbacks=None, colsample_bylevel=None, colsample_bynode=None,\n",
       "             colsample_bytree=0.9966638720347625, early_stopping_rounds=None,\n",
       "             enable_categorical=False, eval_metric='rmsle', feature_types=None,\n",
       "             gamma=None, gpu_id=None, grow_policy=None, importance_type=None,\n",
       "             interaction_constraints=None, lambda=0.0023120639864473262,\n",
       "             learning_rate=0.2456172216493356, max_bin=None,\n",
       "             max_cat_threshold=None, max_cat_to_onehot=None,\n",
       "             max_delta_step=None, max_depth=10, max_leaves=None,\n",
       "             min_child_weight=0, missing=nan, monotone_constraints=None,\n",
       "             n_estimators=100, n_jobs=None, num_parallel_tree=None, ...)"
      ]
     },
     "execution_count": 34,
     "metadata": {},
     "output_type": "execute_result"
    }
   ],
   "source": [
    "#| export\n",
    "model.fit(x_train, y_train)"
   ]
  },
  {
   "cell_type": "code",
   "execution_count": 35,
   "metadata": {},
   "outputs": [
    {
     "data": {
      "image/png": "[encoded data removed]",
      "text/plain": [
       "<Figure size 640x480 with 1 Axes>"
      ]
     },
     "metadata": {},
     "output_type": "display_data"
    }
   ],
   "source": [
    "plot_fi(model.feature_importances_)"
   ]
  },
  {
   "cell_type": "code",
   "execution_count": 36,
   "metadata": {},
   "outputs": [],
   "source": [
    "#| export\n",
    "r = permutation_importance(model, x_test, y_test, n_repeats=1, random_state=46)"
   ]
  },
  {
   "cell_type": "code",
   "execution_count": 37,
   "metadata": {},
   "outputs": [],
   "source": [
    "#| export\n",
    "fi = pd.Series(r['importances'].reshape(15,), index = train_fi.columns).sort_values(ascending = True)"
   ]
  },
  {
   "cell_type": "code",
   "execution_count": 38,
   "metadata": {},
   "outputs": [
    {
     "data": {
      "text/plain": [
       "<AxesSubplot: >"
      ]
     },
     "execution_count": 38,
     "metadata": {},
     "output_type": "execute_result"
    },
    {
     "data": {
      "image/png": "[encoded data removed]",
      "text/plain": [
       "<Figure size 640x480 with 1 Axes>"
      ]
     },
     "metadata": {},
     "output_type": "display_data"
    }
   ],
   "source": [
    "fi.plot(kind = 'barh')"
   ]
  },
  {
   "cell_type": "code",
   "execution_count": 39,
   "metadata": {},
   "outputs": [],
   "source": [
    "#| export\n",
    "features = list(fi.index)\n",
    "cols_to_drop = features[0:6]"
   ]
  },
  {
   "cell_type": "code",
   "execution_count": 40,
   "metadata": {},
   "outputs": [],
   "source": [
    "#| export\n",
    "df_train = df_train.drop(columns=cols_to_drop)"
   ]
  },
  {
   "cell_type": "code",
   "execution_count": 41,
   "metadata": {},
   "outputs": [],
   "source": [
    "#| export\n",
    "df_test = df_test.drop(columns=cols_to_drop)"
   ]
  },
  {
   "cell_type": "code",
   "execution_count": 42,
   "metadata": {},
   "outputs": [],
   "source": [
    "#| export\n",
    "def fe(data):\n",
    "    data = data.replace([np.inf, -np.inf], 10)\n",
    "    return data"
   ]
  },
  {
   "cell_type": "code",
   "execution_count": 43,
   "metadata": {},
   "outputs": [],
   "source": [
    "#| export\n",
    "train_fe = fe(df_train)\n",
    "test_fe = fe(df_test)"
   ]
  },
  {
   "cell_type": "code",
   "execution_count": 44,
   "metadata": {},
   "outputs": [],
   "source": [
    "#| export\n",
    "train = train_fe.drop(columns=['cost'])"
   ]
  },
  {
   "cell_type": "code",
   "execution_count": 45,
   "metadata": {},
   "outputs": [],
   "source": [
    "#| export\n",
    "target = train_fe['cost']"
   ]
  },
  {
   "attachments": {},
   "cell_type": "markdown",
   "metadata": {},
   "source": [
    "#### Finding the Best Parameters With Optuna"
   ]
  },
  {
   "cell_type": "code",
   "execution_count": 46,
   "metadata": {},
   "outputs": [],
   "source": [
    "#| export\n",
    "x_train, x_test, y_train, y_test = train_test_split(train,target, test_size = 0.2)\n",
    "d_train = xgb.DMatrix(x_train,y_train)\n",
    "d_test = xgb.DMatrix(x_test,y_test)\n"
   ]
  },
  {
   "cell_type": "code",
   "execution_count": 47,
   "metadata": {},
   "outputs": [],
   "source": [
    "#| export\n",
    "glob_params = {\n",
    "    'objective': 'reg:squaredlogerror',\n",
    "    'eval_metric': 'rmsle'\n",
    "}"
   ]
  },
  {
   "cell_type": "code",
   "execution_count": 48,
   "metadata": {},
   "outputs": [],
   "source": [
    "#| export\n",
    "def objective(trial):\n",
    "    params = {\n",
    "        'verbosity':0,\n",
    "        'n_estimators': trial.suggest_int(\"n_estimators\", 150, 1500),\n",
    "        'learning_rate': trial.suggest_float('learning_rate',1e-10,1.0),\n",
    "        'max_depth':trial.suggest_int('max_depth', 3, 12),\n",
    "#        'gamma':trial.suggest_float('gamma',0,8),\n",
    "        'lambda': trial.suggest_float('lambda', 1e-8, 1.0),\n",
    "        'alpha': trial.suggest_float('alpha', 1e-8, 1.0),\n",
    "        'colsample_bytree':trial.suggest_float('colsample_bytree',1e-5,1.0),\n",
    "        'min_child_weight':trial.suggest_int('min_child_weight',0,1),\n",
    "        'booster':trial.suggest_categorical(\"booster\", [\"dart\", \"gbtree\",'gblinear']),\n",
    "        'sampling_method': trial.suggest_categorical('sampling_method',['uniform','gradient_based']),\n",
    "        'grow_policy': trial.suggest_categorical('grow_policy',['depthwise','lossguide']),\n",
    "#         'reg_alpha': trial.suggest_float(\"reg_alpha\", 0, 1),\n",
    "#         'reg_lambda': trial.suggest_float(\"reg_lambda\", 0, 1),\n",
    "    }\n",
    "    params.update(glob_params)\n",
    "    sch_prm = xgb.train(params, d_train, num_boost_round = 100,\n",
    "                        evals = [(d_test, 'valid')], \n",
    "                        early_stopping_rounds=20, verbose_eval=False\n",
    "                       )\n",
    "    \n",
    "    return sch_prm.best_score\n"
   ]
  },
  {
   "cell_type": "code",
   "execution_count": 49,
   "metadata": {},
   "outputs": [],
   "source": [
    "#| export\n",
    "run_study = True"
   ]
  },
  {
   "cell_type": "code",
   "execution_count": 50,
   "metadata": {},
   "outputs": [
    {
     "name": "stderr",
     "output_type": "stream",
     "text": [
      "\u001b[32m[I 2023-03-31 09:52:09,907]\u001b[0m A new study created in memory with name: no-name-3fe87826-51ea-4da1-992c-eee2a87903b9\u001b[0m\n",
      "\u001b[32m[I 2023-03-31 09:52:12,274]\u001b[0m Trial 0 finished with value: 0.30343223859649454 and parameters: {'n_estimators': 921, 'learning_rate': 0.453861171953589, 'max_depth': 10, 'lambda': 0.6146204610646792, 'alpha': 0.6177265237067011, 'colsample_bytree': 0.7552815209505305, 'min_child_weight': 1, 'booster': 'gbtree', 'sampling_method': 'uniform', 'grow_policy': 'depthwise'}. Best is trial 0 with value: 0.30343223859649454.\u001b[0m\n",
      "\u001b[32m[I 2023-03-31 09:52:18,813]\u001b[0m Trial 1 finished with value: 0.31200580486004226 and parameters: {'n_estimators': 1423, 'learning_rate': 0.09781551790958648, 'max_depth': 12, 'lambda': 0.9959436698385887, 'alpha': 0.34404223481710544, 'colsample_bytree': 0.04337199400341777, 'min_child_weight': 0, 'booster': 'dart', 'sampling_method': 'gradient_based', 'grow_policy': 'depthwise'}. Best is trial 0 with value: 0.30343223859649454.\u001b[0m\n",
      "\u001b[32m[I 2023-03-31 09:52:19,786]\u001b[0m Trial 2 finished with value: 0.3078704298337476 and parameters: {'n_estimators': 689, 'learning_rate': 0.3357805489964322, 'max_depth': 7, 'lambda': 0.4744043952497677, 'alpha': 0.1711814600858934, 'colsample_bytree': 0.1022535002523347, 'min_child_weight': 1, 'booster': 'gbtree', 'sampling_method': 'uniform', 'grow_policy': 'lossguide'}. Best is trial 0 with value: 0.30343223859649454.\u001b[0m\n",
      "\u001b[32m[I 2023-03-31 09:52:20,847]\u001b[0m Trial 3 finished with value: 0.31694044528687026 and parameters: {'n_estimators': 1125, 'learning_rate': 0.6313457826216794, 'max_depth': 12, 'lambda': 0.24154690006835094, 'alpha': 0.8022143648695327, 'colsample_bytree': 0.4471005987548836, 'min_child_weight': 1, 'booster': 'gblinear', 'sampling_method': 'gradient_based', 'grow_policy': 'depthwise'}. Best is trial 0 with value: 0.30343223859649454.\u001b[0m\n",
      "\u001b[32m[I 2023-03-31 09:52:22,495]\u001b[0m Trial 4 finished with value: 0.30383160961624545 and parameters: {'n_estimators': 1034, 'learning_rate': 0.9879524458002948, 'max_depth': 9, 'lambda': 0.6891538781566421, 'alpha': 0.4620424599513542, 'colsample_bytree': 0.3493109091913556, 'min_child_weight': 1, 'booster': 'gbtree', 'sampling_method': 'gradient_based', 'grow_policy': 'depthwise'}. Best is trial 0 with value: 0.30343223859649454.\u001b[0m\n",
      "\u001b[32m[I 2023-03-31 09:52:23,465]\u001b[0m Trial 5 finished with value: 0.3209481584334071 and parameters: {'n_estimators': 298, 'learning_rate': 0.28681047070400967, 'max_depth': 6, 'lambda': 0.021949772777455873, 'alpha': 0.3682967141620723, 'colsample_bytree': 0.0183856457735436, 'min_child_weight': 0, 'booster': 'gblinear', 'sampling_method': 'gradient_based', 'grow_policy': 'lossguide'}. Best is trial 0 with value: 0.30343223859649454.\u001b[0m\n",
      "\u001b[32m[I 2023-03-31 09:52:26,130]\u001b[0m Trial 6 finished with value: 0.299321187258378 and parameters: {'n_estimators': 1386, 'learning_rate': 0.7487199992288405, 'max_depth': 10, 'lambda': 0.6583936432255193, 'alpha': 0.3638988992654216, 'colsample_bytree': 0.7028319195356889, 'min_child_weight': 0, 'booster': 'gbtree', 'sampling_method': 'gradient_based', 'grow_policy': 'lossguide'}. Best is trial 6 with value: 0.299321187258378.\u001b[0m\n",
      "\u001b[32m[I 2023-03-31 09:52:38,571]\u001b[0m Trial 7 finished with value: 0.2988132825176316 and parameters: {'n_estimators': 684, 'learning_rate': 0.6046325315741113, 'max_depth': 10, 'lambda': 0.09079680145660424, 'alpha': 0.3562807811968146, 'colsample_bytree': 0.6291958922906304, 'min_child_weight': 0, 'booster': 'dart', 'sampling_method': 'uniform', 'grow_policy': 'lossguide'}. Best is trial 7 with value: 0.2988132825176316.\u001b[0m\n",
      "\u001b[32m[I 2023-03-31 09:52:39,535]\u001b[0m Trial 8 finished with value: 0.3327559229201527 and parameters: {'n_estimators': 715, 'learning_rate': 0.08912309633875524, 'max_depth': 4, 'lambda': 0.7060137208108263, 'alpha': 0.057202707521463676, 'colsample_bytree': 0.4883500043031483, 'min_child_weight': 1, 'booster': 'gblinear', 'sampling_method': 'gradient_based', 'grow_policy': 'depthwise'}. Best is trial 7 with value: 0.2988132825176316.\u001b[0m\n",
      "\u001b[32m[I 2023-03-31 09:52:40,535]\u001b[0m Trial 9 finished with value: 0.32572608693370403 and parameters: {'n_estimators': 1220, 'learning_rate': 0.18147314677995469, 'max_depth': 11, 'lambda': 0.32776435685291927, 'alpha': 0.3984689433545342, 'colsample_bytree': 0.7899197160599961, 'min_child_weight': 1, 'booster': 'gblinear', 'sampling_method': 'uniform', 'grow_policy': 'lossguide'}. Best is trial 7 with value: 0.2988132825176316.\u001b[0m\n",
      "\u001b[32m[I 2023-03-31 09:52:43,925]\u001b[0m Trial 10 finished with value: 0.3021389189379376 and parameters: {'n_estimators': 435, 'learning_rate': 0.5515795108485682, 'max_depth': 8, 'lambda': 0.11771017126671741, 'alpha': 0.9222493748150155, 'colsample_bytree': 0.997736544080265, 'min_child_weight': 0, 'booster': 'dart', 'sampling_method': 'uniform', 'grow_policy': 'lossguide'}. Best is trial 7 with value: 0.2988132825176316.\u001b[0m\n",
      "\u001b[32m[I 2023-03-31 09:52:57,070]\u001b[0m Trial 11 finished with value: 0.2964655899989411 and parameters: {'n_estimators': 555, 'learning_rate': 0.7367552339394102, 'max_depth': 10, 'lambda': 0.01429932708147899, 'alpha': 0.22032726417368523, 'colsample_bytree': 0.6301838212586366, 'min_child_weight': 0, 'booster': 'dart', 'sampling_method': 'uniform', 'grow_policy': 'lossguide'}. Best is trial 11 with value: 0.2964655899989411.\u001b[0m\n",
      "\u001b[32m[I 2023-03-31 09:53:09,599]\u001b[0m Trial 12 finished with value: 0.2967863612011253 and parameters: {'n_estimators': 528, 'learning_rate': 0.7881490841748908, 'max_depth': 9, 'lambda': 0.00986077065344658, 'alpha': 0.22471852752217902, 'colsample_bytree': 0.6238075477350433, 'min_child_weight': 0, 'booster': 'dart', 'sampling_method': 'uniform', 'grow_policy': 'lossguide'}. Best is trial 11 with value: 0.2964655899989411.\u001b[0m\n",
      "\u001b[32m[I 2023-03-31 09:53:22,142]\u001b[0m Trial 13 finished with value: 0.2965658931743728 and parameters: {'n_estimators': 468, 'learning_rate': 0.7917172858575611, 'max_depth': 8, 'lambda': 0.015191090357391489, 'alpha': 0.19111881419872723, 'colsample_bytree': 0.5838867809746019, 'min_child_weight': 0, 'booster': 'dart', 'sampling_method': 'uniform', 'grow_policy': 'lossguide'}. Best is trial 11 with value: 0.2964655899989411.\u001b[0m\n",
      "\u001b[32m[I 2023-03-31 09:53:31,182]\u001b[0m Trial 14 finished with value: 0.30351534321064466 and parameters: {'n_estimators': 162, 'learning_rate': 0.8792222454077303, 'max_depth': 5, 'lambda': 0.20483959590865636, 'alpha': 0.021420904574787625, 'colsample_bytree': 0.3306594375983964, 'min_child_weight': 0, 'booster': 'dart', 'sampling_method': 'uniform', 'grow_policy': 'lossguide'}. Best is trial 11 with value: 0.2964655899989411.\u001b[0m\n",
      "\u001b[32m[I 2023-03-31 09:53:43,525]\u001b[0m Trial 15 finished with value: 0.29632535326126536 and parameters: {'n_estimators': 481, 'learning_rate': 0.716002163003958, 'max_depth': 7, 'lambda': 0.0012395572073101557, 'alpha': 0.1561444244942073, 'colsample_bytree': 0.5781696184673594, 'min_child_weight': 0, 'booster': 'dart', 'sampling_method': 'uniform', 'grow_policy': 'lossguide'}. Best is trial 15 with value: 0.29632535326126536.\u001b[0m\n",
      "\u001b[32m[I 2023-03-31 09:53:51,785]\u001b[0m Trial 16 finished with value: 0.3022126243734419 and parameters: {'n_estimators': 848, 'learning_rate': 0.6836397127290729, 'max_depth': 3, 'lambda': 0.2109699206302983, 'alpha': 0.007643827032697892, 'colsample_bytree': 0.8629032747993916, 'min_child_weight': 0, 'booster': 'dart', 'sampling_method': 'uniform', 'grow_policy': 'lossguide'}. Best is trial 15 with value: 0.29632535326126536.\u001b[0m\n",
      "\u001b[32m[I 2023-03-31 09:54:02,160]\u001b[0m Trial 17 finished with value: 0.3019771082165035 and parameters: {'n_estimators': 344, 'learning_rate': 0.5086282724271736, 'max_depth': 6, 'lambda': 0.34414617787062307, 'alpha': 0.5590913950825095, 'colsample_bytree': 0.547925225593183, 'min_child_weight': 0, 'booster': 'dart', 'sampling_method': 'uniform', 'grow_policy': 'lossguide'}. Best is trial 15 with value: 0.29632535326126536.\u001b[0m\n",
      "\u001b[32m[I 2023-03-31 09:54:13,003]\u001b[0m Trial 18 finished with value: 0.30119623193726075 and parameters: {'n_estimators': 594, 'learning_rate': 0.6805311731687944, 'max_depth': 7, 'lambda': 0.14978378719104093, 'alpha': 0.14309147127556165, 'colsample_bytree': 0.4087892639845163, 'min_child_weight': 0, 'booster': 'dart', 'sampling_method': 'uniform', 'grow_policy': 'lossguide'}. Best is trial 15 with value: 0.29632535326126536.\u001b[0m\n",
      "\u001b[32m[I 2023-03-31 09:54:26,757]\u001b[0m Trial 19 finished with value: 0.2966615027063629 and parameters: {'n_estimators': 247, 'learning_rate': 0.8912822965150531, 'max_depth': 9, 'lambda': 0.10079257302523303, 'alpha': 0.22374693415606695, 'colsample_bytree': 0.6972283440627782, 'min_child_weight': 0, 'booster': 'dart', 'sampling_method': 'uniform', 'grow_policy': 'lossguide'}. Best is trial 15 with value: 0.29632535326126536.\u001b[0m\n",
      "\u001b[32m[I 2023-03-31 09:54:37,239]\u001b[0m Trial 20 finished with value: 0.30109900577359394 and parameters: {'n_estimators': 596, 'learning_rate': 0.474527428052973, 'max_depth': 6, 'lambda': 0.28869273479902635, 'alpha': 0.2521444929883295, 'colsample_bytree': 0.5156343542932341, 'min_child_weight': 0, 'booster': 'dart', 'sampling_method': 'uniform', 'grow_policy': 'lossguide'}. Best is trial 15 with value: 0.29632535326126536.\u001b[0m\n",
      "\u001b[32m[I 2023-03-31 09:54:50,396]\u001b[0m Trial 21 finished with value: 0.29559957940251397 and parameters: {'n_estimators': 459, 'learning_rate': 0.7797562648706149, 'max_depth': 8, 'lambda': 0.003718486233688587, 'alpha': 0.13043964528720137, 'colsample_bytree': 0.584122034918544, 'min_child_weight': 0, 'booster': 'dart', 'sampling_method': 'uniform', 'grow_policy': 'lossguide'}. Best is trial 21 with value: 0.29559957940251397.\u001b[0m\n",
      "\u001b[32m[I 2023-03-31 09:55:03,551]\u001b[0m Trial 22 finished with value: 0.2954453977884794 and parameters: {'n_estimators': 404, 'learning_rate': 0.7265162350525054, 'max_depth': 8, 'lambda': 0.006202143871262944, 'alpha': 0.10885925318107398, 'colsample_bytree': 0.6053538777931808, 'min_child_weight': 0, 'booster': 'dart', 'sampling_method': 'uniform', 'grow_policy': 'lossguide'}. Best is trial 22 with value: 0.2954453977884794.\u001b[0m\n",
      "\u001b[32m[I 2023-03-31 09:55:16,161]\u001b[0m Trial 23 finished with value: 0.2976835916182674 and parameters: {'n_estimators': 407, 'learning_rate': 0.8634789002923358, 'max_depth': 8, 'lambda': 0.1576357614931243, 'alpha': 0.0986761845743098, 'colsample_bytree': 0.5531685049300145, 'min_child_weight': 0, 'booster': 'dart', 'sampling_method': 'uniform', 'grow_policy': 'lossguide'}. Best is trial 22 with value: 0.2954453977884794.\u001b[0m\n",
      "\u001b[32m[I 2023-03-31 09:55:26,908]\u001b[0m Trial 24 finished with value: 0.3011400949935498 and parameters: {'n_estimators': 168, 'learning_rate': 0.6033533280037126, 'max_depth': 7, 'lambda': 0.09451703780047019, 'alpha': 0.1018428394796967, 'colsample_bytree': 0.42483061756419854, 'min_child_weight': 0, 'booster': 'dart', 'sampling_method': 'uniform', 'grow_policy': 'lossguide'}. Best is trial 22 with value: 0.2954453977884794.\u001b[0m\n",
      "\u001b[32m[I 2023-03-31 09:55:37,231]\u001b[0m Trial 25 finished with value: 0.29737458983919035 and parameters: {'n_estimators': 331, 'learning_rate': 0.7090220870188394, 'max_depth': 5, 'lambda': 0.0017210219238692546, 'alpha': 0.10187753654990314, 'colsample_bytree': 0.6806266598193597, 'min_child_weight': 0, 'booster': 'dart', 'sampling_method': 'uniform', 'grow_policy': 'lossguide'}. Best is trial 22 with value: 0.2954453977884794.\u001b[0m\n",
      "\u001b[32m[I 2023-03-31 09:55:49,100]\u001b[0m Trial 26 finished with value: 0.2988378497793797 and parameters: {'n_estimators': 755, 'learning_rate': 0.8111104356542445, 'max_depth': 8, 'lambda': 0.09005431666114828, 'alpha': 0.2882937439305476, 'colsample_bytree': 0.5286499707626748, 'min_child_weight': 0, 'booster': 'dart', 'sampling_method': 'uniform', 'grow_policy': 'depthwise'}. Best is trial 22 with value: 0.2954453977884794.\u001b[0m\n",
      "\u001b[32m[I 2023-03-31 09:56:01,596]\u001b[0m Trial 27 finished with value: 0.29625060896306665 and parameters: {'n_estimators': 462, 'learning_rate': 0.957895520728217, 'max_depth': 7, 'lambda': 0.17756909119651726, 'alpha': 0.012884983025052865, 'colsample_bytree': 0.5760124877705343, 'min_child_weight': 0, 'booster': 'dart', 'sampling_method': 'uniform', 'grow_policy': 'lossguide'}. Best is trial 22 with value: 0.2954453977884794.\u001b[0m\n",
      "\u001b[32m[I 2023-03-31 09:56:03,436]\u001b[0m Trial 28 finished with value: 0.29737152862917404 and parameters: {'n_estimators': 248, 'learning_rate': 0.9688039923560878, 'max_depth': 5, 'lambda': 0.157925324380297, 'alpha': 0.035468434445895536, 'colsample_bytree': 0.8413937387598339, 'min_child_weight': 0, 'booster': 'gbtree', 'sampling_method': 'uniform', 'grow_policy': 'lossguide'}. Best is trial 22 with value: 0.2954453977884794.\u001b[0m\n",
      "\u001b[32m[I 2023-03-31 09:56:04,559]\u001b[0m Trial 29 finished with value: 0.316584945931071 and parameters: {'n_estimators': 869, 'learning_rate': 0.9323362348896833, 'max_depth': 9, 'lambda': 0.27726417692498073, 'alpha': 0.00904602352513395, 'colsample_bytree': 0.6921127715108025, 'min_child_weight': 1, 'booster': 'gblinear', 'sampling_method': 'uniform', 'grow_policy': 'depthwise'}. Best is trial 22 with value: 0.2954453977884794.\u001b[0m\n",
      "\u001b[32m[I 2023-03-31 09:56:06,626]\u001b[0m Trial 30 finished with value: 0.29870159442741123 and parameters: {'n_estimators': 962, 'learning_rate': 0.997507257347566, 'max_depth': 6, 'lambda': 0.2152771971527052, 'alpha': 0.28380897403033833, 'colsample_bytree': 0.7742755817108441, 'min_child_weight': 0, 'booster': 'gbtree', 'sampling_method': 'uniform', 'grow_policy': 'lossguide'}. Best is trial 22 with value: 0.2954453977884794.\u001b[0m\n",
      "\u001b[32m[I 2023-03-31 09:56:18,895]\u001b[0m Trial 31 finished with value: 0.29667900210269016 and parameters: {'n_estimators': 497, 'learning_rate': 0.8361811533064627, 'max_depth': 7, 'lambda': 0.06785736415063698, 'alpha': 0.11617720587352447, 'colsample_bytree': 0.6294820838569128, 'min_child_weight': 0, 'booster': 'dart', 'sampling_method': 'uniform', 'grow_policy': 'lossguide'}. Best is trial 22 with value: 0.2954453977884794.\u001b[0m\n",
      "\u001b[32m[I 2023-03-31 09:56:32,217]\u001b[0m Trial 32 finished with value: 0.2964037268890185 and parameters: {'n_estimators': 400, 'learning_rate': 0.9006594323016923, 'max_depth': 8, 'lambda': 0.07200182722215191, 'alpha': 0.15634559263393671, 'colsample_bytree': 0.5784118893264893, 'min_child_weight': 0, 'booster': 'dart', 'sampling_method': 'uniform', 'grow_policy': 'lossguide'}. Best is trial 22 with value: 0.2954453977884794.\u001b[0m\n",
      "\u001b[32m[I 2023-03-31 09:56:44,137]\u001b[0m Trial 33 finished with value: 0.2982775984210006 and parameters: {'n_estimators': 631, 'learning_rate': 0.7737443269866269, 'max_depth': 7, 'lambda': 0.1576584930635467, 'alpha': 0.07655005005916828, 'colsample_bytree': 0.48051636711243895, 'min_child_weight': 0, 'booster': 'dart', 'sampling_method': 'uniform', 'grow_policy': 'lossguide'}. Best is trial 22 with value: 0.2954453977884794.\u001b[0m\n",
      "\u001b[32m[I 2023-03-31 09:56:55,900]\u001b[0m Trial 34 finished with value: 0.2980095283387634 and parameters: {'n_estimators': 470, 'learning_rate': 0.8434892631201374, 'max_depth': 7, 'lambda': 0.058891662520778744, 'alpha': 0.17610318705566724, 'colsample_bytree': 0.5015405097891947, 'min_child_weight': 0, 'booster': 'dart', 'sampling_method': 'gradient_based', 'grow_policy': 'depthwise'}. Best is trial 22 with value: 0.2954453977884794.\u001b[0m\n",
      "\u001b[32m[I 2023-03-31 09:57:07,142]\u001b[0m Trial 35 finished with value: 0.30043888424952897 and parameters: {'n_estimators': 343, 'learning_rate': 0.928774380374617, 'max_depth': 9, 'lambda': 0.051773272650610935, 'alpha': 0.14368197320560513, 'colsample_bytree': 0.37307597082116906, 'min_child_weight': 0, 'booster': 'dart', 'sampling_method': 'uniform', 'grow_policy': 'lossguide'}. Best is trial 22 with value: 0.2954453977884794.\u001b[0m\n",
      "\u001b[32m[I 2023-03-31 09:57:09,075]\u001b[0m Trial 36 finished with value: 0.2993825832103082 and parameters: {'n_estimators': 762, 'learning_rate': 0.6773777796765416, 'max_depth': 6, 'lambda': 0.1352775478409438, 'alpha': 0.052944387992424846, 'colsample_bytree': 0.4523138155820753, 'min_child_weight': 0, 'booster': 'gbtree', 'sampling_method': 'gradient_based', 'grow_policy': 'lossguide'}. Best is trial 22 with value: 0.2954453977884794.\u001b[0m\n",
      "\u001b[32m[I 2023-03-31 09:57:21,399]\u001b[0m Trial 37 finished with value: 0.30208577141825377 and parameters: {'n_estimators': 253, 'learning_rate': 0.8164399095036781, 'max_depth': 11, 'lambda': 0.004968805498504472, 'alpha': 0.29343157062838315, 'colsample_bytree': 0.5909862023226672, 'min_child_weight': 1, 'booster': 'dart', 'sampling_method': 'uniform', 'grow_policy': 'depthwise'}. Best is trial 22 with value: 0.2954453977884794.\u001b[0m\n",
      "\u001b[32m[I 2023-03-31 09:57:22,479]\u001b[0m Trial 38 finished with value: 0.31668719955120817 and parameters: {'n_estimators': 638, 'learning_rate': 0.7336684622459947, 'max_depth': 8, 'lambda': 0.4067885958688756, 'alpha': 0.1805458619297268, 'colsample_bytree': 0.3438614394312298, 'min_child_weight': 0, 'booster': 'gblinear', 'sampling_method': 'gradient_based', 'grow_policy': 'lossguide'}. Best is trial 22 with value: 0.2954453977884794.\u001b[0m\n",
      "\u001b[32m[I 2023-03-31 09:57:35,514]\u001b[0m Trial 39 finished with value: 0.30179221481781987 and parameters: {'n_estimators': 392, 'learning_rate': 0.6273188268797207, 'max_depth': 9, 'lambda': 0.06035861762012898, 'alpha': 0.07039575164377614, 'colsample_bytree': 0.7409268070344506, 'min_child_weight': 1, 'booster': 'dart', 'sampling_method': 'uniform', 'grow_policy': 'lossguide'}. Best is trial 22 with value: 0.2954453977884794.\u001b[0m\n",
      "\u001b[32m[I 2023-03-31 09:57:37,585]\u001b[0m Trial 40 finished with value: 0.2992403182566865 and parameters: {'n_estimators': 543, 'learning_rate': 0.9486691046430469, 'max_depth': 7, 'lambda': 0.17984548242085668, 'alpha': 0.40830472668635054, 'colsample_bytree': 0.6569414897063497, 'min_child_weight': 0, 'booster': 'gbtree', 'sampling_method': 'gradient_based', 'grow_policy': 'depthwise'}. Best is trial 22 with value: 0.2954453977884794.\u001b[0m\n",
      "\u001b[32m[I 2023-03-31 09:57:50,726]\u001b[0m Trial 41 finished with value: 0.29625971791562244 and parameters: {'n_estimators': 412, 'learning_rate': 0.8992100583659468, 'max_depth': 8, 'lambda': 0.06288969856151139, 'alpha': 0.14480911681667658, 'colsample_bytree': 0.583810707618094, 'min_child_weight': 0, 'booster': 'dart', 'sampling_method': 'uniform', 'grow_policy': 'lossguide'}. Best is trial 22 with value: 0.2954453977884794.\u001b[0m\n",
      "\u001b[32m[I 2023-03-31 09:58:03,896]\u001b[0m Trial 42 finished with value: 0.29646176646267514 and parameters: {'n_estimators': 297, 'learning_rate': 0.8548509691721348, 'max_depth': 8, 'lambda': 0.1171007771058895, 'alpha': 0.12390556908588443, 'colsample_bytree': 0.5794613171393939, 'min_child_weight': 0, 'booster': 'dart', 'sampling_method': 'uniform', 'grow_policy': 'lossguide'}. Best is trial 22 with value: 0.2954453977884794.\u001b[0m\n",
      "\u001b[32m[I 2023-03-31 09:58:16,137]\u001b[0m Trial 43 finished with value: 0.296515460964224 and parameters: {'n_estimators': 472, 'learning_rate': 0.9960439203928464, 'max_depth': 7, 'lambda': 0.050446251606358475, 'alpha': 0.0642104975169584, 'colsample_bytree': 0.514258222574627, 'min_child_weight': 0, 'booster': 'dart', 'sampling_method': 'uniform', 'grow_policy': 'lossguide'}. Best is trial 22 with value: 0.2954453977884794.\u001b[0m\n",
      "\u001b[32m[I 2023-03-31 09:58:27,245]\u001b[0m Trial 44 finished with value: 0.29752827407024174 and parameters: {'n_estimators': 394, 'learning_rate': 0.7469877473635839, 'max_depth': 6, 'lambda': 0.10971056258925437, 'alpha': 0.0009677877418175218, 'colsample_bytree': 0.6406433296129452, 'min_child_weight': 0, 'booster': 'dart', 'sampling_method': 'uniform', 'grow_policy': 'lossguide'}. Best is trial 22 with value: 0.2954453977884794.\u001b[0m\n",
      "\u001b[32m[I 2023-03-31 09:58:28,104]\u001b[0m Trial 45 finished with value: 0.3166204781727787 and parameters: {'n_estimators': 1474, 'learning_rate': 0.9235568272695454, 'max_depth': 9, 'lambda': 0.03697247733292336, 'alpha': 0.18885079896208395, 'colsample_bytree': 0.4731283703759291, 'min_child_weight': 0, 'booster': 'gblinear', 'sampling_method': 'uniform', 'grow_policy': 'lossguide'}. Best is trial 22 with value: 0.2954453977884794.\u001b[0m\n",
      "\u001b[32m[I 2023-03-31 09:58:41,431]\u001b[0m Trial 46 finished with value: 0.29519381079654167 and parameters: {'n_estimators': 673, 'learning_rate': 0.7814470590087227, 'max_depth': 8, 'lambda': 0.0033461712993567636, 'alpha': 0.1424641761502301, 'colsample_bytree': 0.7334111029415701, 'min_child_weight': 0, 'booster': 'dart', 'sampling_method': 'uniform', 'grow_policy': 'lossguide'}. Best is trial 46 with value: 0.29519381079654167.\u001b[0m\n",
      "\u001b[32m[I 2023-03-31 09:58:57,239]\u001b[0m Trial 47 finished with value: 0.2951747003408769 and parameters: {'n_estimators': 687, 'learning_rate': 0.781279916148488, 'max_depth': 10, 'lambda': 0.2550472196315821, 'alpha': 0.05264089191583884, 'colsample_bytree': 0.7117130191976367, 'min_child_weight': 0, 'booster': 'dart', 'sampling_method': 'uniform', 'grow_policy': 'lossguide'}. Best is trial 47 with value: 0.2951747003408769.\u001b[0m\n",
      "\u001b[32m[I 2023-03-31 09:59:13,773]\u001b[0m Trial 48 finished with value: 0.2947126611613494 and parameters: {'n_estimators': 675, 'learning_rate': 0.7750766263550406, 'max_depth': 11, 'lambda': 0.2150207983151667, 'alpha': 0.04425393192110145, 'colsample_bytree': 0.7209247589681304, 'min_child_weight': 0, 'booster': 'dart', 'sampling_method': 'uniform', 'grow_policy': 'lossguide'}. Best is trial 48 with value: 0.2947126611613494.\u001b[0m\n",
      "\u001b[32m[I 2023-03-31 09:59:14,868]\u001b[0m Trial 49 finished with value: 0.3166318587226534 and parameters: {'n_estimators': 694, 'learning_rate': 0.781027564991616, 'max_depth': 12, 'lambda': 0.24949959720851017, 'alpha': 0.06017804019004742, 'colsample_bytree': 0.7146624349175069, 'min_child_weight': 1, 'booster': 'gblinear', 'sampling_method': 'uniform', 'grow_policy': 'lossguide'}. Best is trial 48 with value: 0.2947126611613494.\u001b[0m\n",
      "\u001b[32m[I 2023-03-31 09:59:30,783]\u001b[0m Trial 50 finished with value: 0.2967353428546092 and parameters: {'n_estimators': 791, 'learning_rate': 0.6575952685303329, 'max_depth': 11, 'lambda': 0.519543364253915, 'alpha': 0.0957475490487781, 'colsample_bytree': 0.7498028257398118, 'min_child_weight': 0, 'booster': 'dart', 'sampling_method': 'gradient_based', 'grow_policy': 'lossguide'}. Best is trial 48 with value: 0.2947126611613494.\u001b[0m\n",
      "\u001b[32m[I 2023-03-31 09:59:46,017]\u001b[0m Trial 51 finished with value: 0.2955176877125366 and parameters: {'n_estimators': 923, 'learning_rate': 0.7712879898341366, 'max_depth': 10, 'lambda': 0.18688217621742909, 'alpha': 0.041691783571530056, 'colsample_bytree': 0.6610184605773436, 'min_child_weight': 0, 'booster': 'dart', 'sampling_method': 'uniform', 'grow_policy': 'lossguide'}. Best is trial 48 with value: 0.2947126611613494.\u001b[0m\n",
      "\u001b[32m[I 2023-03-31 10:00:02,148]\u001b[0m Trial 52 finished with value: 0.2951290675164062 and parameters: {'n_estimators': 1022, 'learning_rate': 0.7626931264719832, 'max_depth': 10, 'lambda': 0.23905746027551986, 'alpha': 0.043694451316927105, 'colsample_bytree': 0.6676566539524259, 'min_child_weight': 0, 'booster': 'dart', 'sampling_method': 'uniform', 'grow_policy': 'lossguide'}. Best is trial 48 with value: 0.2947126611613494.\u001b[0m\n",
      "\u001b[32m[I 2023-03-31 10:00:19,902]\u001b[0m Trial 53 finished with value: 0.2941942395242192 and parameters: {'n_estimators': 1070, 'learning_rate': 0.8202259635832211, 'max_depth': 11, 'lambda': 0.22142411761416486, 'alpha': 0.04341295036568098, 'colsample_bytree': 0.808486520329025, 'min_child_weight': 0, 'booster': 'dart', 'sampling_method': 'uniform', 'grow_policy': 'lossguide'}. Best is trial 53 with value: 0.2941942395242192.\u001b[0m\n",
      "\u001b[32m[I 2023-03-31 10:00:37,432]\u001b[0m Trial 54 finished with value: 0.2944551940577494 and parameters: {'n_estimators': 1071, 'learning_rate': 0.7138284005365678, 'max_depth': 11, 'lambda': 0.2479344286476839, 'alpha': 0.04754552976592947, 'colsample_bytree': 0.8004846784817571, 'min_child_weight': 0, 'booster': 'dart', 'sampling_method': 'uniform', 'grow_policy': 'lossguide'}. Best is trial 53 with value: 0.2941942395242192.\u001b[0m\n",
      "\u001b[32m[I 2023-03-31 10:00:55,618]\u001b[0m Trial 55 finished with value: 0.29381221038751404 and parameters: {'n_estimators': 1144, 'learning_rate': 0.8194571655261809, 'max_depth': 11, 'lambda': 0.23662662638616433, 'alpha': 0.0015978815035083485, 'colsample_bytree': 0.8035085593691049, 'min_child_weight': 0, 'booster': 'dart', 'sampling_method': 'uniform', 'grow_policy': 'lossguide'}. Best is trial 55 with value: 0.29381221038751404.\u001b[0m\n",
      "\u001b[32m[I 2023-03-31 10:01:13,958]\u001b[0m Trial 56 finished with value: 0.2937646174170784 and parameters: {'n_estimators': 1153, 'learning_rate': 0.8511243396252564, 'max_depth': 11, 'lambda': 0.24460905710977082, 'alpha': 0.00022301619171310062, 'colsample_bytree': 0.7985874959867132, 'min_child_weight': 0, 'booster': 'dart', 'sampling_method': 'uniform', 'grow_policy': 'lossguide'}. Best is trial 56 with value: 0.2937646174170784.\u001b[0m\n",
      "\u001b[32m[I 2023-03-31 10:01:31,876]\u001b[0m Trial 57 finished with value: 0.294201839103322 and parameters: {'n_estimators': 1169, 'learning_rate': 0.8215334682499682, 'max_depth': 11, 'lambda': 0.311226243434239, 'alpha': 0.0221749676400696, 'colsample_bytree': 0.8085667952751457, 'min_child_weight': 0, 'booster': 'dart', 'sampling_method': 'uniform', 'grow_policy': 'lossguide'}. Best is trial 56 with value: 0.2937646174170784.\u001b[0m\n",
      "\u001b[32m[I 2023-03-31 10:01:50,199]\u001b[0m Trial 58 finished with value: 0.29415623280865355 and parameters: {'n_estimators': 1210, 'learning_rate': 0.8236424198698132, 'max_depth': 11, 'lambda': 0.33519720097785144, 'alpha': 0.003413591915270686, 'colsample_bytree': 0.8254699039932828, 'min_child_weight': 0, 'booster': 'dart', 'sampling_method': 'uniform', 'grow_policy': 'lossguide'}. Best is trial 56 with value: 0.2937646174170784.\u001b[0m\n",
      "\u001b[32m[I 2023-03-31 10:01:54,379]\u001b[0m Trial 59 finished with value: 0.2939728042278232 and parameters: {'n_estimators': 1210, 'learning_rate': 0.826131374529837, 'max_depth': 12, 'lambda': 0.31202286881821195, 'alpha': 0.006333934889576583, 'colsample_bytree': 0.8382952201436925, 'min_child_weight': 0, 'booster': 'gbtree', 'sampling_method': 'uniform', 'grow_policy': 'depthwise'}. Best is trial 56 with value: 0.2937646174170784.\u001b[0m\n",
      "\u001b[32m[I 2023-03-31 10:01:58,827]\u001b[0m Trial 60 finished with value: 0.2938063542131978 and parameters: {'n_estimators': 1218, 'learning_rate': 0.8776622233870269, 'max_depth': 12, 'lambda': 0.2981136847228164, 'alpha': 0.015890031371333057, 'colsample_bytree': 0.8979909571642837, 'min_child_weight': 0, 'booster': 'gbtree', 'sampling_method': 'uniform', 'grow_policy': 'depthwise'}. Best is trial 56 with value: 0.2937646174170784.\u001b[0m\n",
      "\u001b[32m[I 2023-03-31 10:02:03,201]\u001b[0m Trial 61 finished with value: 0.29377173762881587 and parameters: {'n_estimators': 1229, 'learning_rate': 0.8703782751153968, 'max_depth': 12, 'lambda': 0.3361034278762786, 'alpha': 0.00954685940548372, 'colsample_bytree': 0.9036767254716047, 'min_child_weight': 0, 'booster': 'gbtree', 'sampling_method': 'uniform', 'grow_policy': 'depthwise'}. Best is trial 56 with value: 0.2937646174170784.\u001b[0m\n",
      "\u001b[32m[I 2023-03-31 10:02:07,578]\u001b[0m Trial 62 finished with value: 0.2937890048994329 and parameters: {'n_estimators': 1286, 'learning_rate': 0.8844695101333303, 'max_depth': 12, 'lambda': 0.3778756393017705, 'alpha': 0.00033005952958725215, 'colsample_bytree': 0.9065392603999408, 'min_child_weight': 0, 'booster': 'gbtree', 'sampling_method': 'uniform', 'grow_policy': 'depthwise'}. Best is trial 56 with value: 0.2937646174170784.\u001b[0m\n",
      "\u001b[32m[I 2023-03-31 10:02:11,932]\u001b[0m Trial 63 finished with value: 0.29374759185801275 and parameters: {'n_estimators': 1301, 'learning_rate': 0.8703164409128253, 'max_depth': 12, 'lambda': 0.35445598183995464, 'alpha': 0.0009100636996931077, 'colsample_bytree': 0.8977535083468436, 'min_child_weight': 0, 'booster': 'gbtree', 'sampling_method': 'uniform', 'grow_policy': 'depthwise'}. Best is trial 63 with value: 0.29374759185801275.\u001b[0m\n",
      "\u001b[32m[I 2023-03-31 10:02:16,300]\u001b[0m Trial 64 finished with value: 0.29375242820741143 and parameters: {'n_estimators': 1316, 'learning_rate': 0.8727711596617647, 'max_depth': 12, 'lambda': 0.36886006104253327, 'alpha': 0.001801658311362829, 'colsample_bytree': 0.9035115686899966, 'min_child_weight': 0, 'booster': 'gbtree', 'sampling_method': 'uniform', 'grow_policy': 'depthwise'}. Best is trial 63 with value: 0.29374759185801275.\u001b[0m\n",
      "\u001b[32m[I 2023-03-31 10:02:20,547]\u001b[0m Trial 65 finished with value: 0.2949564942518629 and parameters: {'n_estimators': 1325, 'learning_rate': 0.877793707713614, 'max_depth': 12, 'lambda': 0.3880584019611465, 'alpha': 0.09801238216682928, 'colsample_bytree': 0.9031342330016037, 'min_child_weight': 0, 'booster': 'gbtree', 'sampling_method': 'uniform', 'grow_policy': 'depthwise'}. Best is trial 63 with value: 0.29374759185801275.\u001b[0m\n",
      "\u001b[32m[I 2023-03-31 10:02:24,777]\u001b[0m Trial 66 finished with value: 0.29470824949540925 and parameters: {'n_estimators': 1317, 'learning_rate': 0.8636632989329122, 'max_depth': 12, 'lambda': 0.3482608098676075, 'alpha': 0.08565669158317457, 'colsample_bytree': 0.9130870838703804, 'min_child_weight': 0, 'booster': 'gbtree', 'sampling_method': 'uniform', 'grow_policy': 'depthwise'}. Best is trial 63 with value: 0.29374759185801275.\u001b[0m\n",
      "\u001b[32m[I 2023-03-31 10:02:29,011]\u001b[0m Trial 67 finished with value: 0.2944239115217911 and parameters: {'n_estimators': 1296, 'learning_rate': 0.9046708615490696, 'max_depth': 12, 'lambda': 0.27892833653466226, 'alpha': 0.07698729976277072, 'colsample_bytree': 0.9753831672466267, 'min_child_weight': 0, 'booster': 'gbtree', 'sampling_method': 'uniform', 'grow_policy': 'depthwise'}. Best is trial 63 with value: 0.29374759185801275.\u001b[0m\n",
      "\u001b[32m[I 2023-03-31 10:02:33,164]\u001b[0m Trial 68 finished with value: 0.2941724106625047 and parameters: {'n_estimators': 1388, 'learning_rate': 0.9686577937545122, 'max_depth': 12, 'lambda': 0.3807122966343688, 'alpha': 0.02319706046397705, 'colsample_bytree': 0.8784640476743977, 'min_child_weight': 0, 'booster': 'gbtree', 'sampling_method': 'uniform', 'grow_policy': 'depthwise'}. Best is trial 63 with value: 0.29374759185801275.\u001b[0m\n",
      "\u001b[32m[I 2023-03-31 10:02:37,261]\u001b[0m Trial 69 finished with value: 0.29519086865665345 and parameters: {'n_estimators': 1253, 'learning_rate': 0.8805834871405491, 'max_depth': 12, 'lambda': 0.4396673318023709, 'alpha': 0.11245061026256434, 'colsample_bytree': 0.9471385247231154, 'min_child_weight': 0, 'booster': 'gbtree', 'sampling_method': 'uniform', 'grow_policy': 'depthwise'}. Best is trial 63 with value: 0.29374759185801275.\u001b[0m\n",
      "\u001b[32m[I 2023-03-31 10:02:41,542]\u001b[0m Trial 70 finished with value: 0.2940562751196922 and parameters: {'n_estimators': 1139, 'learning_rate': 0.9370488672284327, 'max_depth': 12, 'lambda': 0.3137208985683986, 'alpha': 0.025080511100297805, 'colsample_bytree': 0.8637970948695282, 'min_child_weight': 0, 'booster': 'gbtree', 'sampling_method': 'gradient_based', 'grow_policy': 'depthwise'}. Best is trial 63 with value: 0.29374759185801275.\u001b[0m\n",
      "\u001b[32m[I 2023-03-31 10:02:45,667]\u001b[0m Trial 71 finished with value: 0.2940658591140667 and parameters: {'n_estimators': 1245, 'learning_rate': 0.8512553584679028, 'max_depth': 12, 'lambda': 0.3011111930977289, 'alpha': 0.01836908195054409, 'colsample_bytree': 0.836561664914409, 'min_child_weight': 0, 'booster': 'gbtree', 'sampling_method': 'uniform', 'grow_policy': 'depthwise'}. Best is trial 63 with value: 0.29374759185801275.\u001b[0m\n",
      "\u001b[32m[I 2023-03-31 10:02:50,058]\u001b[0m Trial 72 finished with value: 0.2937260228446257 and parameters: {'n_estimators': 1378, 'learning_rate': 0.9059713509411866, 'max_depth': 12, 'lambda': 0.3520071053720869, 'alpha': 0.0052027176663786544, 'colsample_bytree': 0.9283938251309309, 'min_child_weight': 0, 'booster': 'gbtree', 'sampling_method': 'uniform', 'grow_policy': 'depthwise'}. Best is trial 72 with value: 0.2937260228446257.\u001b[0m\n",
      "\u001b[32m[I 2023-03-31 10:02:54,277]\u001b[0m Trial 73 finished with value: 0.2945532513339888 and parameters: {'n_estimators': 1350, 'learning_rate': 0.9012120338749464, 'max_depth': 12, 'lambda': 0.3478549193537604, 'alpha': 0.07687149738019414, 'colsample_bytree': 0.9385794959500647, 'min_child_weight': 0, 'booster': 'gbtree', 'sampling_method': 'uniform', 'grow_policy': 'depthwise'}. Best is trial 72 with value: 0.2937260228446257.\u001b[0m\n",
      "\u001b[32m[I 2023-03-31 10:02:58,223]\u001b[0m Trial 74 finished with value: 0.2945360671049274 and parameters: {'n_estimators': 1407, 'learning_rate': 0.8628848255893009, 'max_depth': 11, 'lambda': 0.27876692138171905, 'alpha': 0.07806958999188567, 'colsample_bytree': 0.8922259378123895, 'min_child_weight': 0, 'booster': 'gbtree', 'sampling_method': 'uniform', 'grow_policy': 'depthwise'}. Best is trial 72 with value: 0.2937260228446257.\u001b[0m\n",
      "\u001b[32m[I 2023-03-31 10:03:02,627]\u001b[0m Trial 75 finished with value: 0.2937126190568537 and parameters: {'n_estimators': 1472, 'learning_rate': 0.961899436784583, 'max_depth': 12, 'lambda': 0.35083211622446336, 'alpha': 0.006391549269695573, 'colsample_bytree': 0.9986144299314443, 'min_child_weight': 0, 'booster': 'gbtree', 'sampling_method': 'uniform', 'grow_policy': 'depthwise'}. Best is trial 75 with value: 0.2937126190568537.\u001b[0m\n",
      "\u001b[32m[I 2023-03-31 10:03:07,017]\u001b[0m Trial 76 finished with value: 0.2939962270494686 and parameters: {'n_estimators': 1457, 'learning_rate': 0.9626612473097896, 'max_depth': 12, 'lambda': 0.360462901386737, 'alpha': 0.03332410721108665, 'colsample_bytree': 0.98980224110524, 'min_child_weight': 0, 'booster': 'gbtree', 'sampling_method': 'uniform', 'grow_policy': 'depthwise'}. Best is trial 75 with value: 0.2937126190568537.\u001b[0m\n",
      "\u001b[32m[I 2023-03-31 10:03:11,037]\u001b[0m Trial 77 finished with value: 0.29521527046015444 and parameters: {'n_estimators': 1436, 'learning_rate': 0.9221763258787128, 'max_depth': 12, 'lambda': 0.39884541210191604, 'alpha': 0.12398031664459412, 'colsample_bytree': 0.930323970934104, 'min_child_weight': 0, 'booster': 'gbtree', 'sampling_method': 'uniform', 'grow_policy': 'depthwise'}. Best is trial 75 with value: 0.2937126190568537.\u001b[0m\n",
      "\u001b[32m[I 2023-03-31 10:03:15,497]\u001b[0m Trial 78 finished with value: 0.29376361271576285 and parameters: {'n_estimators': 1273, 'learning_rate': 0.9622694369460576, 'max_depth': 12, 'lambda': 0.4288851504996643, 'alpha': 0.0012201838560806635, 'colsample_bytree': 0.9671040459410261, 'min_child_weight': 0, 'booster': 'gbtree', 'sampling_method': 'uniform', 'grow_policy': 'depthwise'}. Best is trial 75 with value: 0.2937126190568537.\u001b[0m\n",
      "\u001b[32m[I 2023-03-31 10:03:19,486]\u001b[0m Trial 79 finished with value: 0.2945756279014757 and parameters: {'n_estimators': 1282, 'learning_rate': 0.9816918704456751, 'max_depth': 11, 'lambda': 0.43291277648350956, 'alpha': 0.0694582802757269, 'colsample_bytree': 0.9526026530102472, 'min_child_weight': 0, 'booster': 'gbtree', 'sampling_method': 'uniform', 'grow_policy': 'depthwise'}. Best is trial 75 with value: 0.2937126190568537.\u001b[0m\n",
      "\u001b[32m[I 2023-03-31 10:03:23,921]\u001b[0m Trial 80 finished with value: 0.29365838775427944 and parameters: {'n_estimators': 1366, 'learning_rate': 0.9966089304842916, 'max_depth': 12, 'lambda': 0.36999767740684797, 'alpha': 0.00034306004800048104, 'colsample_bytree': 0.9657745153267124, 'min_child_weight': 0, 'booster': 'gbtree', 'sampling_method': 'uniform', 'grow_policy': 'depthwise'}. Best is trial 80 with value: 0.29365838775427944.\u001b[0m\n",
      "\u001b[32m[I 2023-03-31 10:03:28,360]\u001b[0m Trial 81 finished with value: 0.29366471474666045 and parameters: {'n_estimators': 1359, 'learning_rate': 0.9607427821812043, 'max_depth': 12, 'lambda': 0.3649283359825364, 'alpha': 0.0011064193563617743, 'colsample_bytree': 0.9987317847995838, 'min_child_weight': 0, 'booster': 'gbtree', 'sampling_method': 'uniform', 'grow_policy': 'depthwise'}. Best is trial 80 with value: 0.29365838775427944.\u001b[0m\n",
      "\u001b[32m[I 2023-03-31 10:03:32,683]\u001b[0m Trial 82 finished with value: 0.29399866039139355 and parameters: {'n_estimators': 1500, 'learning_rate': 0.9527430172242484, 'max_depth': 12, 'lambda': 0.33150916977701583, 'alpha': 0.038101760562357256, 'colsample_bytree': 0.9700654227594548, 'min_child_weight': 0, 'booster': 'gbtree', 'sampling_method': 'uniform', 'grow_policy': 'depthwise'}. Best is trial 80 with value: 0.29365838775427944.\u001b[0m\n",
      "\u001b[32m[I 2023-03-31 10:03:36,608]\u001b[0m Trial 83 finished with value: 0.2949108608864025 and parameters: {'n_estimators': 1335, 'learning_rate': 0.998836293081131, 'max_depth': 11, 'lambda': 0.4156876214565077, 'alpha': 0.09945923051913708, 'colsample_bytree': 0.9896285428975251, 'min_child_weight': 0, 'booster': 'gbtree', 'sampling_method': 'uniform', 'grow_policy': 'depthwise'}. Best is trial 80 with value: 0.29365838775427944.\u001b[0m\n",
      "\u001b[32m[I 2023-03-31 10:03:40,961]\u001b[0m Trial 84 finished with value: 0.29437123096646917 and parameters: {'n_estimators': 1356, 'learning_rate': 0.9374875921796444, 'max_depth': 12, 'lambda': 0.3628577470337004, 'alpha': 0.062086178370490755, 'colsample_bytree': 0.9993660086372496, 'min_child_weight': 0, 'booster': 'gbtree', 'sampling_method': 'uniform', 'grow_policy': 'depthwise'}. Best is trial 80 with value: 0.29365838775427944.\u001b[0m\n",
      "\u001b[32m[I 2023-03-31 10:03:45,427]\u001b[0m Trial 85 finished with value: 0.2941004413333998 and parameters: {'n_estimators': 1378, 'learning_rate': 0.9662229742598175, 'max_depth': 12, 'lambda': 0.4533446805303311, 'alpha': 0.02982957997007765, 'colsample_bytree': 0.9602740304340692, 'min_child_weight': 0, 'booster': 'gbtree', 'sampling_method': 'uniform', 'grow_policy': 'depthwise'}. Best is trial 80 with value: 0.29365838775427944.\u001b[0m\n",
      "\u001b[32m[I 2023-03-31 10:03:49,233]\u001b[0m Trial 86 finished with value: 0.2951617785742574 and parameters: {'n_estimators': 1414, 'learning_rate': 0.9163208868597592, 'max_depth': 11, 'lambda': 0.37399685681264894, 'alpha': 0.11974982834479553, 'colsample_bytree': 0.9347414391315793, 'min_child_weight': 0, 'booster': 'gbtree', 'sampling_method': 'gradient_based', 'grow_policy': 'depthwise'}. Best is trial 80 with value: 0.29365838775427944.\u001b[0m\n",
      "\u001b[32m[I 2023-03-31 10:03:53,119]\u001b[0m Trial 87 finished with value: 0.29566304456630926 and parameters: {'n_estimators': 1171, 'learning_rate': 0.9750212073650409, 'max_depth': 12, 'lambda': 0.4087190902764012, 'alpha': 0.16075013245597267, 'colsample_bytree': 0.9662766596544667, 'min_child_weight': 0, 'booster': 'gbtree', 'sampling_method': 'uniform', 'grow_policy': 'depthwise'}. Best is trial 80 with value: 0.29365838775427944.\u001b[0m\n",
      "\u001b[32m[I 2023-03-31 10:03:57,192]\u001b[0m Trial 88 finished with value: 0.2945990180236736 and parameters: {'n_estimators': 1261, 'learning_rate': 0.9451127710036882, 'max_depth': 11, 'lambda': 0.47623028261507566, 'alpha': 0.05857935659195315, 'colsample_bytree': 0.9241947939568889, 'min_child_weight': 0, 'booster': 'gbtree', 'sampling_method': 'uniform', 'grow_policy': 'depthwise'}. Best is trial 80 with value: 0.29365838775427944.\u001b[0m\n",
      "\u001b[32m[I 2023-03-31 10:04:01,054]\u001b[0m Trial 89 finished with value: 0.29480449777953155 and parameters: {'n_estimators': 1442, 'learning_rate': 0.9985389506066217, 'max_depth': 12, 'lambda': 0.3221815887153626, 'alpha': 0.08804402915017047, 'colsample_bytree': 0.8726517985807586, 'min_child_weight': 0, 'booster': 'gbtree', 'sampling_method': 'uniform', 'grow_policy': 'depthwise'}. Best is trial 80 with value: 0.29365838775427944.\u001b[0m\n",
      "\u001b[32m[I 2023-03-31 10:04:05,441]\u001b[0m Trial 90 finished with value: 0.2937007550584635 and parameters: {'n_estimators': 1476, 'learning_rate': 0.9134794417029907, 'max_depth': 12, 'lambda': 0.34573447649835165, 'alpha': 0.0016288977476987775, 'colsample_bytree': 0.9279979123647797, 'min_child_weight': 0, 'booster': 'gbtree', 'sampling_method': 'uniform', 'grow_policy': 'depthwise'}. Best is trial 80 with value: 0.29365838775427944.\u001b[0m\n",
      "\u001b[32m[I 2023-03-31 10:04:09,835]\u001b[0m Trial 91 finished with value: 0.29372059143737644 and parameters: {'n_estimators': 1488, 'learning_rate': 0.9040234421920821, 'max_depth': 12, 'lambda': 0.355034156443832, 'alpha': 0.0027852429545038903, 'colsample_bytree': 0.9256849832075313, 'min_child_weight': 0, 'booster': 'gbtree', 'sampling_method': 'uniform', 'grow_policy': 'depthwise'}. Best is trial 80 with value: 0.29365838775427944.\u001b[0m\n",
      "\u001b[32m[I 2023-03-31 10:04:14,219]\u001b[0m Trial 92 finished with value: 0.293683638211515 and parameters: {'n_estimators': 1497, 'learning_rate': 0.9217867014699062, 'max_depth': 12, 'lambda': 0.36211366941209844, 'alpha': 0.0005406890343416871, 'colsample_bytree': 0.9462059847239325, 'min_child_weight': 0, 'booster': 'gbtree', 'sampling_method': 'uniform', 'grow_policy': 'depthwise'}. Best is trial 80 with value: 0.29365838775427944.\u001b[0m\n",
      "\u001b[32m[I 2023-03-31 10:04:18,595]\u001b[0m Trial 93 finished with value: 0.2940271167115196 and parameters: {'n_estimators': 1496, 'learning_rate': 0.9457010793430163, 'max_depth': 12, 'lambda': 0.36131945174338187, 'alpha': 0.035807401070640614, 'colsample_bytree': 0.9481707902187936, 'min_child_weight': 0, 'booster': 'gbtree', 'sampling_method': 'uniform', 'grow_policy': 'depthwise'}. Best is trial 80 with value: 0.29365838775427944.\u001b[0m\n",
      "\u001b[32m[I 2023-03-31 10:04:22,849]\u001b[0m Trial 94 finished with value: 0.29445372883748616 and parameters: {'n_estimators': 1376, 'learning_rate': 0.9103884032438595, 'max_depth': 12, 'lambda': 0.39052451186904363, 'alpha': 0.06267114536013378, 'colsample_bytree': 0.9988547931039159, 'min_child_weight': 0, 'booster': 'gbtree', 'sampling_method': 'uniform', 'grow_policy': 'depthwise'}. Best is trial 80 with value: 0.29365838775427944.\u001b[0m\n",
      "\u001b[32m[I 2023-03-31 10:04:27,185]\u001b[0m Trial 95 finished with value: 0.29422505617169176 and parameters: {'n_estimators': 1469, 'learning_rate': 0.925821144390996, 'max_depth': 12, 'lambda': 0.4171347458963848, 'alpha': 0.04049837376007399, 'colsample_bytree': 0.9317151762917762, 'min_child_weight': 0, 'booster': 'gbtree', 'sampling_method': 'uniform', 'grow_policy': 'depthwise'}. Best is trial 80 with value: 0.29365838775427944.\u001b[0m\n",
      "\u001b[32m[I 2023-03-31 10:04:31,232]\u001b[0m Trial 96 finished with value: 0.29394417936717976 and parameters: {'n_estimators': 1426, 'learning_rate': 0.9727253092654361, 'max_depth': 11, 'lambda': 0.3535818477041498, 'alpha': 0.026572648574107623, 'colsample_bytree': 0.9672368419894113, 'min_child_weight': 0, 'booster': 'gbtree', 'sampling_method': 'uniform', 'grow_policy': 'depthwise'}. Best is trial 80 with value: 0.29365838775427944.\u001b[0m\n",
      "\u001b[32m[I 2023-03-31 10:04:32,506]\u001b[0m Trial 97 finished with value: 0.30227578721780635 and parameters: {'n_estimators': 1407, 'learning_rate': 0.8971836966792078, 'max_depth': 3, 'lambda': 0.3928451674869636, 'alpha': 0.0007940116230080937, 'colsample_bytree': 0.8576775314951602, 'min_child_weight': 0, 'booster': 'gbtree', 'sampling_method': 'uniform', 'grow_policy': 'depthwise'}. Best is trial 80 with value: 0.29365838775427944.\u001b[0m\n",
      "\u001b[32m[I 2023-03-31 10:04:35,325]\u001b[0m Trial 98 finished with value: 0.3006674840316756 and parameters: {'n_estimators': 1367, 'learning_rate': 0.9786020444944176, 'max_depth': 12, 'lambda': 0.32457157515094714, 'alpha': 0.05501674666228284, 'colsample_bytree': 0.8849048673629628, 'min_child_weight': 1, 'booster': 'gbtree', 'sampling_method': 'uniform', 'grow_policy': 'depthwise'}. Best is trial 80 with value: 0.29365838775427944.\u001b[0m\n",
      "\u001b[32m[I 2023-03-31 10:04:39,443]\u001b[0m Trial 99 finished with value: 0.2945715651307935 and parameters: {'n_estimators': 1471, 'learning_rate': 0.9486948996642419, 'max_depth': 12, 'lambda': 0.288401604354095, 'alpha': 0.0870768418525321, 'colsample_bytree': 0.9209440070291076, 'min_child_weight': 0, 'booster': 'gbtree', 'sampling_method': 'gradient_based', 'grow_policy': 'depthwise'}. Best is trial 80 with value: 0.29365838775427944.\u001b[0m\n"
     ]
    }
   ],
   "source": [
    "#| export\n",
    "if run_study == True:\n",
    "    study = optuna.create_study(direction='minimize')\n",
    "    study.optimize(objective, n_trials = 100,)\n",
    "    # save study.best_params a json file to load later\n",
    "    with open('study_params.json', 'w') as fp:\n",
    "        json.dump(study.best_params, fp)"
   ]
  },
  {
   "attachments": {},
   "cell_type": "markdown",
   "metadata": {},
   "source": [
    "#### Assigning Best Parameters"
   ]
  },
  {
   "cell_type": "code",
   "execution_count": 51,
   "metadata": {},
   "outputs": [],
   "source": [
    "#| export\n",
    "with open('study_params.json', 'r') as fp:\n",
    "    study_best_params = json.load(fp)"
   ]
  },
  {
   "cell_type": "code",
   "execution_count": 52,
   "metadata": {},
   "outputs": [],
   "source": [
    "#| export\n",
    "best_params = {'n_estimators': 380,\n",
    " 'learning_rate': 0.9319687783879956,\n",
    " 'max_depth': 12,\n",
    " 'lambda': 0.02022953533538882,\n",
    " 'alpha': 9.277352577569814e-07,\n",
    " 'colsample_bytree': 0.7477567097593131,\n",
    " 'min_child_weight': 0,\n",
    " 'booster': 'gbtree',\n",
    " 'sampling_method': 'uniform',\n",
    " 'grow_policy': 'depthwise',\n",
    " 'objective': 'reg:squaredlogerror',\n",
    " 'eval_metric': 'rmsle'}"
   ]
  },
  {
   "cell_type": "code",
   "execution_count": 53,
   "metadata": {},
   "outputs": [],
   "source": [
    "#| export\n",
    "best_params.update(study_best_params)"
   ]
  },
  {
   "cell_type": "code",
   "execution_count": 54,
   "metadata": {},
   "outputs": [
    {
     "data": {
      "text/plain": [
       "{'n_estimators': 1366,\n",
       " 'learning_rate': 0.9966089304842916,\n",
       " 'max_depth': 12,\n",
       " 'lambda': 0.36999767740684797,\n",
       " 'alpha': 0.00034306004800048104,\n",
       " 'colsample_bytree': 0.9657745153267124,\n",
       " 'min_child_weight': 0,\n",
       " 'booster': 'gbtree',\n",
       " 'sampling_method': 'uniform',\n",
       " 'grow_policy': 'depthwise',\n",
       " 'objective': 'reg:squaredlogerror',\n",
       " 'eval_metric': 'rmsle'}"
      ]
     },
     "execution_count": 54,
     "metadata": {},
     "output_type": "execute_result"
    }
   ],
   "source": [
    "best_params"
   ]
  },
  {
   "attachments": {},
   "cell_type": "markdown",
   "metadata": {},
   "source": [
    "***"
   ]
  },
  {
   "attachments": {},
   "cell_type": "markdown",
   "metadata": {},
   "source": [
    "#### Creating GB Model"
   ]
  },
  {
   "cell_type": "code",
   "execution_count": 55,
   "metadata": {},
   "outputs": [],
   "source": [
    "cont, cat = cont_cat_split(df_train, max_card=1, dep_var='cost')"
   ]
  },
  {
   "cell_type": "code",
   "execution_count": 56,
   "metadata": {},
   "outputs": [],
   "source": [
    "to = TabularPandas(df_train, procs, cat, cont, y_names='cost', splits=splits)"
   ]
  },
  {
   "cell_type": "code",
   "execution_count": 57,
   "metadata": {},
   "outputs": [],
   "source": [
    "to_test = TabularPandas(df_test, procs, cat, cont, y_names=None, splits=None)"
   ]
  },
  {
   "cell_type": "code",
   "execution_count": 58,
   "metadata": {},
   "outputs": [],
   "source": [
    "xs, y = to.train.xs, to.train.y\n",
    "valid_xs, valid_y = to.valid.xs, to.valid.y\n",
    "test_xs = to_test.xs"
   ]
  },
  {
   "cell_type": "code",
   "execution_count": 59,
   "metadata": {},
   "outputs": [],
   "source": [
    "gb_train = xgb.DMatrix(xs, label=y)\n",
    "gb_valid = xgb.DMatrix(valid_xs, label=valid_y)\n",
    "gb_test = xgb.DMatrix(test_xs)"
   ]
  },
  {
   "cell_type": "code",
   "execution_count": 60,
   "metadata": {},
   "outputs": [
    {
     "name": "stdout",
     "output_type": "stream",
     "text": [
      "[0]\tvalid-rmsle:3.58277\n",
      "[1]\tvalid-rmsle:3.00971\n",
      "[2]\tvalid-rmsle:2.45561\n",
      "[3]\tvalid-rmsle:1.92692\n",
      "[4]\tvalid-rmsle:1.43360\n",
      "[5]\tvalid-rmsle:0.99220\n",
      "[6]\tvalid-rmsle:0.63176\n",
      "[7]\tvalid-rmsle:0.40083\n",
      "[8]\tvalid-rmsle:0.31939\n",
      "[9]\tvalid-rmsle:0.30682\n",
      "[10]\tvalid-rmsle:0.30384\n",
      "[11]\tvalid-rmsle:0.30201\n",
      "[12]\tvalid-rmsle:0.30126\n",
      "[13]\tvalid-rmsle:0.30034\n",
      "[14]\tvalid-rmsle:0.29984\n",
      "[15]\tvalid-rmsle:0.29903\n",
      "[16]\tvalid-rmsle:0.29868\n",
      "[17]\tvalid-rmsle:0.29834\n",
      "[18]\tvalid-rmsle:0.29804\n",
      "[19]\tvalid-rmsle:0.29773\n",
      "[20]\tvalid-rmsle:0.29739\n",
      "[21]\tvalid-rmsle:0.29707\n",
      "[22]\tvalid-rmsle:0.29683\n",
      "[23]\tvalid-rmsle:0.29662\n",
      "[24]\tvalid-rmsle:0.29649\n",
      "[25]\tvalid-rmsle:0.29625\n",
      "[26]\tvalid-rmsle:0.29615\n",
      "[27]\tvalid-rmsle:0.29595\n",
      "[28]\tvalid-rmsle:0.29579\n",
      "[29]\tvalid-rmsle:0.29562\n",
      "[30]\tvalid-rmsle:0.29551\n",
      "[31]\tvalid-rmsle:0.29544\n",
      "[32]\tvalid-rmsle:0.29533\n",
      "[33]\tvalid-rmsle:0.29522\n",
      "[34]\tvalid-rmsle:0.29515\n",
      "[35]\tvalid-rmsle:0.29506\n",
      "[36]\tvalid-rmsle:0.29501\n",
      "[37]\tvalid-rmsle:0.29494\n",
      "[38]\tvalid-rmsle:0.29488\n",
      "[39]\tvalid-rmsle:0.29485\n",
      "[40]\tvalid-rmsle:0.29480\n",
      "[41]\tvalid-rmsle:0.29477\n",
      "[42]\tvalid-rmsle:0.29471\n",
      "[43]\tvalid-rmsle:0.29466\n",
      "[44]\tvalid-rmsle:0.29461\n",
      "[45]\tvalid-rmsle:0.29456\n",
      "[46]\tvalid-rmsle:0.29453\n",
      "[47]\tvalid-rmsle:0.29449\n",
      "[48]\tvalid-rmsle:0.29443\n",
      "[49]\tvalid-rmsle:0.29439\n",
      "[50]\tvalid-rmsle:0.29435\n",
      "[51]\tvalid-rmsle:0.29432\n",
      "[52]\tvalid-rmsle:0.29429\n",
      "[53]\tvalid-rmsle:0.29428\n",
      "[54]\tvalid-rmsle:0.29426\n",
      "[55]\tvalid-rmsle:0.29423\n",
      "[56]\tvalid-rmsle:0.29421\n",
      "[57]\tvalid-rmsle:0.29420\n",
      "[58]\tvalid-rmsle:0.29416\n",
      "[59]\tvalid-rmsle:0.29414\n",
      "[60]\tvalid-rmsle:0.29411\n",
      "[61]\tvalid-rmsle:0.29408\n",
      "[62]\tvalid-rmsle:0.29404\n",
      "[63]\tvalid-rmsle:0.29403\n",
      "[64]\tvalid-rmsle:0.29401\n",
      "[65]\tvalid-rmsle:0.29398\n",
      "[66]\tvalid-rmsle:0.29396\n",
      "[67]\tvalid-rmsle:0.29394\n",
      "[68]\tvalid-rmsle:0.29392\n",
      "[69]\tvalid-rmsle:0.29391\n",
      "[70]\tvalid-rmsle:0.29389\n",
      "[71]\tvalid-rmsle:0.29389\n",
      "[72]\tvalid-rmsle:0.29387\n",
      "[73]\tvalid-rmsle:0.29386\n",
      "[74]\tvalid-rmsle:0.29385\n",
      "[75]\tvalid-rmsle:0.29385\n",
      "[76]\tvalid-rmsle:0.29383\n",
      "[77]\tvalid-rmsle:0.29382\n",
      "[78]\tvalid-rmsle:0.29380\n",
      "[79]\tvalid-rmsle:0.29379\n",
      "[80]\tvalid-rmsle:0.29377\n",
      "[81]\tvalid-rmsle:0.29376\n",
      "[82]\tvalid-rmsle:0.29375\n",
      "[83]\tvalid-rmsle:0.29374\n",
      "[84]\tvalid-rmsle:0.29373\n",
      "[85]\tvalid-rmsle:0.29372\n",
      "[86]\tvalid-rmsle:0.29371\n",
      "[87]\tvalid-rmsle:0.29370\n",
      "[88]\tvalid-rmsle:0.29369\n",
      "[89]\tvalid-rmsle:0.29368\n",
      "[90]\tvalid-rmsle:0.29367\n",
      "[91]\tvalid-rmsle:0.29366\n",
      "[92]\tvalid-rmsle:0.29365\n",
      "[93]\tvalid-rmsle:0.29364\n",
      "[94]\tvalid-rmsle:0.29363\n",
      "[95]\tvalid-rmsle:0.29362\n",
      "[96]\tvalid-rmsle:0.29361\n",
      "[97]\tvalid-rmsle:0.29361\n",
      "[98]\tvalid-rmsle:0.29361\n",
      "[99]\tvalid-rmsle:0.29360\n",
      "[100]\tvalid-rmsle:0.29359\n",
      "[101]\tvalid-rmsle:0.29359\n",
      "[102]\tvalid-rmsle:0.29358\n",
      "[103]\tvalid-rmsle:0.29358\n",
      "[104]\tvalid-rmsle:0.29357\n",
      "[105]\tvalid-rmsle:0.29357\n",
      "[106]\tvalid-rmsle:0.29356\n",
      "[107]\tvalid-rmsle:0.29356\n",
      "[108]\tvalid-rmsle:0.29355\n",
      "[109]\tvalid-rmsle:0.29354\n",
      "[110]\tvalid-rmsle:0.29354\n",
      "[111]\tvalid-rmsle:0.29353\n",
      "[112]\tvalid-rmsle:0.29352\n",
      "[113]\tvalid-rmsle:0.29351\n",
      "[114]\tvalid-rmsle:0.29351\n",
      "[115]\tvalid-rmsle:0.29351\n",
      "[116]\tvalid-rmsle:0.29350\n",
      "[117]\tvalid-rmsle:0.29349\n",
      "[118]\tvalid-rmsle:0.29349\n",
      "[119]\tvalid-rmsle:0.29348\n",
      "[120]\tvalid-rmsle:0.29348\n",
      "[121]\tvalid-rmsle:0.29347\n",
      "[122]\tvalid-rmsle:0.29347\n",
      "[123]\tvalid-rmsle:0.29347\n",
      "[124]\tvalid-rmsle:0.29346\n",
      "[125]\tvalid-rmsle:0.29346\n",
      "[126]\tvalid-rmsle:0.29345\n",
      "[127]\tvalid-rmsle:0.29345\n",
      "[128]\tvalid-rmsle:0.29344\n",
      "[129]\tvalid-rmsle:0.29344\n",
      "[130]\tvalid-rmsle:0.29344\n",
      "[131]\tvalid-rmsle:0.29343\n",
      "[132]\tvalid-rmsle:0.29343\n",
      "[133]\tvalid-rmsle:0.29343\n",
      "[134]\tvalid-rmsle:0.29343\n",
      "[135]\tvalid-rmsle:0.29343\n",
      "[136]\tvalid-rmsle:0.29342\n",
      "[137]\tvalid-rmsle:0.29342\n",
      "[138]\tvalid-rmsle:0.29341\n",
      "[139]\tvalid-rmsle:0.29341\n",
      "[140]\tvalid-rmsle:0.29341\n",
      "[141]\tvalid-rmsle:0.29341\n",
      "[142]\tvalid-rmsle:0.29341\n",
      "[143]\tvalid-rmsle:0.29340\n",
      "[144]\tvalid-rmsle:0.29340\n",
      "[145]\tvalid-rmsle:0.29340\n",
      "[146]\tvalid-rmsle:0.29340\n",
      "[147]\tvalid-rmsle:0.29340\n",
      "[148]\tvalid-rmsle:0.29339\n",
      "[149]\tvalid-rmsle:0.29338\n",
      "[150]\tvalid-rmsle:0.29338\n",
      "[151]\tvalid-rmsle:0.29337\n",
      "[152]\tvalid-rmsle:0.29337\n",
      "[153]\tvalid-rmsle:0.29337\n",
      "[154]\tvalid-rmsle:0.29337\n",
      "[155]\tvalid-rmsle:0.29337\n",
      "[156]\tvalid-rmsle:0.29337\n",
      "[157]\tvalid-rmsle:0.29336\n",
      "[158]\tvalid-rmsle:0.29336\n",
      "[159]\tvalid-rmsle:0.29336\n",
      "[160]\tvalid-rmsle:0.29336\n",
      "[161]\tvalid-rmsle:0.29336\n",
      "[162]\tvalid-rmsle:0.29336\n",
      "[163]\tvalid-rmsle:0.29336\n",
      "[164]\tvalid-rmsle:0.29336\n",
      "[165]\tvalid-rmsle:0.29335\n",
      "[166]\tvalid-rmsle:0.29335\n",
      "[167]\tvalid-rmsle:0.29335\n",
      "[168]\tvalid-rmsle:0.29335\n",
      "[169]\tvalid-rmsle:0.29335\n",
      "[170]\tvalid-rmsle:0.29335\n",
      "[171]\tvalid-rmsle:0.29335\n",
      "[172]\tvalid-rmsle:0.29335\n",
      "[173]\tvalid-rmsle:0.29335\n",
      "[174]\tvalid-rmsle:0.29334\n",
      "[175]\tvalid-rmsle:0.29334\n",
      "[176]\tvalid-rmsle:0.29334\n",
      "[177]\tvalid-rmsle:0.29333\n",
      "[178]\tvalid-rmsle:0.29333\n",
      "[179]\tvalid-rmsle:0.29333\n",
      "[180]\tvalid-rmsle:0.29333\n",
      "[181]\tvalid-rmsle:0.29333\n",
      "[182]\tvalid-rmsle:0.29332\n",
      "[183]\tvalid-rmsle:0.29332\n",
      "[184]\tvalid-rmsle:0.29332\n",
      "[185]\tvalid-rmsle:0.29332\n",
      "[186]\tvalid-rmsle:0.29332\n",
      "[187]\tvalid-rmsle:0.29331\n",
      "[188]\tvalid-rmsle:0.29331\n",
      "[189]\tvalid-rmsle:0.29331\n",
      "[190]\tvalid-rmsle:0.29330\n",
      "[191]\tvalid-rmsle:0.29330\n",
      "[192]\tvalid-rmsle:0.29330\n",
      "[193]\tvalid-rmsle:0.29330\n",
      "[194]\tvalid-rmsle:0.29330\n",
      "[195]\tvalid-rmsle:0.29330\n",
      "[196]\tvalid-rmsle:0.29330\n",
      "[197]\tvalid-rmsle:0.29330\n",
      "[198]\tvalid-rmsle:0.29330\n",
      "[199]\tvalid-rmsle:0.29330\n"
     ]
    }
   ],
   "source": [
    "model =  xgb.train(best_params, gb_train, num_boost_round = 200,\n",
    "                        evals = [(gb_valid, 'valid')], \n",
    "                        early_stopping_rounds=20, verbose_eval=True\n",
    "                       )"
   ]
  },
  {
   "attachments": {},
   "cell_type": "markdown",
   "metadata": {},
   "source": [
    "#### Getting GB Predictions"
   ]
  },
  {
   "cell_type": "code",
   "execution_count": 65,
   "metadata": {},
   "outputs": [],
   "source": [
    "xgb_preds = model.predict(xgb.DMatrix(test_xs))\n"
   ]
  },
  {
   "attachments": {},
   "cell_type": "markdown",
   "metadata": {},
   "source": [
    "***"
   ]
  },
  {
   "attachments": {},
   "cell_type": "markdown",
   "metadata": {},
   "source": [
    "#### K-Folds Cross Validation"
   ]
  },
  {
   "cell_type": "code",
   "execution_count": 57,
   "metadata": {},
   "outputs": [],
   "source": [
    "# comment each line of code to say what it is doing\n",
    "# set the number of folds\n",
    "num_folds = 10\n",
    "# create empty list to store the loglosses\n",
    "loglosses = []\n",
    "# create empty array to store the predictions\n",
    "final_preds = np.zeros(len(test_fe))\n",
    "# create a kfold object\n",
    "kf = KFold(n_splits=num_folds, shuffle = True, random_state = 1042)\n",
    "# loop through each fold\n",
    "for fold, (trn_idx, val_idx) in enumerate(kf.split(train,target)):\n",
    "    # print the fold number\n",
    "    print('-'*20, 'Fold:', fold + 1, '-'*20)\n",
    "    # split the data into train and validation\n",
    "    X_train, X_test = train.iloc[trn_idx], train.iloc[val_idx]\n",
    "    # split the target into train and validation\n",
    "    y_train, y_test = target.iloc[trn_idx], target.iloc[val_idx]\n",
    "    \n",
    "    # create the train and validation data\n",
    "    d_train = xgb.DMatrix(X_train,y_train)\n",
    "    d_test = xgb.DMatrix(X_test,y_test)\n",
    "    \n",
    "    # train the model\n",
    "    model =  xgb.train(best_params, d_train, num_boost_round = 200,\n",
    "                        evals = [(d_test, 'valid')], \n",
    "                        early_stopping_rounds=20, verbose_eval=True\n",
    "                       )\n",
    "#     preds = model.predict(d_test)\n",
    "#     logloss = metrics.log_loss(y_test, preds)\n",
    "#     loglosses.append(logloss)\n",
    "#     print(f'Logloss: {logloss}')\n",
    "    # predict on the test set\n",
    "    preds = model.predict(xgb.DMatrix(test_fe))\n",
    "    # add the predictions to the final predictions array\n",
    "    final_preds += preds / num_folds"
   ]
  },
  {
   "cell_type": "code",
   "execution_count": null,
   "metadata": {},
   "outputs": [],
   "source": []
  },
  {
   "attachments": {},
   "cell_type": "markdown",
   "metadata": {},
   "source": [
    "***"
   ]
  },
  {
   "cell_type": "code",
   "execution_count": 66,
   "metadata": {},
   "outputs": [
    {
     "data": {
      "text/plain": [
       "28.194116"
      ]
     },
     "execution_count": 66,
     "metadata": {},
     "output_type": "execute_result"
    }
   ],
   "source": [
    "xgb_mse = r_mse(model.predict(gb_valid), valid_y)\n",
    "xgb_mse"
   ]
  },
  {
   "attachments": {},
   "cell_type": "markdown",
   "metadata": {},
   "source": [
    "#### Ensemble of All Predictions"
   ]
  },
  {
   "cell_type": "code",
   "execution_count": 69,
   "metadata": {},
   "outputs": [
    {
     "data": {
      "text/plain": [
       "(array([ 90.17814 ,  93.906204,  93.6516  , ...,  93.6516  , 105.0644  ,\n",
       "        107.35126 ], dtype=float32),\n",
       " array([103.35292383,  89.56224564, 104.73319488, ...,  98.896543  ,\n",
       "        120.47056809, 111.05217734]),\n",
       " tensor([ 97.8419,  97.0494, 100.4518,  ..., 100.7054, 110.7893, 105.8562]))"
      ]
     },
     "execution_count": 69,
     "metadata": {},
     "output_type": "execute_result"
    }
   ],
   "source": [
    "xgb_preds, rf_preds, nn_preds"
   ]
  },
  {
   "cell_type": "code",
   "execution_count": 70,
   "metadata": {},
   "outputs": [],
   "source": [
    "#| export\n",
    "ens_preds = (to_np(nn_preds) + rf_preds + xgb_preds) / 3"
   ]
  },
  {
   "cell_type": "code",
   "execution_count": 71,
   "metadata": {},
   "outputs": [
    {
     "data": {
      "text/plain": [
       "array([ 97.12430937,  93.50593989,  99.61218343, ...,  97.75117158,\n",
       "       112.10807368, 108.08655036])"
      ]
     },
     "execution_count": 71,
     "metadata": {},
     "output_type": "execute_result"
    }
   ],
   "source": [
    "ens_preds"
   ]
  },
  {
   "cell_type": "code",
   "execution_count": 72,
   "metadata": {},
   "outputs": [],
   "source": [
    "#| export\n",
    "sample_df = pd.read_csv(path/'sample_submission.csv')\n",
    "sample_df['cost'] = ens_preds\n",
    "sample_df.to_csv('submission.csv', index=False)"
   ]
  },
  {
   "cell_type": "code",
   "execution_count": 73,
   "metadata": {},
   "outputs": [
    {
     "name": "stdout",
     "output_type": "stream",
     "text": [
      "id,cost\n",
      "360336,97.12430936806402\n",
      "360337,93.5059398932184\n",
      "360338,99.61218343039461\n",
      "360339,99.4713472220264\n",
      "360340,80.9961309428299\n",
      "360341,106.20218617909352\n",
      "360342,110.73337492915412\n",
      "360343,94.92941656036108\n",
      "360344,90.42468342380285\n"
     ]
    }
   ],
   "source": [
    "!head submission.csv"
   ]
  },
  {
   "cell_type": "code",
   "execution_count": 74,
   "metadata": {},
   "outputs": [
    {
     "data": {
      "text/plain": [
       "id      600559.000000\n",
       "cost       136.824965\n",
       "dtype: float64"
      ]
     },
     "execution_count": 74,
     "metadata": {},
     "output_type": "execute_result"
    }
   ],
   "source": [
    "sample_df.max()"
   ]
  },
  {
   "cell_type": "code",
   "execution_count": 75,
   "metadata": {},
   "outputs": [],
   "source": [
    "submit = False"
   ]
  },
  {
   "cell_type": "code",
   "execution_count": 76,
   "metadata": {},
   "outputs": [
    {
     "name": "stdout",
     "output_type": "stream",
     "text": [
      "Warning: Looks like you're using an outdated API Version, please consider updating (server 1.5.13 / client 1.5.12)\n"
     ]
    },
    {
     "name": "stderr",
     "output_type": "stream",
     "text": [
      "100%|██████████| 5.79M/5.79M [00:02<00:00, 2.43MB/s]\n"
     ]
    }
   ],
   "source": [
    "if not iskaggle and submit:\n",
    "    from kaggle import api\n",
    "    api.competition_submit_cli(file_name='submission.csv', message=\"drop id column\", competition=comp)"
   ]
  },
  {
   "cell_type": "code",
   "execution_count": null,
   "metadata": {},
   "outputs": [],
   "source": [
    "import nbdev\n",
    "nbdev.export.nb_export('media_campaign_cost_boost.ipynb', 'app_v3')\n",
    "print(\"export successful\")"
   ]
  }
 ],
 "metadata": {
  "kernelspec": {
   "display_name": "base",
   "language": "python",
   "name": "python3"
  },
  "language_info": {
   "codemirror_mode": {
    "name": "ipython",
    "version": 3
   },
   "file_extension": ".py",
   "mimetype": "text/x-python",
   "name": "python",
   "nbconvert_exporter": "python",
   "pygments_lexer": "ipython3",
   "version": "3.10.6"
  },
  "orig_nbformat": 4,
  "vscode": {
   "interpreter": {
    "hash": "f4702a165a03ade35e40e0221d250a3a44a346cfc16a49ce6d051d1595069b46"
   }
  }
 },
 "nbformat": 4,
 "nbformat_minor": 2
}
