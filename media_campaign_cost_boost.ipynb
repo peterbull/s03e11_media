{
 "cells": [
  {
   "cell_type": "code",
   "execution_count": 1,
   "metadata": {},
   "outputs": [],
   "source": [
    "#| default_exp app_v3"
   ]
  },
  {
   "attachments": {},
   "cell_type": "markdown",
   "metadata": {},
   "source": [
    "#### Competition"
   ]
  },
  {
   "attachments": {},
   "cell_type": "markdown",
   "metadata": {},
   "source": [
    "[LINK](https://www.kaggle.com/competitions/playground-series-s3e11/overview)"
   ]
  },
  {
   "attachments": {},
   "cell_type": "markdown",
   "metadata": {},
   "source": [
    "#### Imports"
   ]
  },
  {
   "cell_type": "code",
   "execution_count": 1,
   "metadata": {},
   "outputs": [],
   "source": [
    "#| export\n",
    "\n",
    "\n",
    "from fastai.tabular.all import *\n",
    "\n",
    "from sklearn.model_selection import KFold, train_test_split, cross_val_score\n",
    "from sklearn.ensemble import RandomForestRegressor\n",
    "from sklearn.inspection import permutation_importance\n",
    "\n",
    "\n",
    "import xgboost as xgb\n",
    "\n",
    "import seaborn as sns\n",
    "\n",
    "import optuna\n",
    "\n",
    "import json"
   ]
  },
  {
   "cell_type": "code",
   "execution_count": 8,
   "metadata": {},
   "outputs": [],
   "source": [
    "Path('./training_params').mkdir(parents=True, exist_ok=True)\n",
    "Path('./predictions').mkdir(parents=True, exist_ok=True)"
   ]
  },
  {
   "cell_type": "code",
   "execution_count": null,
   "metadata": {},
   "outputs": [],
   "source": []
  },
  {
   "attachments": {},
   "cell_type": "markdown",
   "metadata": {},
   "source": [
    "#### Downloading Datasets"
   ]
  },
  {
   "cell_type": "code",
   "execution_count": 3,
   "metadata": {},
   "outputs": [],
   "source": [
    "#| export\n",
    "try: import fastkaggle\n",
    "except ModuleNotFoundError:\n",
    "    !pip install -Uq fastkaggle\n",
    "\n",
    "from fastkaggle import *"
   ]
  },
  {
   "cell_type": "code",
   "execution_count": 4,
   "metadata": {},
   "outputs": [],
   "source": [
    "#| export\n",
    "comp = 'playground-series-s3e11'\n",
    "path = setup_comp(comp, install='fastai')"
   ]
  },
  {
   "cell_type": "code",
   "execution_count": 5,
   "metadata": {},
   "outputs": [],
   "source": [
    "# copy .gitignore template from my home directory and append project data folder to it\n",
    "if not os.path.exists('.gitignore'):\n",
    "    !cp ~/.gitignore .\n",
    "if comp not in open('.gitignore').read():\n",
    "    with open('.gitignore', 'a') as f: f.write(f'{comp}')"
   ]
  },
  {
   "attachments": {},
   "cell_type": "markdown",
   "metadata": {},
   "source": [
    "#### Create Dataframes"
   ]
  },
  {
   "cell_type": "code",
   "execution_count": 6,
   "metadata": {},
   "outputs": [],
   "source": [
    "#| export\n",
    "df_train = pd.read_csv(path/'train.csv', low_memory=False)\n",
    "df_test = pd.read_csv(path/'test.csv', low_memory=False)\n",
    "df_comb = pd.concat([df_train, df_test], ignore_index=True)"
   ]
  },
  {
   "cell_type": "code",
   "execution_count": 7,
   "metadata": {},
   "outputs": [],
   "source": [
    "#| export\n",
    "df_train.drop(['id'], axis=1, inplace=True)\n",
    "df_test.drop(['id'], axis=1, inplace=True)\n",
    "df_comb.drop(['id'], axis=1, inplace=True)"
   ]
  },
  {
   "cell_type": "code",
   "execution_count": 8,
   "metadata": {},
   "outputs": [],
   "source": [
    "#| export\n",
    "df_train['store_sales_per_children'] = df_train['store_sales(in millions)'] / df_train['total_children']"
   ]
  },
  {
   "cell_type": "code",
   "execution_count": 9,
   "metadata": {},
   "outputs": [],
   "source": [
    "#| export\n",
    "for column in df_train.columns:\n",
    "    if (list(df_train[column].unique()) == [0.0, 1.0]):\n",
    "        df_train.loc[:, column] = df_train[column].astype('bool')"
   ]
  },
  {
   "cell_type": "code",
   "execution_count": 10,
   "metadata": {},
   "outputs": [],
   "source": [
    "#| export\n",
    "train_idxs = np.arange(len(df_train))\n",
    "test_idxs = np.arange(len(df_train), len(df_comb))"
   ]
  },
  {
   "cell_type": "code",
   "execution_count": 11,
   "metadata": {},
   "outputs": [],
   "source": [
    "dep_var = 'cost'\n",
    "procs = [Categorify, FillMissing, Normalize]\n",
    "cont, cat = cont_cat_split(df_comb, max_card=1, dep_var=dep_var)\n",
    "splits = RandomSplitter(valid_pct=0.2)(range_of(df_train))"
   ]
  },
  {
   "cell_type": "code",
   "execution_count": 12,
   "metadata": {},
   "outputs": [],
   "source": [
    "df_train = df_comb.iloc[train_idxs]\n",
    "df_test = df_comb.iloc[test_idxs]"
   ]
  },
  {
   "cell_type": "code",
   "execution_count": 13,
   "metadata": {},
   "outputs": [],
   "source": [
    "#| export\n",
    "to_final = TabularPandas(df_train, procs, cat, cont, y_names=dep_var, splits=splits)\n",
    "test_final = TabularPandas(df_test, procs, cat, cont, y_names=None, splits=None)\n",
    "dls_final = to_final.dataloaders(bs=1024)"
   ]
  },
  {
   "attachments": {},
   "cell_type": "markdown",
   "metadata": {},
   "source": [
    "#### Optimizing NN Parameters with Optuna"
   ]
  },
  {
   "cell_type": "code",
   "execution_count": 14,
   "metadata": {},
   "outputs": [],
   "source": [
    "def nn_trial(trial):\n",
    "    lr = trial.suggest_float('lr', 1e-5, 1e-1)\n",
    "    wd = trial.suggest_float('wd', 1e-6, 1e-1)\n",
    "    n_layers = trial.suggest_int('n_layers', 1, 3)\n",
    "    hidden_dim = trial.suggest_int('hidden_dim', 100, 1000)\n",
    "    \n",
    "\n",
    "    layer_sizes = [hidden_dim] * n_layers\n",
    "\n",
    "    learn = tabular_learner(dls_final, layers=layer_sizes, metrics=rmse, wd=wd)\n",
    "    learn.fit_one_cycle(10, lr)\n",
    "\n",
    "    # Return the validation loss (or any other metric of your choice)\n",
    "    return learn.recorder.values[-1][0]\n"
   ]
  },
  {
   "cell_type": "code",
   "execution_count": 15,
   "metadata": {},
   "outputs": [],
   "source": [
    "nn_study = False"
   ]
  },
  {
   "cell_type": "code",
   "execution_count": 16,
   "metadata": {},
   "outputs": [],
   "source": [
    "if nn_study == True:\n",
    "    study = optuna.create_study(direction='minimize')\n",
    "    study.optimize(nn_trial, n_trials=50)\n",
    "    with open('./training_params/nn_params.json', 'w') as fp:\n",
    "        json.dump(study.best_params, fp)"
   ]
  },
  {
   "cell_type": "code",
   "execution_count": 12,
   "metadata": {},
   "outputs": [],
   "source": [
    "with open('./training_params/nn_params.json', 'r') as fp:\n",
    "    nn_best_params = json.load(fp)"
   ]
  },
  {
   "cell_type": "code",
   "execution_count": 18,
   "metadata": {},
   "outputs": [
    {
     "data": {
      "text/plain": [
       "0.028868944455163"
      ]
     },
     "execution_count": 18,
     "metadata": {},
     "output_type": "execute_result"
    }
   ],
   "source": [
    "nn_lr = nn_best_params['lr']\n",
    "nn_best_params.pop('lr')"
   ]
  },
  {
   "cell_type": "code",
   "execution_count": 19,
   "metadata": {},
   "outputs": [
    {
     "data": {
      "text/plain": [
       "722"
      ]
     },
     "execution_count": 19,
     "metadata": {},
     "output_type": "execute_result"
    }
   ],
   "source": [
    "nn_best_params['layers'] = [nn_best_params['hidden_dim']] * nn_best_params['n_layers']\n",
    "nn_best_params.pop('n_layers')\n",
    "nn_best_params.pop('hidden_dim')"
   ]
  },
  {
   "cell_type": "code",
   "execution_count": 20,
   "metadata": {},
   "outputs": [
    {
     "data": {
      "text/plain": [
       "{'wd': 0.005015308901580747, 'layers': [722, 722, 722]}"
      ]
     },
     "execution_count": 20,
     "metadata": {},
     "output_type": "execute_result"
    }
   ],
   "source": [
    "nn_best_params"
   ]
  },
  {
   "attachments": {},
   "cell_type": "markdown",
   "metadata": {},
   "source": [
    "### Neural Network Model"
   ]
  },
  {
   "attachments": {},
   "cell_type": "markdown",
   "metadata": {},
   "source": [
    "#### Train Model"
   ]
  },
  {
   "cell_type": "code",
   "execution_count": 23,
   "metadata": {},
   "outputs": [],
   "source": [
    "#| export\n",
    "nn_train = False\n",
    "epochs = 17"
   ]
  },
  {
   "cell_type": "code",
   "execution_count": 24,
   "metadata": {},
   "outputs": [
    {
     "data": {
      "text/html": [
       "\n",
       "<style>\n",
       "    /* Turns off some styling */\n",
       "    progress {\n",
       "        /* gets rid of default border in Firefox and Opera. */\n",
       "        border: none;\n",
       "        /* Needs to be in here for Safari polyfill so background images work as expected. */\n",
       "        background-size: auto;\n",
       "    }\n",
       "    progress:not([value]), progress:not([value])::-webkit-progress-bar {\n",
       "        background: repeating-linear-gradient(45deg, #7e7e7e, #7e7e7e 10px, #5c5c5c 10px, #5c5c5c 20px);\n",
       "    }\n",
       "    .progress-bar-interrupted, .progress-bar-interrupted::-webkit-progress-bar {\n",
       "        background: #F44336;\n",
       "    }\n",
       "</style>\n"
      ],
      "text/plain": [
       "<IPython.core.display.HTML object>"
      ]
     },
     "metadata": {},
     "output_type": "display_data"
    },
    {
     "data": {
      "text/html": [
       "<table border=\"1\" class=\"dataframe\">\n",
       "  <thead>\n",
       "    <tr style=\"text-align: left;\">\n",
       "      <th>epoch</th>\n",
       "      <th>train_loss</th>\n",
       "      <th>valid_loss</th>\n",
       "      <th>_rmse</th>\n",
       "      <th>time</th>\n",
       "    </tr>\n",
       "  </thead>\n",
       "  <tbody>\n",
       "    <tr>\n",
       "      <td>0</td>\n",
       "      <td>892.058472</td>\n",
       "      <td>889.543152</td>\n",
       "      <td>29.825209</td>\n",
       "      <td>00:02</td>\n",
       "    </tr>\n",
       "    <tr>\n",
       "      <td>1</td>\n",
       "      <td>885.733948</td>\n",
       "      <td>866.067871</td>\n",
       "      <td>29.429033</td>\n",
       "      <td>00:02</td>\n",
       "    </tr>\n",
       "    <tr>\n",
       "      <td>2</td>\n",
       "      <td>850.472168</td>\n",
       "      <td>858.476868</td>\n",
       "      <td>29.299772</td>\n",
       "      <td>00:02</td>\n",
       "    </tr>\n",
       "    <tr>\n",
       "      <td>3</td>\n",
       "      <td>838.717102</td>\n",
       "      <td>855.936340</td>\n",
       "      <td>29.256392</td>\n",
       "      <td>00:02</td>\n",
       "    </tr>\n",
       "    <tr>\n",
       "      <td>4</td>\n",
       "      <td>837.272766</td>\n",
       "      <td>828.506165</td>\n",
       "      <td>28.783783</td>\n",
       "      <td>00:02</td>\n",
       "    </tr>\n",
       "    <tr>\n",
       "      <td>5</td>\n",
       "      <td>832.202698</td>\n",
       "      <td>829.981018</td>\n",
       "      <td>28.809391</td>\n",
       "      <td>00:02</td>\n",
       "    </tr>\n",
       "    <tr>\n",
       "      <td>6</td>\n",
       "      <td>821.280701</td>\n",
       "      <td>819.152283</td>\n",
       "      <td>28.620838</td>\n",
       "      <td>00:02</td>\n",
       "    </tr>\n",
       "    <tr>\n",
       "      <td>7</td>\n",
       "      <td>822.203247</td>\n",
       "      <td>819.472778</td>\n",
       "      <td>28.626431</td>\n",
       "      <td>00:02</td>\n",
       "    </tr>\n",
       "    <tr>\n",
       "      <td>8</td>\n",
       "      <td>813.449463</td>\n",
       "      <td>824.132446</td>\n",
       "      <td>28.707708</td>\n",
       "      <td>00:02</td>\n",
       "    </tr>\n",
       "    <tr>\n",
       "      <td>9</td>\n",
       "      <td>807.433716</td>\n",
       "      <td>801.534058</td>\n",
       "      <td>28.311377</td>\n",
       "      <td>00:02</td>\n",
       "    </tr>\n",
       "    <tr>\n",
       "      <td>10</td>\n",
       "      <td>796.168701</td>\n",
       "      <td>807.914490</td>\n",
       "      <td>28.423836</td>\n",
       "      <td>00:02</td>\n",
       "    </tr>\n",
       "    <tr>\n",
       "      <td>11</td>\n",
       "      <td>794.067627</td>\n",
       "      <td>794.913330</td>\n",
       "      <td>28.194208</td>\n",
       "      <td>00:02</td>\n",
       "    </tr>\n",
       "    <tr>\n",
       "      <td>12</td>\n",
       "      <td>785.959351</td>\n",
       "      <td>789.034302</td>\n",
       "      <td>28.089754</td>\n",
       "      <td>00:02</td>\n",
       "    </tr>\n",
       "    <tr>\n",
       "      <td>13</td>\n",
       "      <td>784.781128</td>\n",
       "      <td>786.272705</td>\n",
       "      <td>28.040556</td>\n",
       "      <td>00:02</td>\n",
       "    </tr>\n",
       "    <tr>\n",
       "      <td>14</td>\n",
       "      <td>782.646973</td>\n",
       "      <td>786.335632</td>\n",
       "      <td>28.041677</td>\n",
       "      <td>00:02</td>\n",
       "    </tr>\n",
       "    <tr>\n",
       "      <td>15</td>\n",
       "      <td>778.221069</td>\n",
       "      <td>782.643616</td>\n",
       "      <td>27.975767</td>\n",
       "      <td>00:02</td>\n",
       "    </tr>\n",
       "    <tr>\n",
       "      <td>16</td>\n",
       "      <td>774.275574</td>\n",
       "      <td>782.074829</td>\n",
       "      <td>27.965599</td>\n",
       "      <td>00:02</td>\n",
       "    </tr>\n",
       "  </tbody>\n",
       "</table>"
      ],
      "text/plain": [
       "<IPython.core.display.HTML object>"
      ]
     },
     "metadata": {},
     "output_type": "display_data"
    }
   ],
   "source": [
    "#| export\n",
    "if nn_train == True:\n",
    "    learn_final = tabular_learner(dls_final, **nn_best_params, y_range=(0, 150), metrics=rmse)\n",
    "    learn_final.fit_one_cycle(epochs, nn_lr)\n",
    "    learn_final.export('models/tab_learner.pkl')\n"
   ]
  },
  {
   "cell_type": "code",
   "execution_count": 25,
   "metadata": {},
   "outputs": [],
   "source": [
    "learn_final = load_learner('models/tab_learner.pkl')"
   ]
  },
  {
   "attachments": {},
   "cell_type": "markdown",
   "metadata": {},
   "source": [
    "#### Get NN Model Predictions"
   ]
  },
  {
   "cell_type": "code",
   "execution_count": 26,
   "metadata": {},
   "outputs": [
    {
     "data": {
      "text/html": [
       "\n",
       "<style>\n",
       "    /* Turns off some styling */\n",
       "    progress {\n",
       "        /* gets rid of default border in Firefox and Opera. */\n",
       "        border: none;\n",
       "        /* Needs to be in here for Safari polyfill so background images work as expected. */\n",
       "        background-size: auto;\n",
       "    }\n",
       "    progress:not([value]), progress:not([value])::-webkit-progress-bar {\n",
       "        background: repeating-linear-gradient(45deg, #7e7e7e, #7e7e7e 10px, #5c5c5c 10px, #5c5c5c 20px);\n",
       "    }\n",
       "    .progress-bar-interrupted, .progress-bar-interrupted::-webkit-progress-bar {\n",
       "        background: #F44336;\n",
       "    }\n",
       "</style>\n"
      ],
      "text/plain": [
       "<IPython.core.display.HTML object>"
      ]
     },
     "metadata": {},
     "output_type": "display_data"
    },
    {
     "data": {
      "text/html": [],
      "text/plain": [
       "<IPython.core.display.HTML object>"
      ]
     },
     "metadata": {},
     "output_type": "display_data"
    }
   ],
   "source": [
    "#| export\n",
    "test_dl = learn_final.dls.test_dl(df_test)\n",
    "nn_preds, _ = learn_final.get_preds(dl=test_dl)"
   ]
  },
  {
   "cell_type": "code",
   "execution_count": 27,
   "metadata": {},
   "outputs": [],
   "source": [
    "nn_preds = nn_preds.squeeze().numpy()\n",
    "np.savetxt('./predictions/nn_preds.csv', nn_preds, delimiter=',')"
   ]
  },
  {
   "cell_type": "code",
   "execution_count": 17,
   "metadata": {},
   "outputs": [],
   "source": [
    "nn_preds = np.loadtxt('./predictions/nn_preds.csv', delimiter=',')"
   ]
  },
  {
   "cell_type": "code",
   "execution_count": 19,
   "metadata": {},
   "outputs": [
    {
     "data": {
      "text/plain": [
       "(240224,)"
      ]
     },
     "execution_count": 19,
     "metadata": {},
     "output_type": "execute_result"
    }
   ],
   "source": [
    "nn_preds.shape"
   ]
  },
  {
   "attachments": {},
   "cell_type": "markdown",
   "metadata": {},
   "source": [
    "### Random Forest Model"
   ]
  },
  {
   "cell_type": "code",
   "execution_count": 29,
   "metadata": {},
   "outputs": [],
   "source": [
    "#| export\n",
    "xs, y = to_final.train.xs, to_final.train.y\n",
    "valid_xs, valid_y = to_final.valid.xs, to_final.valid.y\n",
    "test_xs = test_final.train.xs"
   ]
  },
  {
   "cell_type": "code",
   "execution_count": 30,
   "metadata": {},
   "outputs": [],
   "source": [
    "#| export\n",
    "def rf(xs, y, n_estimators=40, max_samples=200_000, max_features=0.5, min_samples_leaf=5, **kwargs):\n",
    "    return RandomForestRegressor(n_jobs=-1, n_estimators=n_estimators, \n",
    "                                 max_samples=max_samples, max_features=max_features,\n",
    "                                 min_samples_leaf=min_samples_leaf, oob_score=True).fit(xs, y)"
   ]
  },
  {
   "attachments": {},
   "cell_type": "markdown",
   "metadata": {},
   "source": [
    "#### RF Optuna Optimization"
   ]
  },
  {
   "cell_type": "code",
   "execution_count": 31,
   "metadata": {},
   "outputs": [],
   "source": [
    "rf_study = False"
   ]
  },
  {
   "cell_type": "code",
   "execution_count": 32,
   "metadata": {},
   "outputs": [],
   "source": [
    "def rf_param(trial, xs, y):\n",
    "    n_estimators = trial.suggest_int('n_estimators', 10, 100)\n",
    "    max_samples = trial.suggest_int('max_samples', 100, 200_000)\n",
    "    max_features = trial.suggest_float('max_features', 0.1, 1.0)\n",
    "    min_samples_leaf = trial.suggest_int('min_samples_leaf', 1, 20)\n",
    "\n",
    "    model = rf(xs, y, n_estimators=n_estimators, max_samples=max_samples, \n",
    "               max_features=max_features, min_samples_leaf=min_samples_leaf)\n",
    "    \n",
    "    score = cross_val_score(model, xs, y, cv=5, scoring='neg_mean_squared_error')\n",
    "    return math.sqrt(-1 * score.mean())"
   ]
  },
  {
   "cell_type": "code",
   "execution_count": 33,
   "metadata": {},
   "outputs": [],
   "source": [
    "if rf_study == True:\n",
    "    study = optuna.create_study(direction='minimize')\n",
    "    study.optimize(lambda trial: rf_param(trial, xs, y), n_trials=50)\n",
    "    with open('./training_params/rf_params.json', 'w') as fp:\n",
    "        json.dump(study.best_params, fp) "
   ]
  },
  {
   "cell_type": "code",
   "execution_count": 13,
   "metadata": {},
   "outputs": [],
   "source": [
    "with open('./training_params/rf_params.json', 'r') as fp:\n",
    "    rf_best_params = json.load(fp)"
   ]
  },
  {
   "cell_type": "code",
   "execution_count": 35,
   "metadata": {},
   "outputs": [],
   "source": [
    "#| export\n",
    "def r_mse(pred, y):\n",
    "    return round(math.sqrt(((pred-y)**2).mean()), 6)"
   ]
  },
  {
   "cell_type": "code",
   "execution_count": 36,
   "metadata": {},
   "outputs": [],
   "source": [
    "#| export\n",
    "def m_rmse(m, xs, y):\n",
    "    return r_mse(m.predict(xs), y)"
   ]
  },
  {
   "cell_type": "code",
   "execution_count": 37,
   "metadata": {},
   "outputs": [],
   "source": [
    "#| export\n",
    "m = rf(xs, y, **rf_best_params)"
   ]
  },
  {
   "cell_type": "code",
   "execution_count": 38,
   "metadata": {},
   "outputs": [
    {
     "data": {
      "text/plain": [
       "(26.499917, 28.114526)"
      ]
     },
     "execution_count": 38,
     "metadata": {},
     "output_type": "execute_result"
    }
   ],
   "source": [
    "rf_mse = m_rmse(m, valid_xs, valid_y)\n",
    "m_rmse(m, xs, y), m_rmse(m, valid_xs, valid_y)"
   ]
  },
  {
   "cell_type": "code",
   "execution_count": 39,
   "metadata": {},
   "outputs": [],
   "source": [
    "#| export\n",
    "rf_preds = m.predict(test_xs)\n",
    "np.savetxt('./predictions/rf_preds.csv', rf_preds, delimiter=',')"
   ]
  },
  {
   "cell_type": "code",
   "execution_count": 21,
   "metadata": {},
   "outputs": [],
   "source": [
    "rf_preds = np.loadtxt('./predictions/rf_preds.csv', delimiter=',')"
   ]
  },
  {
   "attachments": {},
   "cell_type": "markdown",
   "metadata": {},
   "source": [
    "#### RF Feature Importance"
   ]
  },
  {
   "cell_type": "code",
   "execution_count": 40,
   "metadata": {},
   "outputs": [],
   "source": [
    "#| export\n",
    "def rf_feat_importance(m, df):\n",
    "    return pd.DataFrame({'cols':df.columns, 'imp': m.feature_importances_}).sort_values('imp', ascending=False) "
   ]
  },
  {
   "cell_type": "code",
   "execution_count": 41,
   "metadata": {},
   "outputs": [
    {
     "data": {
      "text/html": [
       "<div>\n",
       "<style scoped>\n",
       "    .dataframe tbody tr th:only-of-type {\n",
       "        vertical-align: middle;\n",
       "    }\n",
       "\n",
       "    .dataframe tbody tr th {\n",
       "        vertical-align: top;\n",
       "    }\n",
       "\n",
       "    .dataframe thead th {\n",
       "        text-align: right;\n",
       "    }\n",
       "</style>\n",
       "<table border=\"1\" class=\"dataframe\">\n",
       "  <thead>\n",
       "    <tr style=\"text-align: right;\">\n",
       "      <th></th>\n",
       "      <th>cols</th>\n",
       "      <th>imp</th>\n",
       "    </tr>\n",
       "  </thead>\n",
       "  <tbody>\n",
       "    <tr>\n",
       "      <th>9</th>\n",
       "      <td>store_sqft</td>\n",
       "      <td>0.181537</td>\n",
       "    </tr>\n",
       "    <tr>\n",
       "      <th>0</th>\n",
       "      <td>store_sales(in millions)</td>\n",
       "      <td>0.162741</td>\n",
       "    </tr>\n",
       "    <tr>\n",
       "      <th>5</th>\n",
       "      <td>gross_weight</td>\n",
       "      <td>0.149150</td>\n",
       "    </tr>\n",
       "    <tr>\n",
       "      <th>2</th>\n",
       "      <td>total_children</td>\n",
       "      <td>0.108468</td>\n",
       "    </tr>\n",
       "    <tr>\n",
       "      <th>8</th>\n",
       "      <td>units_per_case</td>\n",
       "      <td>0.106188</td>\n",
       "    </tr>\n",
       "    <tr>\n",
       "      <th>4</th>\n",
       "      <td>avg_cars_at home(approx).1</td>\n",
       "      <td>0.086597</td>\n",
       "    </tr>\n",
       "    <tr>\n",
       "      <th>3</th>\n",
       "      <td>num_children_at_home</td>\n",
       "      <td>0.070824</td>\n",
       "    </tr>\n",
       "    <tr>\n",
       "      <th>14</th>\n",
       "      <td>florist</td>\n",
       "      <td>0.038458</td>\n",
       "    </tr>\n",
       "    <tr>\n",
       "      <th>1</th>\n",
       "      <td>unit_sales(in millions)</td>\n",
       "      <td>0.021880</td>\n",
       "    </tr>\n",
       "    <tr>\n",
       "      <th>6</th>\n",
       "      <td>recyclable_package</td>\n",
       "      <td>0.020138</td>\n",
       "    </tr>\n",
       "    <tr>\n",
       "      <th>11</th>\n",
       "      <td>video_store</td>\n",
       "      <td>0.015384</td>\n",
       "    </tr>\n",
       "    <tr>\n",
       "      <th>7</th>\n",
       "      <td>low_fat</td>\n",
       "      <td>0.014932</td>\n",
       "    </tr>\n",
       "    <tr>\n",
       "      <th>10</th>\n",
       "      <td>coffee_bar</td>\n",
       "      <td>0.010787</td>\n",
       "    </tr>\n",
       "    <tr>\n",
       "      <th>13</th>\n",
       "      <td>prepared_food</td>\n",
       "      <td>0.007538</td>\n",
       "    </tr>\n",
       "    <tr>\n",
       "      <th>12</th>\n",
       "      <td>salad_bar</td>\n",
       "      <td>0.005378</td>\n",
       "    </tr>\n",
       "  </tbody>\n",
       "</table>\n",
       "</div>"
      ],
      "text/plain": [
       "                          cols       imp\n",
       "9                   store_sqft  0.181537\n",
       "0     store_sales(in millions)  0.162741\n",
       "5                 gross_weight  0.149150\n",
       "2               total_children  0.108468\n",
       "8               units_per_case  0.106188\n",
       "4   avg_cars_at home(approx).1  0.086597\n",
       "3         num_children_at_home  0.070824\n",
       "14                     florist  0.038458\n",
       "1      unit_sales(in millions)  0.021880\n",
       "6           recyclable_package  0.020138\n",
       "11                 video_store  0.015384\n",
       "7                      low_fat  0.014932\n",
       "10                  coffee_bar  0.010787\n",
       "13               prepared_food  0.007538\n",
       "12                   salad_bar  0.005378"
      ]
     },
     "execution_count": 41,
     "metadata": {},
     "output_type": "execute_result"
    }
   ],
   "source": [
    "fi = rf_feat_importance(m, xs)\n",
    "fi"
   ]
  },
  {
   "attachments": {},
   "cell_type": "markdown",
   "metadata": {},
   "source": [
    "***"
   ]
  },
  {
   "attachments": {},
   "cell_type": "markdown",
   "metadata": {},
   "source": [
    "### Gradient Boosting"
   ]
  },
  {
   "attachments": {},
   "cell_type": "markdown",
   "metadata": {},
   "source": [
    "##### Feature Importance"
   ]
  },
  {
   "cell_type": "code",
   "execution_count": 42,
   "metadata": {},
   "outputs": [],
   "source": [
    "#| export\n",
    "train_fi = df_train.drop(columns = ['cost'])\n",
    "target_fi = df_train['cost']"
   ]
  },
  {
   "cell_type": "code",
   "execution_count": 43,
   "metadata": {},
   "outputs": [],
   "source": [
    "#| export\n",
    "def plot_fi(data,ax = None, title = None):\n",
    "    fi = pd.Series(data, index = train_fi.columns).sort_values(ascending = True)\n",
    "    fi.plot(kind = 'barh', ax = ax)"
   ]
  },
  {
   "cell_type": "code",
   "execution_count": 44,
   "metadata": {},
   "outputs": [],
   "source": [
    "#| export\n",
    "x_train, x_test, y_train, y_test = train_test_split(train_fi, target_fi, test_size=0.2)"
   ]
  },
  {
   "cell_type": "code",
   "execution_count": 45,
   "metadata": {},
   "outputs": [],
   "source": [
    "#| export\n",
    "fi_params = {'learning_rate': 0.2456172216493356,\n",
    " 'max_depth': 10,\n",
    " 'lambda': 0.0023120639864473262,\n",
    " 'alpha': 0.5848465230832824,\n",
    " 'colsample_bytree': 0.9966638720347625,\n",
    " 'min_child_weight': 0,\n",
    " 'objective': 'reg:squaredlogerror',\n",
    " 'eval_metric': 'rmsle'}"
   ]
  },
  {
   "cell_type": "code",
   "execution_count": 46,
   "metadata": {},
   "outputs": [],
   "source": [
    "#| export\n",
    "model = xgb.XGBRegressor(**fi_params)\n"
   ]
  },
  {
   "cell_type": "code",
   "execution_count": 47,
   "metadata": {},
   "outputs": [
    {
     "data": {
      "text/html": [
       "<style>#sk-container-id-1 {color: black;background-color: white;}#sk-container-id-1 pre{padding: 0;}#sk-container-id-1 div.sk-toggleable {background-color: white;}#sk-container-id-1 label.sk-toggleable__label {cursor: pointer;display: block;width: 100%;margin-bottom: 0;padding: 0.3em;box-sizing: border-box;text-align: center;}#sk-container-id-1 label.sk-toggleable__label-arrow:before {content: \"▸\";float: left;margin-right: 0.25em;color: #696969;}#sk-container-id-1 label.sk-toggleable__label-arrow:hover:before {color: black;}#sk-container-id-1 div.sk-estimator:hover label.sk-toggleable__label-arrow:before {color: black;}#sk-container-id-1 div.sk-toggleable__content {max-height: 0;max-width: 0;overflow: hidden;text-align: left;background-color: #f0f8ff;}#sk-container-id-1 div.sk-toggleable__content pre {margin: 0.2em;color: black;border-radius: 0.25em;background-color: #f0f8ff;}#sk-container-id-1 input.sk-toggleable__control:checked~div.sk-toggleable__content {max-height: 200px;max-width: 100%;overflow: auto;}#sk-container-id-1 input.sk-toggleable__control:checked~label.sk-toggleable__label-arrow:before {content: \"▾\";}#sk-container-id-1 div.sk-estimator input.sk-toggleable__control:checked~label.sk-toggleable__label {background-color: #d4ebff;}#sk-container-id-1 div.sk-label input.sk-toggleable__control:checked~label.sk-toggleable__label {background-color: #d4ebff;}#sk-container-id-1 input.sk-hidden--visually {border: 0;clip: rect(1px 1px 1px 1px);clip: rect(1px, 1px, 1px, 1px);height: 1px;margin: -1px;overflow: hidden;padding: 0;position: absolute;width: 1px;}#sk-container-id-1 div.sk-estimator {font-family: monospace;background-color: #f0f8ff;border: 1px dotted black;border-radius: 0.25em;box-sizing: border-box;margin-bottom: 0.5em;}#sk-container-id-1 div.sk-estimator:hover {background-color: #d4ebff;}#sk-container-id-1 div.sk-parallel-item::after {content: \"\";width: 100%;border-bottom: 1px solid gray;flex-grow: 1;}#sk-container-id-1 div.sk-label:hover label.sk-toggleable__label {background-color: #d4ebff;}#sk-container-id-1 div.sk-serial::before {content: \"\";position: absolute;border-left: 1px solid gray;box-sizing: border-box;top: 0;bottom: 0;left: 50%;z-index: 0;}#sk-container-id-1 div.sk-serial {display: flex;flex-direction: column;align-items: center;background-color: white;padding-right: 0.2em;padding-left: 0.2em;position: relative;}#sk-container-id-1 div.sk-item {position: relative;z-index: 1;}#sk-container-id-1 div.sk-parallel {display: flex;align-items: stretch;justify-content: center;background-color: white;position: relative;}#sk-container-id-1 div.sk-item::before, #sk-container-id-1 div.sk-parallel-item::before {content: \"\";position: absolute;border-left: 1px solid gray;box-sizing: border-box;top: 0;bottom: 0;left: 50%;z-index: -1;}#sk-container-id-1 div.sk-parallel-item {display: flex;flex-direction: column;z-index: 1;position: relative;background-color: white;}#sk-container-id-1 div.sk-parallel-item:first-child::after {align-self: flex-end;width: 50%;}#sk-container-id-1 div.sk-parallel-item:last-child::after {align-self: flex-start;width: 50%;}#sk-container-id-1 div.sk-parallel-item:only-child::after {width: 0;}#sk-container-id-1 div.sk-dashed-wrapped {border: 1px dashed gray;margin: 0 0.4em 0.5em 0.4em;box-sizing: border-box;padding-bottom: 0.4em;background-color: white;}#sk-container-id-1 div.sk-label label {font-family: monospace;font-weight: bold;display: inline-block;line-height: 1.2em;}#sk-container-id-1 div.sk-label-container {text-align: center;}#sk-container-id-1 div.sk-container {/* jupyter's `normalize.less` sets `[hidden] { display: none; }` but bootstrap.min.css set `[hidden] { display: none !important; }` so we also need the `!important` here to be able to override the default hidden behavior on the sphinx rendered scikit-learn.org. See: https://github.com/scikit-learn/scikit-learn/issues/21755 */display: inline-block !important;position: relative;}#sk-container-id-1 div.sk-text-repr-fallback {display: none;}</style><div id=\"sk-container-id-1\" class=\"sk-top-container\"><div class=\"sk-text-repr-fallback\"><pre>XGBRegressor(alpha=0.5848465230832824, base_score=None, booster=None,\n",
       "             callbacks=None, colsample_bylevel=None, colsample_bynode=None,\n",
       "             colsample_bytree=0.9966638720347625, early_stopping_rounds=None,\n",
       "             enable_categorical=False, eval_metric=&#x27;rmsle&#x27;, feature_types=None,\n",
       "             gamma=None, gpu_id=None, grow_policy=None, importance_type=None,\n",
       "             interaction_constraints=None, lambda=0.0023120639864473262,\n",
       "             learning_rate=0.2456172216493356, max_bin=None,\n",
       "             max_cat_threshold=None, max_cat_to_onehot=None,\n",
       "             max_delta_step=None, max_depth=10, max_leaves=None,\n",
       "             min_child_weight=0, missing=nan, monotone_constraints=None,\n",
       "             n_estimators=100, n_jobs=None, num_parallel_tree=None, ...)</pre><b>In a Jupyter environment, please rerun this cell to show the HTML representation or trust the notebook. <br />On GitHub, the HTML representation is unable to render, please try loading this page with nbviewer.org.</b></div><div class=\"sk-container\" hidden><div class=\"sk-item\"><div class=\"sk-estimator sk-toggleable\"><input class=\"sk-toggleable__control sk-hidden--visually\" id=\"sk-estimator-id-1\" type=\"checkbox\" checked><label for=\"sk-estimator-id-1\" class=\"sk-toggleable__label sk-toggleable__label-arrow\">XGBRegressor</label><div class=\"sk-toggleable__content\"><pre>XGBRegressor(alpha=0.5848465230832824, base_score=None, booster=None,\n",
       "             callbacks=None, colsample_bylevel=None, colsample_bynode=None,\n",
       "             colsample_bytree=0.9966638720347625, early_stopping_rounds=None,\n",
       "             enable_categorical=False, eval_metric=&#x27;rmsle&#x27;, feature_types=None,\n",
       "             gamma=None, gpu_id=None, grow_policy=None, importance_type=None,\n",
       "             interaction_constraints=None, lambda=0.0023120639864473262,\n",
       "             learning_rate=0.2456172216493356, max_bin=None,\n",
       "             max_cat_threshold=None, max_cat_to_onehot=None,\n",
       "             max_delta_step=None, max_depth=10, max_leaves=None,\n",
       "             min_child_weight=0, missing=nan, monotone_constraints=None,\n",
       "             n_estimators=100, n_jobs=None, num_parallel_tree=None, ...)</pre></div></div></div></div></div>"
      ],
      "text/plain": [
       "XGBRegressor(alpha=0.5848465230832824, base_score=None, booster=None,\n",
       "             callbacks=None, colsample_bylevel=None, colsample_bynode=None,\n",
       "             colsample_bytree=0.9966638720347625, early_stopping_rounds=None,\n",
       "             enable_categorical=False, eval_metric='rmsle', feature_types=None,\n",
       "             gamma=None, gpu_id=None, grow_policy=None, importance_type=None,\n",
       "             interaction_constraints=None, lambda=0.0023120639864473262,\n",
       "             learning_rate=0.2456172216493356, max_bin=None,\n",
       "             max_cat_threshold=None, max_cat_to_onehot=None,\n",
       "             max_delta_step=None, max_depth=10, max_leaves=None,\n",
       "             min_child_weight=0, missing=nan, monotone_constraints=None,\n",
       "             n_estimators=100, n_jobs=None, num_parallel_tree=None, ...)"
      ]
     },
     "execution_count": 47,
     "metadata": {},
     "output_type": "execute_result"
    }
   ],
   "source": [
    "#| export\n",
    "model.fit(x_train, y_train)"
   ]
  },
  {
   "cell_type": "code",
   "execution_count": 48,
   "metadata": {},
   "outputs": [
    {
     "data": {
      "image/png": "[encoded data removed]",
      "text/plain": [
       "<Figure size 640x480 with 1 Axes>"
      ]
     },
     "metadata": {},
     "output_type": "display_data"
    }
   ],
   "source": [
    "plot_fi(model.feature_importances_)"
   ]
  },
  {
   "cell_type": "code",
   "execution_count": 49,
   "metadata": {},
   "outputs": [],
   "source": [
    "#| export\n",
    "r = permutation_importance(model, x_test, y_test, n_repeats=1, random_state=46)"
   ]
  },
  {
   "cell_type": "code",
   "execution_count": 50,
   "metadata": {},
   "outputs": [],
   "source": [
    "#| export\n",
    "fi = pd.Series(r['importances'].reshape(15,), index = train_fi.columns).sort_values(ascending = True)"
   ]
  },
  {
   "cell_type": "code",
   "execution_count": 51,
   "metadata": {},
   "outputs": [
    {
     "data": {
      "text/plain": [
       "<AxesSubplot: >"
      ]
     },
     "execution_count": 51,
     "metadata": {},
     "output_type": "execute_result"
    },
    {
     "data": {
      "image/png": "[encoded data removed]",
      "text/plain": [
       "<Figure size 640x480 with 1 Axes>"
      ]
     },
     "metadata": {},
     "output_type": "display_data"
    }
   ],
   "source": [
    "fi.plot(kind = 'barh')"
   ]
  },
  {
   "cell_type": "code",
   "execution_count": 52,
   "metadata": {},
   "outputs": [],
   "source": [
    "#| export\n",
    "features = list(fi.index)\n",
    "cols_to_drop = features[0:6]"
   ]
  },
  {
   "cell_type": "code",
   "execution_count": 53,
   "metadata": {},
   "outputs": [],
   "source": [
    "#| export\n",
    "df_train = df_train.drop(columns=cols_to_drop)"
   ]
  },
  {
   "cell_type": "code",
   "execution_count": 54,
   "metadata": {},
   "outputs": [],
   "source": [
    "#| export\n",
    "df_test = df_test.drop(columns=cols_to_drop)"
   ]
  },
  {
   "cell_type": "code",
   "execution_count": 55,
   "metadata": {},
   "outputs": [],
   "source": [
    "#| export\n",
    "def fe(data):\n",
    "    data = data.replace([np.inf, -np.inf], 10)\n",
    "    return data"
   ]
  },
  {
   "cell_type": "code",
   "execution_count": 56,
   "metadata": {},
   "outputs": [],
   "source": [
    "#| export\n",
    "train_fe = fe(df_train)\n",
    "test_fe = fe(df_test)"
   ]
  },
  {
   "cell_type": "code",
   "execution_count": 57,
   "metadata": {},
   "outputs": [],
   "source": [
    "#| export\n",
    "train = train_fe.drop(columns=['cost'])"
   ]
  },
  {
   "cell_type": "code",
   "execution_count": 58,
   "metadata": {},
   "outputs": [],
   "source": [
    "#| export\n",
    "target = train_fe['cost']"
   ]
  },
  {
   "attachments": {},
   "cell_type": "markdown",
   "metadata": {},
   "source": [
    "#### Finding the Best Parameters With Optuna"
   ]
  },
  {
   "cell_type": "code",
   "execution_count": 59,
   "metadata": {},
   "outputs": [],
   "source": [
    "#| export\n",
    "x_train, x_test, y_train, y_test = train_test_split(train,target, test_size = 0.2)\n",
    "d_train = xgb.DMatrix(x_train,y_train)\n",
    "d_test = xgb.DMatrix(x_test,y_test)\n"
   ]
  },
  {
   "cell_type": "code",
   "execution_count": 60,
   "metadata": {},
   "outputs": [],
   "source": [
    "#| export\n",
    "glob_params = {\n",
    "    'objective': 'reg:squaredlogerror',\n",
    "    'eval_metric': 'rmsle'\n",
    "}"
   ]
  },
  {
   "cell_type": "code",
   "execution_count": 61,
   "metadata": {},
   "outputs": [],
   "source": [
    "#| export\n",
    "def objective(trial):\n",
    "    params = {\n",
    "        'verbosity':0,\n",
    "        'learning_rate': trial.suggest_float('learning_rate',1e-10,1.0),\n",
    "        'max_depth':trial.suggest_int('max_depth', 3, 12),\n",
    "#        'gamma':trial.suggest_float('gamma',0,8),\n",
    "        'lambda': trial.suggest_float('lambda', 1e-8, 1.0),\n",
    "        'alpha': trial.suggest_float('alpha', 1e-8, 1.0),\n",
    "        'colsample_bytree':trial.suggest_float('colsample_bytree',1e-5,1.0),\n",
    "        'min_child_weight':trial.suggest_int('min_child_weight',0,1),\n",
    "        'booster':trial.suggest_categorical(\"booster\", [\"dart\", \"gbtree\",'gblinear']),\n",
    "        'sampling_method': trial.suggest_categorical('sampling_method',['uniform','gradient_based']),\n",
    "        'grow_policy': trial.suggest_categorical('grow_policy',['depthwise','lossguide']),\n",
    "#         'reg_alpha': trial.suggest_float(\"reg_alpha\", 0, 1),\n",
    "#         'reg_lambda': trial.suggest_float(\"reg_lambda\", 0, 1),\n",
    "        'n_estimators': trial.suggest_int('n_estimators', 100, 1500),    \n",
    "    }\n",
    "    num_boost_round = params.pop('num_boost_round')\n",
    "    params.update(glob_params)\n",
    "    sch_prm = xgb.train(params, d_train, num_boost_round=200,\n",
    "                        evals = [(d_test, 'valid')], \n",
    "                        early_stopping_rounds=20, verbose_eval=False\n",
    "                       )\n",
    "    \n",
    "    return sch_prm.best_score\n"
   ]
  },
  {
   "cell_type": "code",
   "execution_count": 62,
   "metadata": {},
   "outputs": [],
   "source": [
    "#| export\n",
    "run_study = False"
   ]
  },
  {
   "cell_type": "code",
   "execution_count": 63,
   "metadata": {},
   "outputs": [],
   "source": [
    "#| export\n",
    "if run_study == True:\n",
    "    study = optuna.create_study(direction='minimize')\n",
    "    study.optimize(objective, n_trials = 100,)\n",
    "    # save study.best_params a json file to load later\n",
    "    with open('./training_params/xgb_params.json', 'w') as fp:\n",
    "        json.dump(study.best_params, fp)"
   ]
  },
  {
   "attachments": {},
   "cell_type": "markdown",
   "metadata": {},
   "source": [
    "#### Assigning Best Parameters"
   ]
  },
  {
   "cell_type": "code",
   "execution_count": 25,
   "metadata": {},
   "outputs": [],
   "source": [
    "#| export\n",
    "with open('./training_params/xgb_params.json', 'r') as fp:\n",
    "    study_best_params = json.load(fp)"
   ]
  },
  {
   "cell_type": "code",
   "execution_count": 26,
   "metadata": {},
   "outputs": [
    {
     "data": {
      "text/plain": [
       "{'learning_rate': 0.9966089304842916,\n",
       " 'max_depth': 12,\n",
       " 'lambda': 0.36999767740684797,\n",
       " 'alpha': 0.00034306004800048104,\n",
       " 'colsample_bytree': 0.9657745153267124,\n",
       " 'min_child_weight': 0,\n",
       " 'booster': 'gbtree',\n",
       " 'sampling_method': 'uniform',\n",
       " 'grow_policy': 'depthwise'}"
      ]
     },
     "execution_count": 26,
     "metadata": {},
     "output_type": "execute_result"
    }
   ],
   "source": [
    "study_best_params"
   ]
  },
  {
   "cell_type": "code",
   "execution_count": 65,
   "metadata": {},
   "outputs": [],
   "source": [
    "#| export\n",
    "best_params = {\n",
    " 'learning_rate': 0.9319687783879956,\n",
    " 'max_depth': 12,\n",
    " 'lambda': 0.02022953533538882,\n",
    " 'alpha': 9.277352577569814e-07,\n",
    " 'colsample_bytree': 0.7477567097593131,\n",
    " 'min_child_weight': 0,\n",
    " 'booster': 'gbtree',\n",
    " 'sampling_method': 'uniform',\n",
    " 'grow_policy': 'depthwise',\n",
    " 'objective': 'reg:squaredlogerror',\n",
    " 'eval_metric': 'rmsle'}"
   ]
  },
  {
   "cell_type": "code",
   "execution_count": 66,
   "metadata": {},
   "outputs": [],
   "source": [
    "#| export\n",
    "best_params.update(study_best_params)"
   ]
  },
  {
   "cell_type": "code",
   "execution_count": 67,
   "metadata": {},
   "outputs": [],
   "source": [
    "def max_boost_round(trial):\n",
    "    params = {\n",
    "        'num_boost_round': trial.suggest_int('num_boost_round', 100, 1500),\n",
    "    }\n",
    "    num_boost_round = params.pop('num_boost_round')\n",
    "    params.update(glob_params)\n",
    "    sch_prm = xgb.train(params, d_train, num_boost_round=num_boost_round,\n",
    "                        evals = [(d_test, 'valid')], \n",
    "                        early_stopping_rounds=20, verbose_eval=False\n",
    "                       )\n",
    "    \n",
    "    return sch_prm.best_score"
   ]
  },
  {
   "cell_type": "code",
   "execution_count": 68,
   "metadata": {},
   "outputs": [],
   "source": [
    "run_max_boost = False"
   ]
  },
  {
   "cell_type": "code",
   "execution_count": 69,
   "metadata": {},
   "outputs": [],
   "source": [
    "#| export\n",
    "if run_max_boost == True:\n",
    "    study = optuna.create_study(direction='minimize')\n",
    "    study.optimize(max_boost_round, n_trials = 20,)\n",
    "    # save study.best_params a json file to load later\n",
    "    with open('./training_params/boost_params.json', 'w') as fp:\n",
    "        json.dump(study.best_params, fp)"
   ]
  },
  {
   "cell_type": "code",
   "execution_count": 10,
   "metadata": {},
   "outputs": [],
   "source": [
    "#| export\n",
    "with open('./training_params/boost_params.json', 'r') as fp:\n",
    "    boost_best_params = json.load(fp)"
   ]
  },
  {
   "cell_type": "code",
   "execution_count": 71,
   "metadata": {},
   "outputs": [],
   "source": [
    "num_boost_round = boost_best_params['num_boost_round']"
   ]
  },
  {
   "cell_type": "code",
   "execution_count": 72,
   "metadata": {},
   "outputs": [
    {
     "data": {
      "text/plain": [
       "1496"
      ]
     },
     "execution_count": 72,
     "metadata": {},
     "output_type": "execute_result"
    }
   ],
   "source": [
    "num_boost_round"
   ]
  },
  {
   "cell_type": "code",
   "execution_count": 73,
   "metadata": {},
   "outputs": [
    {
     "data": {
      "text/plain": [
       "{'learning_rate': 0.9966089304842916,\n",
       " 'max_depth': 12,\n",
       " 'lambda': 0.36999767740684797,\n",
       " 'alpha': 0.00034306004800048104,\n",
       " 'colsample_bytree': 0.9657745153267124,\n",
       " 'min_child_weight': 0,\n",
       " 'booster': 'gbtree',\n",
       " 'sampling_method': 'uniform',\n",
       " 'grow_policy': 'depthwise',\n",
       " 'objective': 'reg:squaredlogerror',\n",
       " 'eval_metric': 'rmsle'}"
      ]
     },
     "execution_count": 73,
     "metadata": {},
     "output_type": "execute_result"
    }
   ],
   "source": [
    "best_params"
   ]
  },
  {
   "attachments": {},
   "cell_type": "markdown",
   "metadata": {},
   "source": [
    "***"
   ]
  },
  {
   "attachments": {},
   "cell_type": "markdown",
   "metadata": {},
   "source": [
    "#### Creating GB Model"
   ]
  },
  {
   "cell_type": "code",
   "execution_count": 74,
   "metadata": {},
   "outputs": [],
   "source": [
    "#| export\n",
    "cont, cat = cont_cat_split(df_train, max_card=1, dep_var='cost')"
   ]
  },
  {
   "cell_type": "code",
   "execution_count": 75,
   "metadata": {},
   "outputs": [],
   "source": [
    "to = TabularPandas(df_train, procs, cat, cont, y_names='cost', splits=splits)"
   ]
  },
  {
   "cell_type": "code",
   "execution_count": 76,
   "metadata": {},
   "outputs": [],
   "source": [
    "to_test = TabularPandas(df_test, procs, cat, cont, y_names=None, splits=None)"
   ]
  },
  {
   "cell_type": "code",
   "execution_count": 77,
   "metadata": {},
   "outputs": [],
   "source": [
    "xs, y = to.train.xs, to.train.y\n",
    "valid_xs, valid_y = to.valid.xs, to.valid.y\n",
    "test_xs = to_test.xs"
   ]
  },
  {
   "cell_type": "code",
   "execution_count": 78,
   "metadata": {},
   "outputs": [],
   "source": [
    "gb_train = xgb.DMatrix(xs, label=y)\n",
    "gb_valid = xgb.DMatrix(valid_xs, label=valid_y)\n",
    "gb_test = xgb.DMatrix(test_xs)"
   ]
  },
  {
   "cell_type": "code",
   "execution_count": 79,
   "metadata": {},
   "outputs": [
    {
     "name": "stdout",
     "output_type": "stream",
     "text": [
      "[0]\tvalid-rmsle:3.58253\n",
      "[1]\tvalid-rmsle:3.00947\n",
      "[2]\tvalid-rmsle:2.45537\n",
      "[3]\tvalid-rmsle:1.92667\n",
      "[4]\tvalid-rmsle:1.43335\n",
      "[5]\tvalid-rmsle:0.99191\n",
      "[6]\tvalid-rmsle:0.63145\n",
      "[7]\tvalid-rmsle:0.40050\n",
      "[8]\tvalid-rmsle:0.31904\n",
      "[9]\tvalid-rmsle:0.30658\n",
      "[10]\tvalid-rmsle:0.30358\n",
      "[11]\tvalid-rmsle:0.30166\n",
      "[12]\tvalid-rmsle:0.30111\n",
      "[13]\tvalid-rmsle:0.30007\n",
      "[14]\tvalid-rmsle:0.29959\n",
      "[15]\tvalid-rmsle:0.29890\n",
      "[16]\tvalid-rmsle:0.29857\n",
      "[17]\tvalid-rmsle:0.29829\n",
      "[18]\tvalid-rmsle:0.29803\n",
      "[19]\tvalid-rmsle:0.29769\n",
      "[20]\tvalid-rmsle:0.29738\n",
      "[21]\tvalid-rmsle:0.29701\n",
      "[22]\tvalid-rmsle:0.29666\n",
      "[23]\tvalid-rmsle:0.29642\n",
      "[24]\tvalid-rmsle:0.29631\n",
      "[25]\tvalid-rmsle:0.29611\n",
      "[26]\tvalid-rmsle:0.29600\n",
      "[27]\tvalid-rmsle:0.29581\n",
      "[28]\tvalid-rmsle:0.29569\n",
      "[29]\tvalid-rmsle:0.29554\n",
      "[30]\tvalid-rmsle:0.29544\n",
      "[31]\tvalid-rmsle:0.29537\n",
      "[32]\tvalid-rmsle:0.29523\n",
      "[33]\tvalid-rmsle:0.29512\n",
      "[34]\tvalid-rmsle:0.29506\n",
      "[35]\tvalid-rmsle:0.29496\n",
      "[36]\tvalid-rmsle:0.29491\n",
      "[37]\tvalid-rmsle:0.29483\n",
      "[38]\tvalid-rmsle:0.29474\n",
      "[39]\tvalid-rmsle:0.29471\n",
      "[40]\tvalid-rmsle:0.29467\n",
      "[41]\tvalid-rmsle:0.29464\n",
      "[42]\tvalid-rmsle:0.29458\n",
      "[43]\tvalid-rmsle:0.29452\n",
      "[44]\tvalid-rmsle:0.29447\n",
      "[45]\tvalid-rmsle:0.29440\n",
      "[46]\tvalid-rmsle:0.29437\n",
      "[47]\tvalid-rmsle:0.29434\n",
      "[48]\tvalid-rmsle:0.29431\n",
      "[49]\tvalid-rmsle:0.29427\n",
      "[50]\tvalid-rmsle:0.29423\n",
      "[51]\tvalid-rmsle:0.29421\n",
      "[52]\tvalid-rmsle:0.29418\n",
      "[53]\tvalid-rmsle:0.29415\n",
      "[54]\tvalid-rmsle:0.29414\n",
      "[55]\tvalid-rmsle:0.29409\n",
      "[56]\tvalid-rmsle:0.29407\n",
      "[57]\tvalid-rmsle:0.29404\n",
      "[58]\tvalid-rmsle:0.29402\n",
      "[59]\tvalid-rmsle:0.29401\n",
      "[60]\tvalid-rmsle:0.29398\n",
      "[61]\tvalid-rmsle:0.29395\n",
      "[62]\tvalid-rmsle:0.29391\n",
      "[63]\tvalid-rmsle:0.29388\n",
      "[64]\tvalid-rmsle:0.29386\n",
      "[65]\tvalid-rmsle:0.29384\n",
      "[66]\tvalid-rmsle:0.29382\n",
      "[67]\tvalid-rmsle:0.29380\n",
      "[68]\tvalid-rmsle:0.29378\n",
      "[69]\tvalid-rmsle:0.29377\n",
      "[70]\tvalid-rmsle:0.29376\n",
      "[71]\tvalid-rmsle:0.29375\n",
      "[72]\tvalid-rmsle:0.29374\n",
      "[73]\tvalid-rmsle:0.29373\n",
      "[74]\tvalid-rmsle:0.29372\n",
      "[75]\tvalid-rmsle:0.29371\n",
      "[76]\tvalid-rmsle:0.29370\n",
      "[77]\tvalid-rmsle:0.29368\n",
      "[78]\tvalid-rmsle:0.29366\n",
      "[79]\tvalid-rmsle:0.29365\n",
      "[80]\tvalid-rmsle:0.29364\n",
      "[81]\tvalid-rmsle:0.29362\n",
      "[82]\tvalid-rmsle:0.29360\n",
      "[83]\tvalid-rmsle:0.29359\n",
      "[84]\tvalid-rmsle:0.29358\n",
      "[85]\tvalid-rmsle:0.29356\n",
      "[86]\tvalid-rmsle:0.29355\n",
      "[87]\tvalid-rmsle:0.29353\n",
      "[88]\tvalid-rmsle:0.29353\n",
      "[89]\tvalid-rmsle:0.29352\n",
      "[90]\tvalid-rmsle:0.29350\n",
      "[91]\tvalid-rmsle:0.29349\n",
      "[92]\tvalid-rmsle:0.29349\n",
      "[93]\tvalid-rmsle:0.29348\n",
      "[94]\tvalid-rmsle:0.29347\n",
      "[95]\tvalid-rmsle:0.29346\n",
      "[96]\tvalid-rmsle:0.29345\n",
      "[97]\tvalid-rmsle:0.29345\n",
      "[98]\tvalid-rmsle:0.29345\n",
      "[99]\tvalid-rmsle:0.29344\n",
      "[100]\tvalid-rmsle:0.29343\n",
      "[101]\tvalid-rmsle:0.29343\n",
      "[102]\tvalid-rmsle:0.29343\n",
      "[103]\tvalid-rmsle:0.29342\n",
      "[104]\tvalid-rmsle:0.29342\n",
      "[105]\tvalid-rmsle:0.29341\n",
      "[106]\tvalid-rmsle:0.29341\n",
      "[107]\tvalid-rmsle:0.29340\n",
      "[108]\tvalid-rmsle:0.29339\n",
      "[109]\tvalid-rmsle:0.29339\n",
      "[110]\tvalid-rmsle:0.29338\n",
      "[111]\tvalid-rmsle:0.29337\n",
      "[112]\tvalid-rmsle:0.29337\n",
      "[113]\tvalid-rmsle:0.29336\n",
      "[114]\tvalid-rmsle:0.29335\n",
      "[115]\tvalid-rmsle:0.29335\n",
      "[116]\tvalid-rmsle:0.29335\n",
      "[117]\tvalid-rmsle:0.29334\n",
      "[118]\tvalid-rmsle:0.29334\n",
      "[119]\tvalid-rmsle:0.29333\n",
      "[120]\tvalid-rmsle:0.29332\n",
      "[121]\tvalid-rmsle:0.29331\n",
      "[122]\tvalid-rmsle:0.29330\n",
      "[123]\tvalid-rmsle:0.29330\n",
      "[124]\tvalid-rmsle:0.29330\n",
      "[125]\tvalid-rmsle:0.29330\n",
      "[126]\tvalid-rmsle:0.29329\n",
      "[127]\tvalid-rmsle:0.29329\n",
      "[128]\tvalid-rmsle:0.29329\n",
      "[129]\tvalid-rmsle:0.29328\n",
      "[130]\tvalid-rmsle:0.29328\n",
      "[131]\tvalid-rmsle:0.29328\n",
      "[132]\tvalid-rmsle:0.29327\n",
      "[133]\tvalid-rmsle:0.29327\n",
      "[134]\tvalid-rmsle:0.29327\n",
      "[135]\tvalid-rmsle:0.29327\n",
      "[136]\tvalid-rmsle:0.29326\n",
      "[137]\tvalid-rmsle:0.29326\n",
      "[138]\tvalid-rmsle:0.29326\n",
      "[139]\tvalid-rmsle:0.29326\n",
      "[140]\tvalid-rmsle:0.29325\n",
      "[141]\tvalid-rmsle:0.29325\n",
      "[142]\tvalid-rmsle:0.29325\n",
      "[143]\tvalid-rmsle:0.29325\n",
      "[144]\tvalid-rmsle:0.29325\n",
      "[145]\tvalid-rmsle:0.29325\n",
      "[146]\tvalid-rmsle:0.29324\n",
      "[147]\tvalid-rmsle:0.29324\n",
      "[148]\tvalid-rmsle:0.29324\n",
      "[149]\tvalid-rmsle:0.29324\n",
      "[150]\tvalid-rmsle:0.29323\n",
      "[151]\tvalid-rmsle:0.29323\n",
      "[152]\tvalid-rmsle:0.29322\n",
      "[153]\tvalid-rmsle:0.29322\n",
      "[154]\tvalid-rmsle:0.29322\n",
      "[155]\tvalid-rmsle:0.29322\n",
      "[156]\tvalid-rmsle:0.29322\n",
      "[157]\tvalid-rmsle:0.29322\n",
      "[158]\tvalid-rmsle:0.29322\n",
      "[159]\tvalid-rmsle:0.29322\n",
      "[160]\tvalid-rmsle:0.29322\n",
      "[161]\tvalid-rmsle:0.29321\n",
      "[162]\tvalid-rmsle:0.29321\n",
      "[163]\tvalid-rmsle:0.29321\n",
      "[164]\tvalid-rmsle:0.29321\n",
      "[165]\tvalid-rmsle:0.29321\n",
      "[166]\tvalid-rmsle:0.29321\n",
      "[167]\tvalid-rmsle:0.29321\n",
      "[168]\tvalid-rmsle:0.29320\n",
      "[169]\tvalid-rmsle:0.29320\n",
      "[170]\tvalid-rmsle:0.29320\n",
      "[171]\tvalid-rmsle:0.29320\n",
      "[172]\tvalid-rmsle:0.29320\n",
      "[173]\tvalid-rmsle:0.29320\n",
      "[174]\tvalid-rmsle:0.29320\n",
      "[175]\tvalid-rmsle:0.29320\n",
      "[176]\tvalid-rmsle:0.29319\n",
      "[177]\tvalid-rmsle:0.29320\n",
      "[178]\tvalid-rmsle:0.29319\n",
      "[179]\tvalid-rmsle:0.29319\n",
      "[180]\tvalid-rmsle:0.29319\n",
      "[181]\tvalid-rmsle:0.29319\n",
      "[182]\tvalid-rmsle:0.29319\n",
      "[183]\tvalid-rmsle:0.29319\n",
      "[184]\tvalid-rmsle:0.29318\n",
      "[185]\tvalid-rmsle:0.29318\n",
      "[186]\tvalid-rmsle:0.29318\n",
      "[187]\tvalid-rmsle:0.29318\n",
      "[188]\tvalid-rmsle:0.29318\n",
      "[189]\tvalid-rmsle:0.29318\n",
      "[190]\tvalid-rmsle:0.29318\n",
      "[191]\tvalid-rmsle:0.29318\n",
      "[192]\tvalid-rmsle:0.29318\n",
      "[193]\tvalid-rmsle:0.29317\n",
      "[194]\tvalid-rmsle:0.29317\n",
      "[195]\tvalid-rmsle:0.29317\n",
      "[196]\tvalid-rmsle:0.29317\n",
      "[197]\tvalid-rmsle:0.29317\n",
      "[198]\tvalid-rmsle:0.29317\n",
      "[199]\tvalid-rmsle:0.29317\n",
      "[200]\tvalid-rmsle:0.29317\n",
      "[201]\tvalid-rmsle:0.29317\n",
      "[202]\tvalid-rmsle:0.29317\n",
      "[203]\tvalid-rmsle:0.29317\n",
      "[204]\tvalid-rmsle:0.29317\n",
      "[205]\tvalid-rmsle:0.29317\n",
      "[206]\tvalid-rmsle:0.29316\n",
      "[207]\tvalid-rmsle:0.29316\n",
      "[208]\tvalid-rmsle:0.29316\n",
      "[209]\tvalid-rmsle:0.29316\n",
      "[210]\tvalid-rmsle:0.29316\n",
      "[211]\tvalid-rmsle:0.29316\n",
      "[212]\tvalid-rmsle:0.29315\n",
      "[213]\tvalid-rmsle:0.29316\n",
      "[214]\tvalid-rmsle:0.29315\n",
      "[215]\tvalid-rmsle:0.29315\n",
      "[216]\tvalid-rmsle:0.29315\n",
      "[217]\tvalid-rmsle:0.29315\n",
      "[218]\tvalid-rmsle:0.29315\n",
      "[219]\tvalid-rmsle:0.29315\n",
      "[220]\tvalid-rmsle:0.29315\n",
      "[221]\tvalid-rmsle:0.29315\n",
      "[222]\tvalid-rmsle:0.29315\n",
      "[223]\tvalid-rmsle:0.29315\n",
      "[224]\tvalid-rmsle:0.29315\n",
      "[225]\tvalid-rmsle:0.29315\n",
      "[226]\tvalid-rmsle:0.29315\n",
      "[227]\tvalid-rmsle:0.29315\n",
      "[228]\tvalid-rmsle:0.29315\n",
      "[229]\tvalid-rmsle:0.29315\n",
      "[230]\tvalid-rmsle:0.29315\n",
      "[231]\tvalid-rmsle:0.29314\n",
      "[232]\tvalid-rmsle:0.29314\n",
      "[233]\tvalid-rmsle:0.29314\n",
      "[234]\tvalid-rmsle:0.29314\n",
      "[235]\tvalid-rmsle:0.29314\n",
      "[236]\tvalid-rmsle:0.29314\n",
      "[237]\tvalid-rmsle:0.29314\n",
      "[238]\tvalid-rmsle:0.29314\n",
      "[239]\tvalid-rmsle:0.29314\n",
      "[240]\tvalid-rmsle:0.29314\n",
      "[241]\tvalid-rmsle:0.29313\n",
      "[242]\tvalid-rmsle:0.29314\n",
      "[243]\tvalid-rmsle:0.29314\n",
      "[244]\tvalid-rmsle:0.29313\n",
      "[245]\tvalid-rmsle:0.29313\n",
      "[246]\tvalid-rmsle:0.29313\n",
      "[247]\tvalid-rmsle:0.29313\n",
      "[248]\tvalid-rmsle:0.29313\n",
      "[249]\tvalid-rmsle:0.29313\n",
      "[250]\tvalid-rmsle:0.29313\n",
      "[251]\tvalid-rmsle:0.29313\n",
      "[252]\tvalid-rmsle:0.29313\n",
      "[253]\tvalid-rmsle:0.29313\n",
      "[254]\tvalid-rmsle:0.29313\n",
      "[255]\tvalid-rmsle:0.29313\n",
      "[256]\tvalid-rmsle:0.29313\n",
      "[257]\tvalid-rmsle:0.29313\n",
      "[258]\tvalid-rmsle:0.29313\n",
      "[259]\tvalid-rmsle:0.29313\n",
      "[260]\tvalid-rmsle:0.29313\n",
      "[261]\tvalid-rmsle:0.29313\n",
      "[262]\tvalid-rmsle:0.29313\n",
      "[263]\tvalid-rmsle:0.29313\n",
      "[264]\tvalid-rmsle:0.29313\n",
      "[265]\tvalid-rmsle:0.29313\n",
      "[266]\tvalid-rmsle:0.29312\n",
      "[267]\tvalid-rmsle:0.29312\n",
      "[268]\tvalid-rmsle:0.29312\n",
      "[269]\tvalid-rmsle:0.29312\n",
      "[270]\tvalid-rmsle:0.29312\n",
      "[271]\tvalid-rmsle:0.29312\n",
      "[272]\tvalid-rmsle:0.29312\n",
      "[273]\tvalid-rmsle:0.29312\n",
      "[274]\tvalid-rmsle:0.29312\n",
      "[275]\tvalid-rmsle:0.29312\n",
      "[276]\tvalid-rmsle:0.29312\n",
      "[277]\tvalid-rmsle:0.29312\n",
      "[278]\tvalid-rmsle:0.29312\n",
      "[279]\tvalid-rmsle:0.29312\n",
      "[280]\tvalid-rmsle:0.29312\n",
      "[281]\tvalid-rmsle:0.29312\n",
      "[282]\tvalid-rmsle:0.29312\n",
      "[283]\tvalid-rmsle:0.29312\n",
      "[284]\tvalid-rmsle:0.29312\n",
      "[285]\tvalid-rmsle:0.29312\n",
      "[286]\tvalid-rmsle:0.29312\n",
      "[287]\tvalid-rmsle:0.29312\n",
      "[288]\tvalid-rmsle:0.29312\n",
      "[289]\tvalid-rmsle:0.29312\n",
      "[290]\tvalid-rmsle:0.29312\n",
      "[291]\tvalid-rmsle:0.29312\n",
      "[292]\tvalid-rmsle:0.29312\n",
      "[293]\tvalid-rmsle:0.29312\n",
      "[294]\tvalid-rmsle:0.29312\n",
      "[295]\tvalid-rmsle:0.29312\n",
      "[296]\tvalid-rmsle:0.29312\n",
      "[297]\tvalid-rmsle:0.29312\n",
      "[298]\tvalid-rmsle:0.29312\n",
      "[299]\tvalid-rmsle:0.29312\n",
      "[300]\tvalid-rmsle:0.29312\n",
      "[301]\tvalid-rmsle:0.29312\n",
      "[302]\tvalid-rmsle:0.29312\n",
      "[303]\tvalid-rmsle:0.29312\n",
      "[304]\tvalid-rmsle:0.29311\n",
      "[305]\tvalid-rmsle:0.29311\n",
      "[306]\tvalid-rmsle:0.29311\n",
      "[307]\tvalid-rmsle:0.29312\n",
      "[308]\tvalid-rmsle:0.29312\n",
      "[309]\tvalid-rmsle:0.29311\n",
      "[310]\tvalid-rmsle:0.29312\n",
      "[311]\tvalid-rmsle:0.29312\n",
      "[312]\tvalid-rmsle:0.29311\n",
      "[313]\tvalid-rmsle:0.29311\n",
      "[314]\tvalid-rmsle:0.29311\n",
      "[315]\tvalid-rmsle:0.29311\n",
      "[316]\tvalid-rmsle:0.29311\n",
      "[317]\tvalid-rmsle:0.29311\n",
      "[318]\tvalid-rmsle:0.29311\n",
      "[319]\tvalid-rmsle:0.29311\n",
      "[320]\tvalid-rmsle:0.29311\n",
      "[321]\tvalid-rmsle:0.29311\n",
      "[322]\tvalid-rmsle:0.29311\n",
      "[323]\tvalid-rmsle:0.29311\n",
      "[324]\tvalid-rmsle:0.29311\n",
      "[325]\tvalid-rmsle:0.29311\n",
      "[326]\tvalid-rmsle:0.29311\n",
      "[327]\tvalid-rmsle:0.29311\n",
      "[328]\tvalid-rmsle:0.29311\n",
      "[329]\tvalid-rmsle:0.29311\n",
      "[330]\tvalid-rmsle:0.29311\n",
      "[331]\tvalid-rmsle:0.29311\n",
      "[332]\tvalid-rmsle:0.29311\n",
      "[333]\tvalid-rmsle:0.29311\n",
      "[334]\tvalid-rmsle:0.29311\n",
      "[335]\tvalid-rmsle:0.29311\n",
      "[336]\tvalid-rmsle:0.29311\n",
      "[337]\tvalid-rmsle:0.29311\n",
      "[338]\tvalid-rmsle:0.29311\n",
      "[339]\tvalid-rmsle:0.29311\n",
      "[340]\tvalid-rmsle:0.29311\n",
      "[341]\tvalid-rmsle:0.29311\n",
      "[342]\tvalid-rmsle:0.29311\n",
      "[343]\tvalid-rmsle:0.29311\n",
      "[344]\tvalid-rmsle:0.29311\n",
      "[345]\tvalid-rmsle:0.29311\n",
      "[346]\tvalid-rmsle:0.29311\n",
      "[347]\tvalid-rmsle:0.29311\n",
      "[348]\tvalid-rmsle:0.29311\n",
      "[349]\tvalid-rmsle:0.29311\n",
      "[350]\tvalid-rmsle:0.29311\n",
      "[351]\tvalid-rmsle:0.29311\n",
      "[352]\tvalid-rmsle:0.29311\n",
      "[353]\tvalid-rmsle:0.29311\n",
      "[354]\tvalid-rmsle:0.29311\n",
      "[355]\tvalid-rmsle:0.29311\n",
      "[356]\tvalid-rmsle:0.29311\n",
      "[357]\tvalid-rmsle:0.29311\n",
      "[358]\tvalid-rmsle:0.29311\n",
      "[359]\tvalid-rmsle:0.29311\n",
      "[360]\tvalid-rmsle:0.29311\n",
      "[361]\tvalid-rmsle:0.29311\n",
      "[362]\tvalid-rmsle:0.29311\n",
      "[363]\tvalid-rmsle:0.29311\n",
      "[364]\tvalid-rmsle:0.29311\n",
      "[365]\tvalid-rmsle:0.29311\n",
      "[366]\tvalid-rmsle:0.29311\n",
      "[367]\tvalid-rmsle:0.29311\n",
      "[368]\tvalid-rmsle:0.29311\n",
      "[369]\tvalid-rmsle:0.29310\n",
      "[370]\tvalid-rmsle:0.29310\n",
      "[371]\tvalid-rmsle:0.29311\n",
      "[372]\tvalid-rmsle:0.29311\n",
      "[373]\tvalid-rmsle:0.29310\n",
      "[374]\tvalid-rmsle:0.29311\n",
      "[375]\tvalid-rmsle:0.29311\n",
      "[376]\tvalid-rmsle:0.29310\n",
      "[377]\tvalid-rmsle:0.29310\n",
      "[378]\tvalid-rmsle:0.29310\n",
      "[379]\tvalid-rmsle:0.29310\n",
      "[380]\tvalid-rmsle:0.29310\n",
      "[381]\tvalid-rmsle:0.29310\n",
      "[382]\tvalid-rmsle:0.29310\n",
      "[383]\tvalid-rmsle:0.29310\n",
      "[384]\tvalid-rmsle:0.29310\n",
      "[385]\tvalid-rmsle:0.29310\n",
      "[386]\tvalid-rmsle:0.29310\n",
      "[387]\tvalid-rmsle:0.29310\n",
      "[388]\tvalid-rmsle:0.29310\n",
      "[389]\tvalid-rmsle:0.29310\n",
      "[390]\tvalid-rmsle:0.29310\n",
      "[391]\tvalid-rmsle:0.29310\n",
      "[392]\tvalid-rmsle:0.29310\n",
      "[393]\tvalid-rmsle:0.29310\n",
      "[394]\tvalid-rmsle:0.29310\n",
      "[395]\tvalid-rmsle:0.29310\n",
      "[396]\tvalid-rmsle:0.29310\n",
      "[397]\tvalid-rmsle:0.29310\n",
      "[398]\tvalid-rmsle:0.29310\n",
      "[399]\tvalid-rmsle:0.29310\n",
      "[400]\tvalid-rmsle:0.29310\n",
      "[401]\tvalid-rmsle:0.29310\n",
      "[402]\tvalid-rmsle:0.29310\n",
      "[403]\tvalid-rmsle:0.29310\n",
      "[404]\tvalid-rmsle:0.29310\n",
      "[405]\tvalid-rmsle:0.29310\n",
      "[406]\tvalid-rmsle:0.29310\n",
      "[407]\tvalid-rmsle:0.29310\n",
      "[408]\tvalid-rmsle:0.29310\n",
      "[409]\tvalid-rmsle:0.29310\n",
      "[410]\tvalid-rmsle:0.29310\n",
      "[411]\tvalid-rmsle:0.29310\n",
      "[412]\tvalid-rmsle:0.29310\n",
      "[413]\tvalid-rmsle:0.29310\n",
      "[414]\tvalid-rmsle:0.29310\n",
      "[415]\tvalid-rmsle:0.29310\n",
      "[416]\tvalid-rmsle:0.29310\n",
      "[417]\tvalid-rmsle:0.29310\n",
      "[418]\tvalid-rmsle:0.29310\n",
      "[419]\tvalid-rmsle:0.29310\n",
      "[420]\tvalid-rmsle:0.29310\n",
      "[421]\tvalid-rmsle:0.29310\n",
      "[422]\tvalid-rmsle:0.29310\n",
      "[423]\tvalid-rmsle:0.29310\n",
      "[424]\tvalid-rmsle:0.29310\n",
      "[425]\tvalid-rmsle:0.29310\n"
     ]
    }
   ],
   "source": [
    "# use best params in xgb.train\n",
    "model =  xgb.train(best_params, gb_train, num_boost_round = num_boost_round,\n",
    "                        evals = [(gb_valid, 'valid')], \n",
    "                        early_stopping_rounds=20, verbose_eval=True\n",
    "                       )"
   ]
  },
  {
   "attachments": {},
   "cell_type": "markdown",
   "metadata": {},
   "source": [
    "#### Getting GB Predictions"
   ]
  },
  {
   "cell_type": "code",
   "execution_count": 80,
   "metadata": {},
   "outputs": [],
   "source": [
    "xgb_preds = model.predict(xgb.DMatrix(test_xs))"
   ]
  },
  {
   "cell_type": "code",
   "execution_count": 81,
   "metadata": {},
   "outputs": [],
   "source": [
    "np.savetxt('./predictions/xgb_preds.csv', xgb_preds, delimiter=',')"
   ]
  },
  {
   "cell_type": "code",
   "execution_count": 23,
   "metadata": {},
   "outputs": [],
   "source": [
    "xgb_preds = np.loadtxt('./predictions/xgb_preds.csv', delimiter=',')"
   ]
  },
  {
   "cell_type": "code",
   "execution_count": 24,
   "metadata": {},
   "outputs": [
    {
     "data": {
      "text/plain": [
       "array([ 90.8746109 ,  94.17379761,  94.01966095, ...,  94.01966095,\n",
       "       105.49355316, 110.67835999])"
      ]
     },
     "execution_count": 24,
     "metadata": {},
     "output_type": "execute_result"
    }
   ],
   "source": [
    "xgb_preds"
   ]
  },
  {
   "attachments": {},
   "cell_type": "markdown",
   "metadata": {},
   "source": [
    "***"
   ]
  },
  {
   "attachments": {},
   "cell_type": "markdown",
   "metadata": {},
   "source": [
    "#### XGB K-Folds Cross Validation"
   ]
  },
  {
   "cell_type": "code",
   "execution_count": 84,
   "metadata": {},
   "outputs": [],
   "source": [
    "k_folds_train = False"
   ]
  },
  {
   "cell_type": "code",
   "execution_count": 85,
   "metadata": {},
   "outputs": [],
   "source": [
    "if k_folds_train == True:\n",
    "    # set the number of folds\n",
    "    num_folds = 10\n",
    "    # create empty list to store the loglosses\n",
    "    loglosses = []\n",
    "    # create empty array to store the predictions\n",
    "    k_gb_preds = np.zeros(len(to_test))\n",
    "    # create a kfold object\n",
    "    kf = KFold(n_splits=num_folds, shuffle = True, random_state = 1042)\n",
    "    # loop through each fold\n",
    "    for fold, (trn_idx, val_idx) in enumerate(kf.split(X=xs, y=y)):\n",
    "        # print the fold number\n",
    "        print('-'*20, 'Fold:', fold + 1, '-'*20)\n",
    "        # split the data into train and validation\n",
    "        X_train, X_test = train.iloc[trn_idx], train.iloc[val_idx]\n",
    "        # split the target into train and validation\n",
    "        y_train, y_test = target.iloc[trn_idx], target.iloc[val_idx]\n",
    "        \n",
    "        # create the train and validation data\n",
    "        d_train = xgb.DMatrix(X_train,y_train)\n",
    "        d_test = xgb.DMatrix(X_test,y_test)\n",
    "        \n",
    "        # train the model\n",
    "        k_gb_model =  xgb.train(best_params, d_train, num_boost_round = num_boost_round,\n",
    "                            evals = [(d_test, 'valid')], \n",
    "                            early_stopping_rounds=20, verbose_eval=True\n",
    "                        )\n",
    "    #     preds = model.predict(d_test)\n",
    "    #     logloss = metrics.log_loss(y_test, preds)\n",
    "    #     loglosses.append(logloss)\n",
    "    #     print(f'Logloss: {logloss}')\n",
    "        # predict on the test set\n",
    "        preds = k_gb_model.predict(xgb.DMatrix(test_xs))\n",
    "        # add the predictions to the final predictions array\n",
    "        k_gb_preds += preds / num_folds\n",
    "\n",
    "    # save k_gb_preds to csv\n",
    "    np.savetxt('./predictions/k_gb_preds.csv', k_gb_preds, delimiter=',')"
   ]
  },
  {
   "cell_type": "code",
   "execution_count": 15,
   "metadata": {},
   "outputs": [],
   "source": [
    "if 'k_gb_preds' not in locals():\n",
    "    k_gb_preds = np.loadtxt('./predictions/k_gb_preds.csv', delimiter=',')"
   ]
  },
  {
   "attachments": {},
   "cell_type": "markdown",
   "metadata": {},
   "source": [
    "***"
   ]
  },
  {
   "cell_type": "code",
   "execution_count": 87,
   "metadata": {},
   "outputs": [
    {
     "data": {
      "text/plain": [
       "28.092324"
      ]
     },
     "execution_count": 87,
     "metadata": {},
     "output_type": "execute_result"
    }
   ],
   "source": [
    "xgb_mse = r_mse(model.predict(gb_valid), valid_y)\n",
    "xgb_mse"
   ]
  },
  {
   "attachments": {},
   "cell_type": "markdown",
   "metadata": {},
   "source": [
    "#### Ensemble of All Predictions"
   ]
  },
  {
   "cell_type": "code",
   "execution_count": 88,
   "metadata": {},
   "outputs": [
    {
     "data": {
      "text/plain": [
       "(array([100.29254594,  90.11321236,  93.88414254, ...,  96.77864943,\n",
       "        113.79314718, 108.92474409]),\n",
       " array([ 97.58751,  98.36828,  98.02765, ...,  98.26348, 110.39424,\n",
       "        116.08539], dtype=float32),\n",
       " array([103.21230888,  73.93023109,  99.01429653, ...,  99.01429653,\n",
       "         77.44030571, 104.49899864]),\n",
       " array([ 90.8746109 ,  94.17379761,  94.01966095, ...,  94.01966095,\n",
       "        105.49355316, 110.67835999]))"
      ]
     },
     "execution_count": 88,
     "metadata": {},
     "output_type": "execute_result"
    }
   ],
   "source": [
    "rf_preds, nn_preds, k_gb_preds, xgb_preds"
   ]
  },
  {
   "cell_type": "code",
   "execution_count": 89,
   "metadata": {},
   "outputs": [],
   "source": [
    "#| export\n",
    "ens_preds = (nn_preds + rf_preds + k_gb_preds + xgb_preds) / 4"
   ]
  },
  {
   "cell_type": "code",
   "execution_count": 90,
   "metadata": {},
   "outputs": [
    {
     "data": {
      "text/plain": [
       "array([ 97.99174372,  89.14637989,  96.23643724, ...,  97.01902201,\n",
       "       101.78031185, 110.04687273])"
      ]
     },
     "execution_count": 90,
     "metadata": {},
     "output_type": "execute_result"
    }
   ],
   "source": [
    "ens_preds"
   ]
  },
  {
   "cell_type": "code",
   "execution_count": 91,
   "metadata": {},
   "outputs": [],
   "source": [
    "#| export\n",
    "sample_df = pd.read_csv(path/'sample_submission.csv')\n",
    "sample_df['cost'] = ens_preds\n",
    "sample_df.to_csv('submission.csv', index=False)"
   ]
  },
  {
   "cell_type": "code",
   "execution_count": 92,
   "metadata": {},
   "outputs": [
    {
     "name": "stdout",
     "output_type": "stream",
     "text": [
      "id,cost\n",
      "360336,97.99174372098629\n",
      "360337,89.1463798919223\n",
      "360338,96.23643723632468\n",
      "360339,94.19042454748141\n",
      "360340,81.41819545600084\n",
      "360341,99.18837650376445\n",
      "360342,99.43824432657357\n",
      "360343,88.6890326355393\n",
      "360344,88.93474951696624\n"
     ]
    }
   ],
   "source": [
    "!head submission.csv"
   ]
  },
  {
   "cell_type": "code",
   "execution_count": 93,
   "metadata": {},
   "outputs": [],
   "source": [
    "new_sub_nums = sample_df['cost'].to_numpy()"
   ]
  },
  {
   "cell_type": "code",
   "execution_count": 94,
   "metadata": {},
   "outputs": [],
   "source": [
    "benchmark_df = pd.read_csv('benchmark_submission.csv')"
   ]
  },
  {
   "cell_type": "code",
   "execution_count": 95,
   "metadata": {},
   "outputs": [],
   "source": [
    "benchmark_nums = benchmark_df['cost'].to_numpy()"
   ]
  },
  {
   "cell_type": "code",
   "execution_count": 96,
   "metadata": {},
   "outputs": [
    {
     "data": {
      "text/plain": [
       "2.134206350495986"
      ]
     },
     "execution_count": 96,
     "metadata": {},
     "output_type": "execute_result"
    }
   ],
   "source": [
    "# find the average difference between the new and old submission numbers\n",
    "diffs = np.mean(np.abs(new_sub_nums - benchmark_nums))\n",
    "diffs\n"
   ]
  },
  {
   "cell_type": "code",
   "execution_count": 97,
   "metadata": {},
   "outputs": [],
   "source": [
    "submit = True"
   ]
  },
  {
   "cell_type": "code",
   "execution_count": 98,
   "metadata": {},
   "outputs": [
    {
     "name": "stdout",
     "output_type": "stream",
     "text": [
      "Warning: Looks like you're using an outdated API Version, please consider updating (server 1.5.13 / client 1.5.12)\n"
     ]
    },
    {
     "name": "stderr",
     "output_type": "stream",
     "text": [
      "100%|██████████| 5.77M/5.77M [00:02<00:00, 2.30MB/s]\n"
     ]
    }
   ],
   "source": [
    "if not iskaggle and submit:\n",
    "    from kaggle import api\n",
    "    api.competition_submit_cli(file_name='submission.csv', message=\"drop id column\", competition=comp)"
   ]
  },
  {
   "cell_type": "code",
   "execution_count": 99,
   "metadata": {},
   "outputs": [
    {
     "name": "stdout",
     "output_type": "stream",
     "text": [
      "export successful\n"
     ]
    }
   ],
   "source": [
    "import nbdev\n",
    "nbdev.export.nb_export('media_campaign_cost_boost.ipynb', 'app_v3')\n",
    "print(\"export successful\")"
   ]
  }
 ],
 "metadata": {
  "kernelspec": {
   "display_name": "base",
   "language": "python",
   "name": "python3"
  },
  "language_info": {
   "codemirror_mode": {
    "name": "ipython",
    "version": 3
   },
   "file_extension": ".py",
   "mimetype": "text/x-python",
   "name": "python",
   "nbconvert_exporter": "python",
   "pygments_lexer": "ipython3",
   "version": "3.10.6"
  },
  "orig_nbformat": 4,
  "vscode": {
   "interpreter": {
    "hash": "f4702a165a03ade35e40e0221d250a3a44a346cfc16a49ce6d051d1595069b46"
   }
  }
 },
 "nbformat": 4,
 "nbformat_minor": 2
}
